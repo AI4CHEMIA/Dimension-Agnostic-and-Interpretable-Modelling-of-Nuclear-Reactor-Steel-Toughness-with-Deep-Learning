{
 "cells": [
  {
   "cell_type": "code",
   "execution_count": null,
   "id": "0a99f598",
   "metadata": {},
   "outputs": [],
   "source": [
    "TRAIN_CSV_PATH='/kaggle/input/ksu-july-dataset/train_feat.csv'\n",
    "TEST_CSV_PATH='/kaggle/input/ksu-july-dataset/test_feat.csv'\n",
    "\n"
   ]
  },
  {
   "cell_type": "code",
   "execution_count": 1,
   "id": "99d07cc0",
   "metadata": {
    "execution": {
     "iopub.execute_input": "2025-09-19T12:26:45.847566Z",
     "iopub.status.busy": "2025-09-19T12:26:45.847270Z",
     "iopub.status.idle": "2025-09-19T12:26:45.855697Z",
     "shell.execute_reply": "2025-09-19T12:26:45.855060Z"
    },
    "papermill": {
     "duration": 0.014733,
     "end_time": "2025-09-19T12:26:45.857194",
     "exception": false,
     "start_time": "2025-09-19T12:26:45.842461",
     "status": "completed"
    },
    "tags": []
   },
   "outputs": [],
   "source": [
    "import numpy as np\n",
    "\n",
    "def median_absolute_percentage_error(y_true, y_pred, *, sample_weight=None, multioutput=\"uniform_average\"):\n",
    "    \"\"\"\n",
    "    Median absolute percentage error regression loss.\n",
    "    Compatible with sklearn-style usage.\n",
    "    \"\"\"\n",
    "    y_true = np.array(y_true, dtype=np.float64).ravel()\n",
    "    y_pred = np.array(y_pred, dtype=np.float64).ravel()\n",
    "\n",
    "    # avoid division by zero\n",
    "    nonzero_mask = y_true != 0\n",
    "    if not np.any(nonzero_mask):\n",
    "        raise ValueError(\"All y_true values are zero; MAPE cannot be calculated.\")\n",
    "\n",
    "    errors = np.abs((y_true[nonzero_mask] - y_pred[nonzero_mask]) / y_true[nonzero_mask])\n",
    "\n",
    "    return np.median(errors)\n"
   ]
  },
  {
   "cell_type": "code",
   "execution_count": 2,
   "id": "6460222c",
   "metadata": {
    "_cell_guid": "b1076dfc-b9ad-4769-8c92-a6c4dae69d19",
    "_uuid": "8f2839f25d086af736a60e9eeb907d3b93b6e0e5",
    "execution": {
     "iopub.execute_input": "2025-09-19T12:26:45.865534Z",
     "iopub.status.busy": "2025-09-19T12:26:45.865205Z",
     "iopub.status.idle": "2025-09-19T12:26:58.104047Z",
     "shell.execute_reply": "2025-09-19T12:26:58.103142Z"
    },
    "papermill": {
     "duration": 12.244909,
     "end_time": "2025-09-19T12:26:58.105703",
     "exception": false,
     "start_time": "2025-09-19T12:26:45.860794",
     "status": "completed"
    },
    "tags": []
   },
   "outputs": [],
   "source": [
    "import random\n",
    "import joblib  \n",
    "from itertools import product\n",
    "from pathlib import Path\n",
    "\n",
    "import numpy as np\n",
    "import pandas as pd\n",
    "\n",
    "import shap\n",
    "from sklearn.model_selection import KFold\n",
    "from sklearn.metrics import mean_absolute_error\n",
    "from sklearn.metrics import mean_absolute_error,r2_score,mean_absolute_percentage_error\n",
    "from tqdm import tqdm\n",
    "\n",
    "import optuna\n",
    "import matplotlib.pyplot as plt\n",
    "import pandas as pd\n",
    "import seaborn as sns\n",
    "from sklearn.datasets import load_diabetes\n",
    "from sklearn.ensemble import RandomForestRegressor, ExtraTreesRegressor\n",
    "from sklearn.metrics import mean_absolute_error\n",
    "from sklearn.model_selection import KFold\n",
    "from xgboost import XGBRegressor\n",
    "from sklearn.preprocessing import StandardScaler\n",
    "\n",
    "\n",
    "# ====== Storage for plotting ======\n",
    "history = []\n",
    "\n",
    "# ====== Objective ======\n",
    "\n",
    "\n",
    "def xgb_objective(trial):\n",
    "    # Extensive hyperparameter space\n",
    "    params = {\n",
    "        \"objective\": \"reg:squarederror\",\n",
    "        \"eval_metric\": \"mae\",\n",
    "        \"booster\": trial.suggest_categorical(\"booster\", [\"gbtree\", \"dart\"]),\n",
    "        \n",
    "        # Tree structure parameters\n",
    "        \"max_depth\": trial.suggest_int(\"max_depth\", 3, 15),\n",
    "        \"min_child_weight\": trial.suggest_int(\"min_child_weight\", 1, 15),\n",
    "        \"gamma\": trial.suggest_float(\"gamma\", 0, 10, step=0.5),\n",
    "        \n",
    "        # Learning rate and estimators\n",
    "        \"learning_rate\": trial.suggest_float(\"learning_rate\", 1e-4, 0.3, log=True),\n",
    "        \"n_estimators\": trial.suggest_int(\"n_estimators\", 300, 3000, step=100),\n",
    "        \n",
    "        # Subsampling parameters\n",
    "        \"subsample\": trial.suggest_float(\"subsample\", 0.5, 1.0, step=0.05),\n",
    "        \"colsample_bytree\": trial.suggest_float(\"colsample_bytree\", 0.5, 1.0, step=0.05),\n",
    "        \"colsample_bylevel\": trial.suggest_float(\"colsample_bylevel\", 0.5, 1.0, step=0.05),\n",
    "        \"colsample_bynode\": trial.suggest_float(\"colsample_bynode\", 0.5, 1.0, step=0.05),\n",
    "        \n",
    "        # Regularization parameters\n",
    "        \"reg_alpha\": trial.suggest_float(\"reg_alpha\", 1e-8, 10.0, log=True),\n",
    "        \"reg_lambda\": trial.suggest_float(\"reg_lambda\", 1e-8, 10.0, log=True),\n",
    "        \n",
    "        # DART-specific parameters\n",
    "        \"sample_type\": trial.suggest_categorical(\"sample_type\", [\"uniform\", \"weighted\"]),\n",
    "        \"normalize_type\": trial.suggest_categorical(\"normalize_type\", [\"tree\", \"forest\"]),\n",
    "        \"rate_drop\": trial.suggest_float(\"rate_drop\", 0.0, 0.5, step=0.05),\n",
    "        \"skip_drop\": trial.suggest_float(\"skip_drop\", 0.0, 0.9, step=0.1),\n",
    "    }\n",
    "    \n",
    "    # Data prep\n",
    "    y_train_np = y_train.values\n",
    "    y_val_np = y_val.values\n",
    "    X_train_np = X_train.values\n",
    "    X_val_np = X_val.values\n",
    "\n",
    "    scaler = StandardScaler()\n",
    "    X_train_np = scaler.fit_transform(X_train_np)\n",
    "    X_val_np = scaler.transform(X_val_np)\n",
    "    \n",
    "    # Model training\n",
    "    model = XGBRegressor(**params, random_state=42, n_jobs=-1)\n",
    "    model.fit(\n",
    "        X_train_np, y_train_np,\n",
    "        eval_set=[(X_val_np, y_val_np)],\n",
    "        early_stopping_rounds=100,\n",
    "        verbose=False\n",
    "    )\n",
    "    \n",
    "    # Validation MAE\n",
    "    y_val_pred = model.predict(X_val_np)\n",
    "    val_mae = mean_absolute_error(y_val_np, y_val_pred)\n",
    "    \n",
    "    # Training MAE\n",
    "    y_train_pred = model.predict(X_train_np)\n",
    "    train_mae = mean_absolute_error(y_train_np, y_train_pred)\n",
    "    \n",
    "    # Log results\n",
    "    history.append({\n",
    "        **params,\n",
    "        \"val_mae\": val_mae,\n",
    "        \"train_mae\": train_mae\n",
    "    })\n",
    "    \n",
    "    return val_mae\n",
    "\n",
    "# ====== Objective ======\n",
    "from sklearn.ensemble import RandomForestRegressor\n",
    "from sklearn.preprocessing import StandardScaler\n",
    "from sklearn.metrics import mean_absolute_error\n",
    "\n",
    "def rf_objective(trial):\n",
    "    # Extensive hyperparameter search space\n",
    "    params = {\n",
    "        \"n_estimators\": trial.suggest_int(\"n_estimators\", 50, 1000, step=100),\n",
    "        \"max_depth\": trial.suggest_int(\"max_depth\", 2, 100),  # deeper search\n",
    "        \"min_samples_split\": trial.suggest_int(\"min_samples_split\", 2, 50),\n",
    "        \"min_samples_leaf\": trial.suggest_int(\"min_samples_leaf\", 1, 20),\n",
    "        \"min_weight_fraction_leaf\": trial.suggest_float(\"min_weight_fraction_leaf\", 0.0, 0.5, step=0.05),\n",
    "        \"max_features\": trial.suggest_categorical(\"max_features\", [\"sqrt\", \"log2\", None, 0.2, 0.5, 0.8]),\n",
    "        \"bootstrap\": trial.suggest_categorical(\"bootstrap\", [True]),\n",
    "        \"max_samples\": trial.suggest_float(\"max_samples\", 0.3, 1.0, step=0.05),\n",
    "        \"oob_score\": trial.suggest_categorical(\"oob_score\", [True, False]),\n",
    "        \"min_impurity_decrease\": trial.suggest_float(\"min_impurity_decrease\", 0.0, 1.0, step=0.01),\n",
    "        \"ccp_alpha\": trial.suggest_float(\"ccp_alpha\", 0.0, 0.05, step=0.001)  # complexity pruning\n",
    "    }\n",
    "\n",
    "    # Prepare data\n",
    "    y_train_np = y_train.values\n",
    "    y_val_np = y_val.values\n",
    "    X_train_np = X_train.values\n",
    "    X_val_np = X_val.values\n",
    "\n",
    "    scaler = StandardScaler()\n",
    "    X_train_np = scaler.fit_transform(X_train_np)\n",
    "    X_val_np = scaler.transform(X_val_np)\n",
    "    \n",
    "    # Train model\n",
    "    rf_model = RandomForestRegressor(\n",
    "        **{k: v for k, v in params.items() if v is not None},\n",
    "        random_state=42, n_jobs=-1\n",
    "    )\n",
    "    rf_model.fit(X_train_np, y_train_np)\n",
    "    \n",
    "    # Predictions\n",
    "    y_val_pred = rf_model.predict(X_val_np)\n",
    "    val_mae = mean_absolute_error(y_val_np, y_val_pred)\n",
    "    \n",
    "    y_train_pred = rf_model.predict(X_train_np)\n",
    "    train_mae = mean_absolute_error(y_train_np, y_train_pred)\n",
    "    \n",
    "    # Log results\n",
    "    history.append({\n",
    "        **params,\n",
    "        \"val_mae\": val_mae,\n",
    "        \"train_mae\": train_mae\n",
    "    })\n",
    "    \n",
    "    return val_mae\n",
    "\n",
    "\n",
    "from sklearn.ensemble import ExtraTreesRegressor\n",
    "from sklearn.preprocessing import StandardScaler\n",
    "from sklearn.metrics import mean_absolute_error\n",
    "\n",
    "def etr_objective(trial):\n",
    "    # Extensive hyperparameter search space\n",
    "    params = {\n",
    "        \"n_estimators\": trial.suggest_int(\"n_estimators\", 200, 1000, step=100),\n",
    "        \"max_depth\": trial.suggest_int(\"max_depth\", 2, 100),  # allow shallow to very deep\n",
    "        \"min_samples_split\": trial.suggest_int(\"min_samples_split\", 2, 50),\n",
    "        \"min_samples_leaf\": trial.suggest_int(\"min_samples_leaf\", 1, 20),\n",
    "        \"min_weight_fraction_leaf\": trial.suggest_float(\"min_weight_fraction_leaf\", 0.0, 0.5, step=0.05),\n",
    "        \"max_features\": trial.suggest_categorical(\n",
    "            \"max_features\", [\"sqrt\", \"log2\", None, 0.2, 0.5, 0.8]\n",
    "        ),\n",
    "        \"bootstrap\": trial.suggest_categorical(\"bootstrap\", [True]),\n",
    "        \"max_samples\": trial.suggest_float(\"max_samples\", 0.3, 1.0, step=0.05)\n",
    "                       if trial.suggest_categorical(\"bootstrap_for_max_samples\", [True, False]) else None,\n",
    "        \"min_impurity_decrease\": trial.suggest_float(\"min_impurity_decrease\", 0.0, 1.0, step=0.01),\n",
    "        \"ccp_alpha\": trial.suggest_float(\"ccp_alpha\", 0.0, 0.05, step=0.001)\n",
    "    }\n",
    "    params[\"oob_score\"] = params[\"bootstrap\"]\n",
    "\n",
    "    # Prepare data\n",
    "    y_train_np = y_train.values\n",
    "    y_val_np = y_val.values\n",
    "    X_train_np = X_train.values\n",
    "    X_val_np = X_val.values\n",
    "\n",
    "    scaler = StandardScaler()\n",
    "    X_train_np = scaler.fit_transform(X_train_np)\n",
    "    X_val_np = scaler.transform(X_val_np)\n",
    "    \n",
    "    # Train model\n",
    "    etr_model = ExtraTreesRegressor(\n",
    "        **{k: v for k, v in params.items() if v is not None},\n",
    "        random_state=42, n_jobs=-1\n",
    "    )\n",
    "    etr_model.fit(X_train_np, y_train_np)\n",
    "    \n",
    "    # Predictions\n",
    "    y_val_pred = etr_model.predict(X_val_np)\n",
    "    val_mae = mean_absolute_error(y_val_np, y_val_pred)\n",
    "    \n",
    "    y_train_pred = etr_model.predict(X_train_np)\n",
    "    train_mae = mean_absolute_error(y_train_np, y_train_pred)\n",
    "    \n",
    "    # Log results\n",
    "    history.append({\n",
    "        **params,\n",
    "        \"val_mae\": val_mae,\n",
    "        \"train_mae\": train_mae\n",
    "    })\n",
    "    \n",
    "    return val_mae\n",
    "\n",
    "\n"
   ]
  },
  {
   "cell_type": "code",
   "execution_count": 3,
   "id": "25a43345",
   "metadata": {
    "execution": {
     "iopub.execute_input": "2025-09-19T12:26:58.113410Z",
     "iopub.status.busy": "2025-09-19T12:26:58.112936Z",
     "iopub.status.idle": "2025-09-19T12:26:58.119572Z",
     "shell.execute_reply": "2025-09-19T12:26:58.118765Z"
    },
    "papermill": {
     "duration": 0.012033,
     "end_time": "2025-09-19T12:26:58.120977",
     "exception": false,
     "start_time": "2025-09-19T12:26:58.108944",
     "status": "completed"
    },
    "tags": []
   },
   "outputs": [],
   "source": [
    "from sklearn.preprocessing import StandardScaler\n",
    "from sklearn.metrics import mean_absolute_error, mean_absolute_percentage_error, r2_score\n",
    "import torch\n",
    "import numpy as np\n",
    "\n",
    "def score_generator(X, y, model, res_type, device=\"cpu\", is_torch=False):\n",
    "    # Standardize using training set statistics\n",
    "    scaler = StandardScaler()\n",
    "    scaler.fit(X_train)  # Fit only on training data\n",
    "\n",
    "    y_np = y.values.reshape(-1, 1)\n",
    "    X_np = X.values\n",
    "    X_np = scaler.transform(X_np)\n",
    "\n",
    "    y_pred = model.predict(X_np)  # already NumPy\n",
    "\n",
    "    # Metrics\n",
    "    mae = mean_absolute_error(y_np, y_pred)\n",
    "    mape = median_absolute_percentage_error(y_np, y_pred)\n",
    "    r2 = r2_score(y_np, y_pred)\n",
    "\n",
    "    # Print results\n",
    "    print(f\"{res_type}\")\n",
    "    print(f\"Mean Absolute Error (MAE): {mae:.4f}\")\n",
    "    print(f\"Median Absolute Percentage Error (MAPE): {mape:.4f}\")\n",
    "    print(f\"R2 Score: {r2:.4f}\")\n",
    "    print(\"=\" * 25)"
   ]
  },
  {
   "cell_type": "code",
   "execution_count": 4,
   "id": "dad7e631",
   "metadata": {
    "execution": {
     "iopub.execute_input": "2025-09-19T12:26:58.128793Z",
     "iopub.status.busy": "2025-09-19T12:26:58.128490Z",
     "iopub.status.idle": "2025-09-19T12:26:58.153330Z",
     "shell.execute_reply": "2025-09-19T12:26:58.152442Z"
    },
    "papermill": {
     "duration": 0.030719,
     "end_time": "2025-09-19T12:26:58.154885",
     "exception": false,
     "start_time": "2025-09-19T12:26:58.124166",
     "status": "completed"
    },
    "tags": []
   },
   "outputs": [],
   "source": [
    "import numpy as np\n",
    "def featurizer(train_df,test_df):\n",
    "    # Compute derived features for alloy analysis\n",
    "    train_df[\"W/L\"]=train_df[\"Width (mm)\"]/train_df[\"Length (mm)\"]\n",
    "    train_df[\"L/T\"]=train_df[\"Length (mm)\"]/train_df[\"Thickness (mm)\"]\n",
    "    train_df[\"W/T\"]=train_df[\"Thickness (mm)\"]/train_df[\"Width (mm)\"]\n",
    "    train_df[\"Total_Alloy_wt\"] = train_df[[\n",
    "        \"C, wt.%\", \"Si, wt.%\", \"Mn, wt.%\", \"P, wt.%\", \"S, wt.%\",\n",
    "        \"Ni, wt.%\", \"Cr, wt.%\", \"Mo, wt.%\", \"Al, wt.%\", \"N, wt.%\",\n",
    "        \"Ti, wt.%\", \"Nb, wt.%\", \"B, wt.%\", \"Cu, wt.%\", \"V, wt.%\",\n",
    "        \"Zr, wt.%\", \"W, wt.%\", \"Sn, wt.%\", \"Co, wt.%\", \"O, wt,%\",\n",
    "        \"Ta, wt.%\", \"As, wt%\", \"Sb, wt.%\"\n",
    "    ]].sum(axis=1)\n",
    "\n",
    "    train_df[\"Embrittling_Elements\"] = (\n",
    "        train_df[\"P, wt.%\"] +\n",
    "        train_df[\"S, wt.%\"] +\n",
    "        train_df[\"Cu, wt.%\"] +\n",
    "        train_df[\"As, wt%\"] +\n",
    "        train_df[\"Sb, wt.%\"] +\n",
    "        train_df[\"B, wt.%\"]\n",
    "    )\n",
    "\n",
    "    train_df[\"Toughness_Enhancers\"] = (\n",
    "        train_df[\"Ni, wt.%\"] +\n",
    "        train_df[\"Mn, wt.%\"] +\n",
    "        train_df[\"Mo, wt.%\"] +\n",
    "        train_df[\"V, wt.%\"] +\n",
    "        train_df[\"Ti, wt.%\"] +\n",
    "        train_df[\"Nb, wt.%\"]\n",
    "    )\n",
    "\n",
    "    train_df[\"Hardener_Elements\"] = (\n",
    "        train_df[\"C, wt.%\"] +\n",
    "        train_df[\"Cr, wt.%\"] +\n",
    "        train_df[\"Mo, wt.%\"] +\n",
    "        train_df[\"V, wt.%\"] +\n",
    "        train_df[\"W, wt.%\"]\n",
    "    )\n",
    "\n",
    "    train_df[\"Aging_Sensitive\"] = (\n",
    "        train_df[\"Cu, wt.%\"] +\n",
    "        train_df[\"Ni, wt.%\"] +\n",
    "        train_df[\"P, wt.%\"]\n",
    "    )\n",
    "\n",
    "    train_df[\"Carbon_Equivalent\"] = (\n",
    "        train_df[\"C, wt.%\"] +\n",
    "        (train_df[\"Mn, wt.%\"] + train_df[\"Si, wt.%\"]) / 6 +\n",
    "        (train_df[\"Cr, wt.%\"] + train_df[\"Mo, wt.%\"] + train_df[\"V, wt.%\"]) / 5 +\n",
    "        (train_df[\"Ni, wt.%\"] + train_df[\"Cu, wt.%\"]) / 15\n",
    "    )\n",
    "\n",
    "    train_df[\"Fe_Deficit\"] = 100 - train_df[\"Fe, wt.%\"]\n",
    "\n",
    "    # Compute derived features for alloy analysis\n",
    "    test_df[\"W/L\"]=test_df[\"Width (mm)\"]/test_df[\"Length (mm)\"]\n",
    "    test_df[\"L/T\"]=test_df[\"Length (mm)\"]/test_df[\"Thickness (mm)\"]\n",
    "    test_df[\"W/T\"]=test_df[\"Thickness (mm)\"]/test_df[\"Width (mm)\"]\n",
    "    test_df[\"Total_Alloy_wt\"] = test_df[[\n",
    "        \"C, wt.%\", \"Si, wt.%\", \"Mn, wt.%\", \"P, wt.%\", \"S, wt.%\",\n",
    "        \"Ni, wt.%\", \"Cr, wt.%\", \"Mo, wt.%\", \"Al, wt.%\", \"N, wt.%\",\n",
    "        \"Ti, wt.%\", \"Nb, wt.%\", \"B, wt.%\", \"Cu, wt.%\", \"V, wt.%\",\n",
    "        \"Zr, wt.%\", \"W, wt.%\", \"Sn, wt.%\", \"Co, wt.%\", \"O, wt,%\",\n",
    "        \"Ta, wt.%\", \"As, wt%\", \"Sb, wt.%\"\n",
    "    ]].sum(axis=1)\n",
    "    test_df[\"Embrittling_Elements\"] = (\n",
    "        test_df[\"P, wt.%\"] +\n",
    "        test_df[\"S, wt.%\"] +\n",
    "        test_df[\"Cu, wt.%\"] +\n",
    "        test_df[\"As, wt%\"] +\n",
    "        test_df[\"Sb, wt.%\"] +\n",
    "        test_df[\"B, wt.%\"]\n",
    "    )\n",
    "\n",
    "    test_df[\"Toughness_Enhancers\"] = (\n",
    "        test_df[\"Ni, wt.%\"] +\n",
    "        test_df[\"Mn, wt.%\"] +\n",
    "        test_df[\"Mo, wt.%\"] +\n",
    "        test_df[\"V, wt.%\"] +\n",
    "        test_df[\"Ti, wt.%\"] +\n",
    "        test_df[\"Nb, wt.%\"]\n",
    "    )\n",
    "\n",
    "    test_df[\"Hardener_Elements\"] = (\n",
    "        test_df[\"C, wt.%\"] +\n",
    "        test_df[\"Cr, wt.%\"] +\n",
    "        test_df[\"Mo, wt.%\"] +\n",
    "        test_df[\"V, wt.%\"] +\n",
    "        test_df[\"W, wt.%\"]\n",
    "    )\n",
    "\n",
    "    test_df[\"Aging_Sensitive\"] = (\n",
    "        test_df[\"Cu, wt.%\"] +\n",
    "        test_df[\"Ni, wt.%\"] +\n",
    "        test_df[\"P, wt.%\"]\n",
    "    )\n",
    "\n",
    "    test_df[\"Carbon_Equivalent\"] = (\n",
    "        test_df[\"C, wt.%\"] +\n",
    "        (test_df[\"Mn, wt.%\"] + test_df[\"Si, wt.%\"]) / 6 +\n",
    "        (test_df[\"Cr, wt.%\"] + test_df[\"Mo, wt.%\"] + test_df[\"V, wt.%\"]) / 5 +\n",
    "        (test_df[\"Ni, wt.%\"] + test_df[\"Cu, wt.%\"]) / 15\n",
    "    )\n",
    "\n",
    "    test_df[\"Fe_Deficit\"] = 100 - test_df[\"Fe, wt.%\"]\n",
    "\n",
    "    eps = 1e-6  # small value to avoid divide-by-zero\n",
    "\n",
    "\n",
    "    # 1. Composition Ratios\n",
    "    train_df['C_Mn'] = train_df['C, wt.%'] / (train_df['Mn, wt.%'] + eps)\n",
    "    train_df['Cr_Mo_V_Ni'] = train_df[['Cr, wt.%', 'Mo, wt.%', 'V, wt.%', 'Ni, wt.%']].sum(axis=1)\n",
    "    train_df['NiMn_to_CrMoV'] = (train_df['Ni, wt.%'] + train_df['Mn, wt.%']) / (train_df['Cr, wt.%'] + train_df['Mo, wt.%'] + train_df['V, wt.%'] + eps)\n",
    "    train_df['Ni_to_Fe'] = train_df['Ni, wt.%'] / (train_df['Fe, wt.%'] + eps)\n",
    "    train_df['Cr_to_Fe'] = train_df['Cr, wt.%'] / (train_df['Fe, wt.%'] + eps)\n",
    "    train_df['Mo_to_Fe'] = train_df['Mo, wt.%'] / (train_df['Fe, wt.%'] + eps)\n",
    "\n",
    "    # 2. Geometry & Stress Features\n",
    "    train_df['Volume'] = train_df['Length (mm)'] * train_df['Width (mm)'] * train_df['Thickness (mm)']\n",
    "    train_df['Surface_Area'] = 2 * (\n",
    "        train_df['Length (mm)'] * train_df['Width (mm)'] +\n",
    "        train_df['Length (mm)'] * train_df['Thickness (mm)'] +\n",
    "        train_df['Width (mm)'] * train_df['Thickness (mm)']\n",
    "    )\n",
    "    train_df['Compactness'] = train_df['Volume'] / (train_df['Surface_Area'] + eps)\n",
    "\n",
    "    # Compute missing 'Area' as cross-sectional area\n",
    "    train_df['Area'] = train_df['Width (mm)'] * train_df['Thickness (mm)']\n",
    "    train_df['Impact_energy_per_Area'] = train_df['Impact energy (J)'] / (train_df['Area'] + eps)\n",
    "    train_df['Impact_energy_per_Volume'] = train_df['Impact energy (J)'] / (train_df['Volume'] + eps)\n",
    "\n",
    "    # 3. Elemental diversity\n",
    "    element_cols = [col for col in train_df.columns if ', wt.%' in col]\n",
    "    norm_composition = train_df[element_cols].div(train_df[element_cols].sum(axis=1) + eps, axis=0)\n",
    "    train_df['Elemental_count'] = (train_df[element_cols] > 0).sum(axis=1)\n",
    "    train_df['Std_dev_wt'] = train_df[element_cols].std(axis=1)\n",
    "    train_df['Shannon_entropy_composition'] = -(norm_composition * np.log(norm_composition + eps)).sum(axis=1)\n",
    "\n",
    "    # 4. Interaction terms\n",
    "    train_df['C_times_Mn'] = train_df['C, wt.%'] * train_df['Mn, wt.%']\n",
    "    train_df['Mn_times_Cr'] = train_df['Mn, wt.%'] * train_df['Cr, wt.%']\n",
    "    train_df['Ni_times_Mo'] = train_df['Ni, wt.%'] * train_df['Mo, wt.%']\n",
    "\n",
    "    # 5. Physics-inspired placeholders\n",
    "    magpie_cols = train_df.columns[train_df.columns.str.contains('CovalentRadius') & train_df.columns.str.contains('range')]\n",
    "    if len(magpie_cols):\n",
    "        train_df['Solid_solution_strengthening'] = train_df[magpie_cols[0]] * train_df[element_cols].std(axis=1)\n",
    "    else:\n",
    "        train_df['Solid_solution_strengthening'] = np.nan\n",
    "\n",
    "    train_df['Hardness_index'] = (\n",
    "        0.5 * train_df['C, wt.%'] +\n",
    "        0.3 * train_df['Mn, wt.%'] +\n",
    "        0.2 * train_df['Mo, wt.%'] +\n",
    "        0.1 * train_df['Ni, wt.%']\n",
    "    )\n",
    "\n",
    "\n",
    "\n",
    "    # 1. Composition Ratios\n",
    "    test_df['C_Mn'] = test_df['C, wt.%'] / (test_df['Mn, wt.%'] + eps)\n",
    "    test_df['Cr_Mo_V_Ni'] = test_df[['Cr, wt.%', 'Mo, wt.%', 'V, wt.%', 'Ni, wt.%']].sum(axis=1)\n",
    "    test_df['NiMn_to_CrMoV'] = (test_df['Ni, wt.%'] + test_df['Mn, wt.%']) / (test_df['Cr, wt.%'] + test_df['Mo, wt.%'] + test_df['V, wt.%'] + eps)\n",
    "    test_df['Ni_to_Fe'] = test_df['Ni, wt.%'] / (test_df['Fe, wt.%'] + eps)\n",
    "    test_df['Cr_to_Fe'] = test_df['Cr, wt.%'] / (test_df['Fe, wt.%'] + eps)\n",
    "    test_df['Mo_to_Fe'] = test_df['Mo, wt.%'] / (test_df['Fe, wt.%'] + eps)\n",
    "\n",
    "    # 2. Geometry & Stress Features\n",
    "    test_df['Volume'] = test_df['Length (mm)'] * test_df['Width (mm)'] * test_df['Thickness (mm)']\n",
    "    test_df['Surface_Area'] = 2 * (\n",
    "        test_df['Length (mm)'] * test_df['Width (mm)'] +\n",
    "        test_df['Length (mm)'] * test_df['Thickness (mm)'] +\n",
    "        test_df['Width (mm)'] * test_df['Thickness (mm)']\n",
    "    )\n",
    "    test_df['Compactness'] = test_df['Volume'] / (test_df['Surface_Area'] + eps)\n",
    "\n",
    "    # Compute missing 'Area' as cross-sectional area\n",
    "    test_df['Area'] = test_df['Width (mm)'] * test_df['Thickness (mm)']\n",
    "    test_df['Impact_energy_per_Area'] = test_df['Impact energy (J)'] / (test_df['Area'] + eps)\n",
    "    test_df['Impact_energy_per_Volume'] = test_df['Impact energy (J)'] / (test_df['Volume'] + eps)\n",
    "\n",
    "    # 3. Elemental diversity\n",
    "    element_cols = [col for col in test_df.columns if ', wt.%' in col]\n",
    "    norm_composition = test_df[element_cols].div(test_df[element_cols].sum(axis=1) + eps, axis=0)\n",
    "    test_df['Elemental_count'] = (test_df[element_cols] > 0).sum(axis=1)\n",
    "    test_df['Std_dev_wt'] = test_df[element_cols].std(axis=1)\n",
    "    test_df['Shannon_entropy_composition'] = -(norm_composition * np.log(norm_composition + eps)).sum(axis=1)\n",
    "\n",
    "    # 4. Interaction terms\n",
    "    test_df['C_times_Mn'] = test_df['C, wt.%'] * test_df['Mn, wt.%']\n",
    "    test_df['Mn_times_Cr'] = test_df['Mn, wt.%'] * test_df['Cr, wt.%']\n",
    "    test_df['Ni_times_Mo'] = test_df['Ni, wt.%'] * test_df['Mo, wt.%']\n",
    "\n",
    "    # 5. Physics-inspired placeholders\n",
    "    magpie_cols = test_df.columns[test_df.columns.str.contains('CovalentRadius') & test_df.columns.str.contains('range')]\n",
    "    if len(magpie_cols):\n",
    "        test_df['Solid_solution_strengthening'] = test_df[magpie_cols[0]] * test_df[element_cols].std(axis=1)\n",
    "    else:\n",
    "        test_df['Solid_solution_strengthening'] = np.nan\n",
    "\n",
    "    test_df['Hardness_index'] = (\n",
    "        0.5 * test_df['C, wt.%'] +\n",
    "        0.3 * test_df['Mn, wt.%'] +\n",
    "        0.2 * test_df['Mo, wt.%'] +\n",
    "        0.1 * test_df['Ni, wt.%']\n",
    "    )\n",
    "\n",
    "    return train_df, test_df"
   ]
  },
  {
   "cell_type": "code",
   "execution_count": 5,
   "id": "d08d483f",
   "metadata": {
    "execution": {
     "iopub.execute_input": "2025-09-19T12:26:58.162442Z",
     "iopub.status.busy": "2025-09-19T12:26:58.161837Z",
     "iopub.status.idle": "2025-09-19T12:26:58.167521Z",
     "shell.execute_reply": "2025-09-19T12:26:58.166801Z"
    },
    "papermill": {
     "duration": 0.010715,
     "end_time": "2025-09-19T12:26:58.168840",
     "exception": false,
     "start_time": "2025-09-19T12:26:58.158125",
     "status": "completed"
    },
    "tags": []
   },
   "outputs": [],
   "source": [
    "feature_to_remove = []\n",
    "feature_to_include = []\n",
    "feature_to_include = [\"C, wt.%\",\t\"Si, wt.%\",\t\"Mn, wt.%\",\t\"P, wt.%\",\t\"S, wt.%\",\t\"Ni, wt.%\",\t\"Cr, wt.%\",\t\"Mo, wt.%\",\t\"Al, wt.%\",\t\"N, wt.%\",\t\"Ti, wt.%\",\t\"Fe, wt.%\",\t\"Nb, wt.%\",\t\"B, wt.%\",\t\"Cu, wt.%\",\t\"V, wt.%\",\t\"Zr, wt.%\",\t\"W, wt.%\",\t\"Sn, wt.%\",\t\"Co, wt.%\",\t\"O, wt,%\", \"Ta, wt.%\",\t\"As, wt%\",\"Sb, wt.%\",'MagpieData mean GSbandgap', 'MagpieData avg_dev GSbandgap', 'Test Temperature (C) ', 'MagpieData mean MeltingT', 'Solid_solution_strengthening', 'C_Mn', 'Embrittling_Elements', 'Impact_energy_per_Volume', 'MagpieData mean NdValence', 'Impact energy (J)', 'Impact_energy_per_Area', 'Compactness', 'MagpieData mean SpaceGroupNumber', 'Cr_to_Fe', 'MagpieData avg_dev NUnfilled', 'Area',  'MagpieData mean NValence', 'Surface_Area', 'Volume', 'MagpieData mean NUnfilled', 'MagpieData avg_dev NpUnfilled', 'MagpieData avg_dev NpValence', 'Aging_Sensitive', 'MagpieData avg_dev NsValence', 'MagpieData mean NpUnfilled', 'MagpieData avg_dev SpaceGroupNumber', 'MagpieData mean NsUnfilled', 'MagpieData mean NsValence', 'MagpieData avg_dev MeltingT', 'Ni_to_Fe', 'MagpieData mean NpValence', 'C_times_Mn', 'Elemental_count', 'NiMn_to_CrMoV', 'MagpieData avg_dev Column', 'MagpieData avg_dev NsUnfilled', 'MagpieData avg_dev NdUnfilled', 'MagpieData mean GSvolume_pa',  'MagpieData avg_dev MendeleevNumber', 'Cr_Mo_V_Ni', 'MagpieData mean Electronegativity', 'Mn_times_Cr', 'W/L', 'MagpieData mean CovalentRadius',  'L/T', 'Carbon_Equivalent', 'MagpieData avg_dev CovalentRadius']\n"
   ]
  },
  {
   "cell_type": "code",
   "execution_count": null,
   "id": "c02eea0d",
   "metadata": {
    "execution": {
     "iopub.execute_input": "2025-09-19T12:26:58.176227Z",
     "iopub.status.busy": "2025-09-19T12:26:58.175909Z",
     "iopub.status.idle": "2025-09-19T12:26:58.510277Z",
     "shell.execute_reply": "2025-09-19T12:26:58.509341Z"
    },
    "papermill": {
     "duration": 0.339403,
     "end_time": "2025-09-19T12:26:58.511662",
     "exception": false,
     "start_time": "2025-09-19T12:26:58.172259",
     "status": "completed"
    },
    "tags": []
   },
   "outputs": [
    {
     "name": "stdout",
     "output_type": "stream",
     "text": [
      "Original shape: (3694, 193)\n",
      "Filtered shape: (3466, 72)\n"
     ]
    }
   ],
   "source": [
    "from sklearn.model_selection import train_test_split\n",
    "import numpy as np\n",
    "import pandas as pd\n",
    "\n",
    "train_df=pd.read_csv(TRAIN_CSV_PATH).select_dtypes(include=\"number\")\n",
    "test_df=pd.read_csv(TEST_CSV_PATH).select_dtypes(include=\"number\")\n",
    "train_df,test_df=featurizer(train_df,test_df)\n",
    "\n",
    "target=\"USE\"\n",
    "print(f\"Original shape: {train_df.shape}\")\n",
    "\n",
    "\n",
    "\n",
    "mean_val = train_df[target].mean()\n",
    "std_val = train_df[target].std()\n",
    "upper_bound = mean_val + 1.75 * std_val\n",
    "\n",
    "train_df = train_df.dropna(subset=[target])\n",
    "\n",
    "if feature_to_include:\n",
    "    existing_features = [f for f in feature_to_include if f in train_df.columns]\n",
    "    train_df = train_df[existing_features + [target]]\n",
    "\n",
    "train_df = train_df[ (train_df[target] <= upper_bound)]\n",
    "\n",
    "test_df = test_df.dropna(subset=[target])\n",
    "test_df = test_df[list(train_df.columns)]\n",
    "test_df = test_df[ (test_df[target] <= upper_bound)]\n",
    "\n",
    "print(f\"Filtered shape: {train_df.shape}\")\n",
    "\n",
    "\n"
   ]
  },
  {
   "cell_type": "code",
   "execution_count": 7,
   "id": "1495d223",
   "metadata": {
    "execution": {
     "iopub.execute_input": "2025-09-19T12:26:58.519248Z",
     "iopub.status.busy": "2025-09-19T12:26:58.518929Z",
     "iopub.status.idle": "2025-09-19T12:26:58.525353Z",
     "shell.execute_reply": "2025-09-19T12:26:58.524427Z"
    },
    "papermill": {
     "duration": 0.011784,
     "end_time": "2025-09-19T12:26:58.526656",
     "exception": false,
     "start_time": "2025-09-19T12:26:58.514872",
     "status": "completed"
    },
    "tags": []
   },
   "outputs": [
    {
     "data": {
      "text/plain": [
       "72"
      ]
     },
     "execution_count": 7,
     "metadata": {},
     "output_type": "execute_result"
    }
   ],
   "source": [
    "len(test_df.columns)"
   ]
  },
  {
   "cell_type": "code",
   "execution_count": 8,
   "id": "2cc6d74f",
   "metadata": {
    "execution": {
     "iopub.execute_input": "2025-09-19T12:26:58.533897Z",
     "iopub.status.busy": "2025-09-19T12:26:58.533624Z",
     "iopub.status.idle": "2025-09-19T12:26:58.552802Z",
     "shell.execute_reply": "2025-09-19T12:26:58.552066Z"
    },
    "papermill": {
     "duration": 0.024673,
     "end_time": "2025-09-19T12:26:58.554446",
     "exception": false,
     "start_time": "2025-09-19T12:26:58.529773",
     "status": "completed"
    },
    "tags": []
   },
   "outputs": [],
   "source": [
    "cols_to_drop = ['DBTT', 'USE', \"Width (mm)\", \"Length (mm)\", \"Thickness (mm)\"] + list(feature_to_remove)\n",
    "X=train_df.drop(columns=cols_to_drop, errors='ignore')\n",
    "y=train_df[target]\n",
    "X_test=test_df.drop(columns=cols_to_drop, errors='ignore')\n",
    "y_test=test_df[[target]]\n",
    "\n",
    "bins = pd.cut(y, bins=10, labels=False)  # 3 intervals, labels = 0,1,2\n",
    "\n",
    "X_train, X_val, y_train, y_val = train_test_split(\n",
    "    X, y,\n",
    "    test_size=0.2,\n",
    "    random_state=42,\n",
    "    stratify=y\n",
    ")\n",
    "\n",
    "\n",
    "\n"
   ]
  },
  {
   "cell_type": "code",
   "execution_count": 9,
   "id": "4190b7af",
   "metadata": {
    "execution": {
     "iopub.execute_input": "2025-09-19T12:26:58.562444Z",
     "iopub.status.busy": "2025-09-19T12:26:58.562156Z",
     "iopub.status.idle": "2025-09-19T18:15:17.618265Z",
     "shell.execute_reply": "2025-09-19T18:15:17.617452Z"
    },
    "papermill": {
     "duration": 20899.068027,
     "end_time": "2025-09-19T18:15:17.625824",
     "exception": false,
     "start_time": "2025-09-19T12:26:58.557797",
     "status": "completed"
    },
    "tags": []
   },
   "outputs": [
    {
     "name": "stderr",
     "output_type": "stream",
     "text": [
      "[I 2025-09-19 12:26:58,565] A new study created in memory with name: no-name-d1990111-2caa-4bec-b600-1f69b982b51e\n"
     ]
    },
    {
     "data": {
      "application/vnd.jupyter.widget-view+json": {
       "model_id": "19bb102c1e0d4a37bdb46b063c78b60e",
       "version_major": 2,
       "version_minor": 0
      },
      "text/plain": [
       "  0%|          | 0/50000 [00:00<?, ?it/s]"
      ]
     },
     "metadata": {},
     "output_type": "display_data"
    },
    {
     "name": "stderr",
     "output_type": "stream",
     "text": [
      "`early_stopping_rounds` in `fit` method is deprecated for better compatibility with scikit-learn, use `early_stopping_rounds` in constructor or`set_params` instead.\n",
      "[12:26:58] WARNING: /workspace/src/learner.cc:742: \n",
      "Parameters: { \"normalize_type\", \"rate_drop\", \"sample_type\", \"skip_drop\" } are not used.\n",
      "\n"
     ]
    },
    {
     "name": "stdout",
     "output_type": "stream",
     "text": [
      "[I 2025-09-19 12:27:08,171] Trial 0 finished with value: 28.662989047104645 and parameters: {'booster': 'gbtree', 'max_depth': 12, 'min_child_weight': 3, 'gamma': 5.0, 'learning_rate': 0.0012455847465960646, 'n_estimators': 900, 'subsample': 0.9, 'colsample_bytree': 0.75, 'colsample_bylevel': 0.8, 'colsample_bynode': 0.95, 'reg_alpha': 0.05969743413057872, 'reg_lambda': 6.137584022389388e-08, 'sample_type': 'uniform', 'normalize_type': 'tree', 'rate_drop': 0.5, 'skip_drop': 0.1}. Best is trial 0 with value: 28.662989047104645.\n"
     ]
    },
    {
     "name": "stderr",
     "output_type": "stream",
     "text": [
      "`early_stopping_rounds` in `fit` method is deprecated for better compatibility with scikit-learn, use `early_stopping_rounds` in constructor or`set_params` instead.\n"
     ]
    },
    {
     "name": "stdout",
     "output_type": "stream",
     "text": [
      "[I 2025-09-19 12:30:42,712] Trial 1 finished with value: 27.895207462639224 and parameters: {'booster': 'dart', 'max_depth': 5, 'min_child_weight': 5, 'gamma': 7.5, 'learning_rate': 0.014657861351163188, 'n_estimators': 2200, 'subsample': 0.65, 'colsample_bytree': 0.65, 'colsample_bylevel': 0.9, 'colsample_bynode': 0.5, 'reg_alpha': 1.118110367010765e-05, 'reg_lambda': 3.2613133720491936, 'sample_type': 'weighted', 'normalize_type': 'forest', 'rate_drop': 0.35000000000000003, 'skip_drop': 0.30000000000000004}. Best is trial 1 with value: 27.895207462639224.\n"
     ]
    },
    {
     "name": "stderr",
     "output_type": "stream",
     "text": [
      "`early_stopping_rounds` in `fit` method is deprecated for better compatibility with scikit-learn, use `early_stopping_rounds` in constructor or`set_params` instead.\n",
      "[12:30:42] WARNING: /workspace/src/learner.cc:742: \n",
      "Parameters: { \"normalize_type\", \"rate_drop\", \"sample_type\", \"skip_drop\" } are not used.\n",
      "\n"
     ]
    },
    {
     "name": "stdout",
     "output_type": "stream",
     "text": [
      "[I 2025-09-19 12:30:45,555] Trial 2 finished with value: 8.544580857501794 and parameters: {'booster': 'gbtree', 'max_depth': 10, 'min_child_weight': 9, 'gamma': 0.0, 'learning_rate': 0.01566784513418932, 'n_estimators': 2600, 'subsample': 0.6, 'colsample_bytree': 0.75, 'colsample_bylevel': 0.8500000000000001, 'colsample_bynode': 0.8500000000000001, 'reg_alpha': 1.3913149797955528e-07, 'reg_lambda': 0.00023506731921436096, 'sample_type': 'uniform', 'normalize_type': 'forest', 'rate_drop': 0.5, 'skip_drop': 0.0}. Best is trial 2 with value: 8.544580857501794.\n"
     ]
    },
    {
     "name": "stderr",
     "output_type": "stream",
     "text": [
      "`early_stopping_rounds` in `fit` method is deprecated for better compatibility with scikit-learn, use `early_stopping_rounds` in constructor or`set_params` instead.\n",
      "[12:30:45] WARNING: /workspace/src/learner.cc:742: \n",
      "Parameters: { \"normalize_type\", \"rate_drop\", \"sample_type\", \"skip_drop\" } are not used.\n",
      "\n"
     ]
    },
    {
     "name": "stdout",
     "output_type": "stream",
     "text": [
      "[I 2025-09-19 12:30:54,270] Trial 3 finished with value: 67.64798431542681 and parameters: {'booster': 'gbtree', 'max_depth': 14, 'min_child_weight': 13, 'gamma': 3.0, 'learning_rate': 0.00012509965153117714, 'n_estimators': 1100, 'subsample': 0.95, 'colsample_bytree': 0.95, 'colsample_bylevel': 0.8, 'colsample_bynode': 1.0, 'reg_alpha': 5.6848932318317205e-08, 'reg_lambda': 2.048266986162673e-07, 'sample_type': 'weighted', 'normalize_type': 'forest', 'rate_drop': 0.45, 'skip_drop': 0.5}. Best is trial 2 with value: 8.544580857501794.\n"
     ]
    },
    {
     "name": "stderr",
     "output_type": "stream",
     "text": [
      "`early_stopping_rounds` in `fit` method is deprecated for better compatibility with scikit-learn, use `early_stopping_rounds` in constructor or`set_params` instead.\n",
      "[12:30:54] WARNING: /workspace/src/learner.cc:742: \n",
      "Parameters: { \"normalize_type\", \"rate_drop\", \"sample_type\", \"skip_drop\" } are not used.\n",
      "\n"
     ]
    },
    {
     "name": "stdout",
     "output_type": "stream",
     "text": [
      "[I 2025-09-19 12:30:54,963] Trial 4 finished with value: 9.087788499509314 and parameters: {'booster': 'gbtree', 'max_depth': 13, 'min_child_weight': 13, 'gamma': 8.0, 'learning_rate': 0.20914051998786093, 'n_estimators': 900, 'subsample': 0.65, 'colsample_bytree': 0.7, 'colsample_bylevel': 1.0, 'colsample_bynode': 0.75, 'reg_alpha': 2.5058491339377074e-08, 'reg_lambda': 2.2524114937043627, 'sample_type': 'weighted', 'normalize_type': 'forest', 'rate_drop': 0.0, 'skip_drop': 0.0}. Best is trial 2 with value: 8.544580857501794.\n"
     ]
    },
    {
     "name": "stderr",
     "output_type": "stream",
     "text": [
      "`early_stopping_rounds` in `fit` method is deprecated for better compatibility with scikit-learn, use `early_stopping_rounds` in constructor or`set_params` instead.\n"
     ]
    },
    {
     "name": "stdout",
     "output_type": "stream",
     "text": [
      "[I 2025-09-19 13:11:53,739] Trial 5 finished with value: 48.58279020899764 and parameters: {'booster': 'dart', 'max_depth': 11, 'min_child_weight': 1, 'gamma': 0.5, 'learning_rate': 0.0002629307048579112, 'n_estimators': 1900, 'subsample': 0.9, 'colsample_bytree': 0.95, 'colsample_bylevel': 0.6, 'colsample_bynode': 0.65, 'reg_alpha': 1.9567309866858532e-05, 'reg_lambda': 2.4840919416989236e-08, 'sample_type': 'weighted', 'normalize_type': 'forest', 'rate_drop': 0.5, 'skip_drop': 0.5}. Best is trial 2 with value: 8.544580857501794.\n"
     ]
    },
    {
     "name": "stderr",
     "output_type": "stream",
     "text": [
      "`early_stopping_rounds` in `fit` method is deprecated for better compatibility with scikit-learn, use `early_stopping_rounds` in constructor or`set_params` instead.\n",
      "[13:11:53] WARNING: /workspace/src/learner.cc:742: \n",
      "Parameters: { \"normalize_type\", \"rate_drop\", \"sample_type\", \"skip_drop\" } are not used.\n",
      "\n"
     ]
    },
    {
     "name": "stdout",
     "output_type": "stream",
     "text": [
      "[I 2025-09-19 13:11:55,491] Trial 6 finished with value: 8.38622739675459 and parameters: {'booster': 'gbtree', 'max_depth': 12, 'min_child_weight': 14, 'gamma': 6.5, 'learning_rate': 0.025281032052788005, 'n_estimators': 800, 'subsample': 0.75, 'colsample_bytree': 0.55, 'colsample_bylevel': 0.8, 'colsample_bynode': 0.6, 'reg_alpha': 2.832731269512669e-06, 'reg_lambda': 5.857400534636963e-06, 'sample_type': 'uniform', 'normalize_type': 'forest', 'rate_drop': 0.0, 'skip_drop': 0.5}. Best is trial 6 with value: 8.38622739675459.\n"
     ]
    },
    {
     "name": "stderr",
     "output_type": "stream",
     "text": [
      "`early_stopping_rounds` in `fit` method is deprecated for better compatibility with scikit-learn, use `early_stopping_rounds` in constructor or`set_params` instead.\n"
     ]
    },
    {
     "name": "stdout",
     "output_type": "stream",
     "text": [
      "[I 2025-09-19 13:19:30,359] Trial 7 finished with value: 8.00038539849301 and parameters: {'booster': 'dart', 'max_depth': 14, 'min_child_weight': 7, 'gamma': 4.0, 'learning_rate': 0.03296898766140196, 'n_estimators': 800, 'subsample': 0.8500000000000001, 'colsample_bytree': 1.0, 'colsample_bylevel': 0.7, 'colsample_bynode': 0.8, 'reg_alpha': 0.9598900694948176, 'reg_lambda': 0.0012766291745961076, 'sample_type': 'uniform', 'normalize_type': 'tree', 'rate_drop': 0.1, 'skip_drop': 0.30000000000000004}. Best is trial 7 with value: 8.00038539849301.\n"
     ]
    },
    {
     "name": "stderr",
     "output_type": "stream",
     "text": [
      "`early_stopping_rounds` in `fit` method is deprecated for better compatibility with scikit-learn, use `early_stopping_rounds` in constructor or`set_params` instead.\n",
      "[13:19:30] WARNING: /workspace/src/learner.cc:742: \n",
      "Parameters: { \"normalize_type\", \"rate_drop\", \"sample_type\", \"skip_drop\" } are not used.\n",
      "\n"
     ]
    },
    {
     "name": "stdout",
     "output_type": "stream",
     "text": [
      "[I 2025-09-19 13:19:37,258] Trial 8 finished with value: 14.683541380301836 and parameters: {'booster': 'gbtree', 'max_depth': 11, 'min_child_weight': 7, 'gamma': 2.5, 'learning_rate': 0.001567605109631888, 'n_estimators': 1400, 'subsample': 0.6, 'colsample_bytree': 0.55, 'colsample_bylevel': 0.7, 'colsample_bynode': 1.0, 'reg_alpha': 0.0004410558727818855, 'reg_lambda': 0.000939297448775016, 'sample_type': 'weighted', 'normalize_type': 'tree', 'rate_drop': 0.2, 'skip_drop': 0.5}. Best is trial 7 with value: 8.00038539849301.\n"
     ]
    },
    {
     "name": "stderr",
     "output_type": "stream",
     "text": [
      "`early_stopping_rounds` in `fit` method is deprecated for better compatibility with scikit-learn, use `early_stopping_rounds` in constructor or`set_params` instead.\n",
      "[13:19:37] WARNING: /workspace/src/learner.cc:742: \n",
      "Parameters: { \"normalize_type\", \"rate_drop\", \"sample_type\", \"skip_drop\" } are not used.\n",
      "\n"
     ]
    },
    {
     "name": "stdout",
     "output_type": "stream",
     "text": [
      "[I 2025-09-19 13:19:41,805] Trial 9 finished with value: 9.624552662257075 and parameters: {'booster': 'gbtree', 'max_depth': 5, 'min_child_weight': 13, 'gamma': 9.0, 'learning_rate': 0.006207929974908518, 'n_estimators': 2300, 'subsample': 0.95, 'colsample_bytree': 0.75, 'colsample_bylevel': 1.0, 'colsample_bynode': 0.75, 'reg_alpha': 0.003770256052713623, 'reg_lambda': 5.501793853600057e-08, 'sample_type': 'uniform', 'normalize_type': 'forest', 'rate_drop': 0.25, 'skip_drop': 0.7000000000000001}. Best is trial 7 with value: 8.00038539849301.\n"
     ]
    },
    {
     "name": "stderr",
     "output_type": "stream",
     "text": [
      "`early_stopping_rounds` in `fit` method is deprecated for better compatibility with scikit-learn, use `early_stopping_rounds` in constructor or`set_params` instead.\n"
     ]
    },
    {
     "name": "stdout",
     "output_type": "stream",
     "text": [
      "[I 2025-09-19 13:20:07,908] Trial 10 finished with value: 9.390618505844634 and parameters: {'booster': 'dart', 'max_depth': 8, 'min_child_weight': 9, 'gamma': 4.0, 'learning_rate': 0.1748632480536247, 'n_estimators': 3000, 'subsample': 0.8, 'colsample_bytree': 1.0, 'colsample_bylevel': 0.5, 'colsample_bynode': 0.8500000000000001, 'reg_alpha': 7.7959056300893295, 'reg_lambda': 0.023151871921222453, 'sample_type': 'uniform', 'normalize_type': 'tree', 'rate_drop': 0.15000000000000002, 'skip_drop': 0.9}. Best is trial 7 with value: 8.00038539849301.\n"
     ]
    },
    {
     "name": "stderr",
     "output_type": "stream",
     "text": [
      "`early_stopping_rounds` in `fit` method is deprecated for better compatibility with scikit-learn, use `early_stopping_rounds` in constructor or`set_params` instead.\n"
     ]
    },
    {
     "name": "stdout",
     "output_type": "stream",
     "text": [
      "[I 2025-09-19 13:21:27,228] Trial 11 finished with value: 8.508556986460784 and parameters: {'booster': 'dart', 'max_depth': 15, 'min_child_weight': 15, 'gamma': 6.5, 'learning_rate': 0.04824314126479197, 'n_estimators': 300, 'subsample': 0.75, 'colsample_bytree': 0.5, 'colsample_bylevel': 0.7, 'colsample_bynode': 0.6, 'reg_alpha': 9.951561662058301, 'reg_lambda': 3.2189066758127366e-05, 'sample_type': 'uniform', 'normalize_type': 'tree', 'rate_drop': 0.0, 'skip_drop': 0.30000000000000004}. Best is trial 7 with value: 8.00038539849301.\n"
     ]
    },
    {
     "name": "stderr",
     "output_type": "stream",
     "text": [
      "`early_stopping_rounds` in `fit` method is deprecated for better compatibility with scikit-learn, use `early_stopping_rounds` in constructor or`set_params` instead.\n"
     ]
    },
    {
     "name": "stdout",
     "output_type": "stream",
     "text": [
      "[I 2025-09-19 13:22:40,093] Trial 12 finished with value: 8.727757106133138 and parameters: {'booster': 'dart', 'max_depth': 8, 'min_child_weight': 7, 'gamma': 6.0, 'learning_rate': 0.05041302666676737, 'n_estimators': 300, 'subsample': 0.8, 'colsample_bytree': 0.8500000000000001, 'colsample_bylevel': 0.65, 'colsample_bynode': 0.65, 'reg_alpha': 3.2509791318663403e-06, 'reg_lambda': 3.879470927041301e-06, 'sample_type': 'uniform', 'normalize_type': 'tree', 'rate_drop': 0.1, 'skip_drop': 0.30000000000000004}. Best is trial 7 with value: 8.00038539849301.\n"
     ]
    },
    {
     "name": "stderr",
     "output_type": "stream",
     "text": [
      "`early_stopping_rounds` in `fit` method is deprecated for better compatibility with scikit-learn, use `early_stopping_rounds` in constructor or`set_params` instead.\n"
     ]
    },
    {
     "name": "stdout",
     "output_type": "stream",
     "text": [
      "[I 2025-09-19 13:26:11,416] Trial 13 finished with value: 8.30458187350779 and parameters: {'booster': 'dart', 'max_depth': 15, 'min_child_weight': 11, 'gamma': 5.0, 'learning_rate': 0.04778729718660373, 'n_estimators': 1500, 'subsample': 0.75, 'colsample_bytree': 0.6, 'colsample_bylevel': 0.55, 'colsample_bynode': 0.5, 'reg_alpha': 0.06417456827160417, 'reg_lambda': 0.019183315470826447, 'sample_type': 'uniform', 'normalize_type': 'tree', 'rate_drop': 0.1, 'skip_drop': 0.7000000000000001}. Best is trial 7 with value: 8.00038539849301.\n"
     ]
    },
    {
     "name": "stderr",
     "output_type": "stream",
     "text": [
      "`early_stopping_rounds` in `fit` method is deprecated for better compatibility with scikit-learn, use `early_stopping_rounds` in constructor or`set_params` instead.\n"
     ]
    },
    {
     "name": "stdout",
     "output_type": "stream",
     "text": [
      "[I 2025-09-19 13:27:45,348] Trial 14 finished with value: 8.268541189446605 and parameters: {'booster': 'dart', 'max_depth': 15, 'min_child_weight': 10, 'gamma': 2.0, 'learning_rate': 0.07531775590526155, 'n_estimators': 1400, 'subsample': 0.8500000000000001, 'colsample_bytree': 0.8500000000000001, 'colsample_bylevel': 0.5, 'colsample_bynode': 0.5, 'reg_alpha': 0.17475213022435376, 'reg_lambda': 0.027051310336344055, 'sample_type': 'uniform', 'normalize_type': 'tree', 'rate_drop': 0.1, 'skip_drop': 0.7000000000000001}. Best is trial 7 with value: 8.00038539849301.\n"
     ]
    },
    {
     "name": "stderr",
     "output_type": "stream",
     "text": [
      "`early_stopping_rounds` in `fit` method is deprecated for better compatibility with scikit-learn, use `early_stopping_rounds` in constructor or`set_params` instead.\n"
     ]
    },
    {
     "name": "stdout",
     "output_type": "stream",
     "text": [
      "[I 2025-09-19 13:28:32,303] Trial 15 finished with value: 8.644171562337677 and parameters: {'booster': 'dart', 'max_depth': 15, 'min_child_weight': 11, 'gamma': 2.0, 'learning_rate': 0.10532606034839001, 'n_estimators': 1300, 'subsample': 0.8500000000000001, 'colsample_bytree': 0.8500000000000001, 'colsample_bylevel': 0.5, 'colsample_bynode': 0.8, 'reg_alpha': 0.3952611625462709, 'reg_lambda': 0.03669891467466313, 'sample_type': 'uniform', 'normalize_type': 'tree', 'rate_drop': 0.1, 'skip_drop': 0.7000000000000001}. Best is trial 7 with value: 8.00038539849301.\n"
     ]
    },
    {
     "name": "stderr",
     "output_type": "stream",
     "text": [
      "`early_stopping_rounds` in `fit` method is deprecated for better compatibility with scikit-learn, use `early_stopping_rounds` in constructor or`set_params` instead.\n"
     ]
    },
    {
     "name": "stdout",
     "output_type": "stream",
     "text": [
      "[I 2025-09-19 14:14:37,409] Trial 16 finished with value: 8.01946472368177 and parameters: {'booster': 'dart', 'max_depth': 13, 'min_child_weight': 5, 'gamma': 1.5, 'learning_rate': 0.005795292673021036, 'n_estimators': 1800, 'subsample': 0.5, 'colsample_bytree': 0.8500000000000001, 'colsample_bylevel': 0.6, 'colsample_bynode': 0.9, 'reg_alpha': 0.3603160924208764, 'reg_lambda': 0.30139343029423393, 'sample_type': 'uniform', 'normalize_type': 'tree', 'rate_drop': 0.30000000000000004, 'skip_drop': 0.9}. Best is trial 7 with value: 8.00038539849301.\n"
     ]
    },
    {
     "name": "stderr",
     "output_type": "stream",
     "text": [
      "`early_stopping_rounds` in `fit` method is deprecated for better compatibility with scikit-learn, use `early_stopping_rounds` in constructor or`set_params` instead.\n"
     ]
    },
    {
     "name": "stdout",
     "output_type": "stream",
     "text": [
      "[I 2025-09-19 15:00:33,517] Trial 17 finished with value: 8.090930241118897 and parameters: {'booster': 'dart', 'max_depth': 13, 'min_child_weight': 5, 'gamma': 1.0, 'learning_rate': 0.0034465157361193285, 'n_estimators': 1800, 'subsample': 0.5, 'colsample_bytree': 0.9, 'colsample_bylevel': 0.6, 'colsample_bynode': 0.9, 'reg_alpha': 0.003862175900639963, 'reg_lambda': 0.3636399122767691, 'sample_type': 'uniform', 'normalize_type': 'tree', 'rate_drop': 0.35000000000000003, 'skip_drop': 0.9}. Best is trial 7 with value: 8.00038539849301.\n"
     ]
    },
    {
     "name": "stderr",
     "output_type": "stream",
     "text": [
      "`early_stopping_rounds` in `fit` method is deprecated for better compatibility with scikit-learn, use `early_stopping_rounds` in constructor or`set_params` instead.\n"
     ]
    },
    {
     "name": "stdout",
     "output_type": "stream",
     "text": [
      "[I 2025-09-19 15:05:52,501] Trial 18 finished with value: 38.00758211350582 and parameters: {'booster': 'dart', 'max_depth': 7, 'min_child_weight': 5, 'gamma': 4.0, 'learning_rate': 0.005596869947994396, 'n_estimators': 700, 'subsample': 0.5, 'colsample_bytree': 1.0, 'colsample_bylevel': 0.7, 'colsample_bynode': 0.9, 'reg_alpha': 0.8107537314802306, 'reg_lambda': 0.001652883254192932, 'sample_type': 'uniform', 'normalize_type': 'tree', 'rate_drop': 0.35000000000000003, 'skip_drop': 0.2}. Best is trial 7 with value: 8.00038539849301.\n"
     ]
    },
    {
     "name": "stderr",
     "output_type": "stream",
     "text": [
      "`early_stopping_rounds` in `fit` method is deprecated for better compatibility with scikit-learn, use `early_stopping_rounds` in constructor or`set_params` instead.\n"
     ]
    },
    {
     "name": "stdout",
     "output_type": "stream",
     "text": [
      "[I 2025-09-19 16:01:49,024] Trial 19 finished with value: 47.89991764544949 and parameters: {'booster': 'dart', 'max_depth': 3, 'min_child_weight': 2, 'gamma': 3.5, 'learning_rate': 0.000790237923535368, 'n_estimators': 2200, 'subsample': 1.0, 'colsample_bytree': 0.9, 'colsample_bylevel': 0.6, 'colsample_bynode': 0.75, 'reg_alpha': 0.0029608323272710953, 'reg_lambda': 0.31344042669187844, 'sample_type': 'uniform', 'normalize_type': 'tree', 'rate_drop': 0.30000000000000004, 'skip_drop': 0.4}. Best is trial 7 with value: 8.00038539849301.\n"
     ]
    },
    {
     "name": "stderr",
     "output_type": "stream",
     "text": [
      "`early_stopping_rounds` in `fit` method is deprecated for better compatibility with scikit-learn, use `early_stopping_rounds` in constructor or`set_params` instead.\n"
     ]
    },
    {
     "name": "stdout",
     "output_type": "stream",
     "text": [
      "[I 2025-09-19 16:11:09,091] Trial 20 finished with value: 7.849039834158101 and parameters: {'booster': 'dart', 'max_depth': 13, 'min_child_weight': 4, 'gamma': 1.5, 'learning_rate': 0.013201126129238351, 'n_estimators': 1700, 'subsample': 0.65, 'colsample_bytree': 0.8, 'colsample_bylevel': 0.65, 'colsample_bynode': 0.8500000000000001, 'reg_alpha': 2.1696161513859047, 'reg_lambda': 0.00015248185053256462, 'sample_type': 'uniform', 'normalize_type': 'tree', 'rate_drop': 0.2, 'skip_drop': 0.8}. Best is trial 20 with value: 7.849039834158101.\n"
     ]
    },
    {
     "name": "stderr",
     "output_type": "stream",
     "text": [
      "`early_stopping_rounds` in `fit` method is deprecated for better compatibility with scikit-learn, use `early_stopping_rounds` in constructor or`set_params` instead.\n"
     ]
    },
    {
     "name": "stdout",
     "output_type": "stream",
     "text": [
      "[I 2025-09-19 16:22:02,944] Trial 21 finished with value: 7.790220717474982 and parameters: {'booster': 'dart', 'max_depth': 13, 'min_child_weight': 3, 'gamma': 1.0, 'learning_rate': 0.011519767068713856, 'n_estimators': 1700, 'subsample': 0.55, 'colsample_bytree': 0.8, 'colsample_bylevel': 0.65, 'colsample_bynode': 0.8500000000000001, 'reg_alpha': 0.7447565749251417, 'reg_lambda': 9.027761413579183e-05, 'sample_type': 'uniform', 'normalize_type': 'tree', 'rate_drop': 0.2, 'skip_drop': 0.8}. Best is trial 21 with value: 7.790220717474982.\n"
     ]
    },
    {
     "name": "stderr",
     "output_type": "stream",
     "text": [
      "`early_stopping_rounds` in `fit` method is deprecated for better compatibility with scikit-learn, use `early_stopping_rounds` in constructor or`set_params` instead.\n"
     ]
    },
    {
     "name": "stdout",
     "output_type": "stream",
     "text": [
      "[I 2025-09-19 16:31:52,955] Trial 22 finished with value: 7.898663773866748 and parameters: {'booster': 'dart', 'max_depth': 10, 'min_child_weight': 3, 'gamma': 0.0, 'learning_rate': 0.015567354549619813, 'n_estimators': 2000, 'subsample': 0.6, 'colsample_bytree': 0.8, 'colsample_bylevel': 0.75, 'colsample_bynode': 0.8, 'reg_alpha': 1.843599814598536, 'reg_lambda': 0.00011058544998061512, 'sample_type': 'uniform', 'normalize_type': 'tree', 'rate_drop': 0.2, 'skip_drop': 0.8}. Best is trial 21 with value: 7.790220717474982.\n"
     ]
    },
    {
     "name": "stderr",
     "output_type": "stream",
     "text": [
      "`early_stopping_rounds` in `fit` method is deprecated for better compatibility with scikit-learn, use `early_stopping_rounds` in constructor or`set_params` instead.\n"
     ]
    },
    {
     "name": "stdout",
     "output_type": "stream",
     "text": [
      "[I 2025-09-19 16:49:40,644] Trial 23 finished with value: 7.92230533596046 and parameters: {'booster': 'dart', 'max_depth': 10, 'min_child_weight': 3, 'gamma': 0.0, 'learning_rate': 0.012303385461075038, 'n_estimators': 2000, 'subsample': 0.6, 'colsample_bytree': 0.8, 'colsample_bylevel': 0.75, 'colsample_bynode': 0.8500000000000001, 'reg_alpha': 2.6069436922739926, 'reg_lambda': 6.783479727369766e-05, 'sample_type': 'uniform', 'normalize_type': 'tree', 'rate_drop': 0.2, 'skip_drop': 0.8}. Best is trial 21 with value: 7.790220717474982.\n"
     ]
    },
    {
     "name": "stderr",
     "output_type": "stream",
     "text": [
      "`early_stopping_rounds` in `fit` method is deprecated for better compatibility with scikit-learn, use `early_stopping_rounds` in constructor or`set_params` instead.\n"
     ]
    },
    {
     "name": "stdout",
     "output_type": "stream",
     "text": [
      "[I 2025-09-19 18:15:17,611] Trial 24 finished with value: 8.031983587203655 and parameters: {'booster': 'dart', 'max_depth': 10, 'min_child_weight': 3, 'gamma': 1.5, 'learning_rate': 0.002761386846391327, 'n_estimators': 2500, 'subsample': 0.65, 'colsample_bytree': 0.8, 'colsample_bylevel': 0.65, 'colsample_bynode': 0.8, 'reg_alpha': 0.016316462908653264, 'reg_lambda': 1.4662091556867761e-06, 'sample_type': 'uniform', 'normalize_type': 'tree', 'rate_drop': 0.2, 'skip_drop': 0.8}. Best is trial 21 with value: 7.790220717474982.\n"
     ]
    }
   ],
   "source": [
    "# ====== Run Optuna ======\n",
    "\n",
    "obj=\"xgb\"\n",
    "import warnings\n",
    "warnings.filterwarnings(\"ignore\", category=UserWarning, module=\"optuna\")\n",
    "\n",
    "if obj==\"xgb\":\n",
    "    study = optuna.create_study(direction=\"minimize\")\n",
    "    study.optimize(xgb_objective, n_trials=50000,timeout=18000, show_progress_bar=True)\n",
    "\n",
    "elif obj==\"rf\":\n",
    "    study = optuna.create_study(direction=\"minimize\")\n",
    "    study.optimize(rf_objective, n_trials=50000,timeout=18000, show_progress_bar=True)\n",
    "elif obj==\"etr\":\n",
    "    study = optuna.create_study(direction=\"minimize\")\n",
    "    study.optimize(rf_objective, n_trials=50000,timeout=18000, show_progress_bar=True)\n",
    "\n"
   ]
  },
  {
   "cell_type": "code",
   "execution_count": 10,
   "id": "c23cef7f",
   "metadata": {
    "execution": {
     "iopub.execute_input": "2025-09-19T18:15:17.639293Z",
     "iopub.status.busy": "2025-09-19T18:15:17.638525Z",
     "iopub.status.idle": "2025-09-19T18:55:54.183608Z",
     "shell.execute_reply": "2025-09-19T18:55:54.182770Z"
    },
    "papermill": {
     "duration": 2436.553829,
     "end_time": "2025-09-19T18:55:54.185478",
     "exception": false,
     "start_time": "2025-09-19T18:15:17.631649",
     "status": "completed"
    },
    "tags": []
   },
   "outputs": [
    {
     "name": "stdout",
     "output_type": "stream",
     "text": [
      "Best parameters: {'booster': 'dart', 'max_depth': 13, 'min_child_weight': 3, 'gamma': 1.0, 'learning_rate': 0.011519767068713856, 'n_estimators': 1700, 'subsample': 0.55, 'colsample_bytree': 0.8, 'colsample_bylevel': 0.65, 'colsample_bynode': 0.8500000000000001, 'reg_alpha': 0.7447565749251417, 'reg_lambda': 9.027761413579183e-05, 'sample_type': 'uniform', 'normalize_type': 'tree', 'rate_drop': 0.2, 'skip_drop': 0.8}\n",
      "Best validation MAE: 7.790220717474982\n"
     ]
    }
   ],
   "source": [
    "best_params = study.best_trial.params\n",
    "print(\"Best parameters:\", best_params)\n",
    "print(\"Best validation MAE:\", study.best_value)\n",
    "\n",
    "from sklearn.preprocessing import StandardScaler\n",
    "from xgboost import XGBRegressor\n",
    "\n",
    "# Scale the data first\n",
    "scaler = StandardScaler()\n",
    "X_train_scaled = scaler.fit_transform(X_train)\n",
    "X_val_scaled = scaler.transform(X_val)\n",
    "\n",
    "\n",
    "\n",
    "\n",
    "if obj == \"xgb\":\n",
    "    best_model = XGBRegressor(**best_params)\n",
    "    best_model.fit(\n",
    "        X_train_scaled, y_train,\n",
    "        eval_set=[(X_val_scaled, y_val)],\n",
    "        verbose=False\n",
    "    )\n",
    "    \n",
    "elif obj == \"rf\":\n",
    "    best_model = RandomForestRegressor(\n",
    "        **{k: v for k, v in best_params.items() if v is not None},\n",
    "        random_state=42, n_jobs=-1\n",
    "    )\n",
    "    best_model.fit(X_train_scaled, y_train)\n",
    "    \n",
    "elif obj == \"etr\":\n",
    "    best_model = ExtraTreesRegressor(**best_params)\n",
    "    best_model.fit(X_train_scaled, y_train)\n"
   ]
  },
  {
   "cell_type": "code",
   "execution_count": 11,
   "id": "90cf0149",
   "metadata": {
    "execution": {
     "iopub.execute_input": "2025-09-19T18:55:54.199135Z",
     "iopub.status.busy": "2025-09-19T18:55:54.198513Z",
     "iopub.status.idle": "2025-09-19T18:55:56.054983Z",
     "shell.execute_reply": "2025-09-19T18:55:56.054212Z"
    },
    "papermill": {
     "duration": 1.864419,
     "end_time": "2025-09-19T18:55:56.056333",
     "exception": false,
     "start_time": "2025-09-19T18:55:54.191914",
     "status": "completed"
    },
    "tags": []
   },
   "outputs": [
    {
     "name": "stderr",
     "output_type": "stream",
     "text": [
      "X does not have valid feature names, but StandardScaler was fitted with feature names\n"
     ]
    },
    {
     "name": "stdout",
     "output_type": "stream",
     "text": [
      "Training\n",
      "Mean Absolute Error (MAE): 1.5256\n",
      "Median Absolute Percentage Error (MAPE): 0.0060\n",
      "R2 Score: 0.9989\n",
      "=========================\n"
     ]
    },
    {
     "name": "stderr",
     "output_type": "stream",
     "text": [
      "X does not have valid feature names, but StandardScaler was fitted with feature names\n"
     ]
    },
    {
     "name": "stdout",
     "output_type": "stream",
     "text": [
      "Validation\n",
      "Mean Absolute Error (MAE): 7.9278\n",
      "Median Absolute Percentage Error (MAPE): 0.0275\n",
      "R2 Score: 0.9653\n",
      "=========================\n"
     ]
    },
    {
     "name": "stderr",
     "output_type": "stream",
     "text": [
      "X does not have valid feature names, but StandardScaler was fitted with feature names\n"
     ]
    },
    {
     "name": "stdout",
     "output_type": "stream",
     "text": [
      "Test\n",
      "Mean Absolute Error (MAE): 8.4937\n",
      "Median Absolute Percentage Error (MAPE): 0.0264\n",
      "R2 Score: 0.9584\n",
      "=========================\n"
     ]
    }
   ],
   "source": [
    "score_generator(X_train,y_train,best_model,\"Training\")\n",
    "score_generator(X_val,y_val,best_model,\"Validation\")\n",
    "score_generator(X_test,y_test,best_model,\"Test\")"
   ]
  }
 ],
 "metadata": {
  "kaggle": {
   "accelerator": "none",
   "dataSources": [
    {
     "datasetId": 7841219,
     "sourceId": 12431061,
     "sourceType": "datasetVersion"
    },
    {
     "sourceId": 251888055,
     "sourceType": "kernelVersion"
    }
   ],
   "dockerImageVersionId": 31089,
   "isGpuEnabled": false,
   "isInternetEnabled": true,
   "language": "python",
   "sourceType": "notebook"
  },
  "kernelspec": {
   "display_name": "Python 3",
   "language": "python",
   "name": "python3"
  },
  "language_info": {
   "codemirror_mode": {
    "name": "ipython",
    "version": 3
   },
   "file_extension": ".py",
   "mimetype": "text/x-python",
   "name": "python",
   "nbconvert_exporter": "python",
   "pygments_lexer": "ipython3",
   "version": "3.11.13"
  },
  "papermill": {
   "default_parameters": {},
   "duration": 23357.795511,
   "end_time": "2025-09-19T18:55:58.414215",
   "environment_variables": {},
   "exception": null,
   "input_path": "__notebook__.ipynb",
   "output_path": "__notebook__.ipynb",
   "parameters": {},
   "start_time": "2025-09-19T12:26:40.618704",
   "version": "2.6.0"
  },
  "widgets": {
   "application/vnd.jupyter.widget-state+json": {
    "state": {
     "067801added44bd19440ffc82895e947": {
      "model_module": "@jupyter-widgets/base",
      "model_module_version": "2.0.0",
      "model_name": "LayoutModel",
      "state": {
       "_model_module": "@jupyter-widgets/base",
       "_model_module_version": "2.0.0",
       "_model_name": "LayoutModel",
       "_view_count": null,
       "_view_module": "@jupyter-widgets/base",
       "_view_module_version": "2.0.0",
       "_view_name": "LayoutView",
       "align_content": null,
       "align_items": null,
       "align_self": null,
       "border_bottom": null,
       "border_left": null,
       "border_right": null,
       "border_top": null,
       "bottom": null,
       "display": null,
       "flex": null,
       "flex_flow": null,
       "grid_area": null,
       "grid_auto_columns": null,
       "grid_auto_flow": null,
       "grid_auto_rows": null,
       "grid_column": null,
       "grid_gap": null,
       "grid_row": null,
       "grid_template_areas": null,
       "grid_template_columns": null,
       "grid_template_rows": null,
       "height": null,
       "justify_content": null,
       "justify_items": null,
       "left": null,
       "margin": null,
       "max_height": null,
       "max_width": null,
       "min_height": null,
       "min_width": null,
       "object_fit": null,
       "object_position": null,
       "order": null,
       "overflow": null,
       "padding": null,
       "right": null,
       "top": null,
       "visibility": null,
       "width": null
      }
     },
     "19bb102c1e0d4a37bdb46b063c78b60e": {
      "model_module": "@jupyter-widgets/controls",
      "model_module_version": "2.0.0",
      "model_name": "HBoxModel",
      "state": {
       "_dom_classes": [],
       "_model_module": "@jupyter-widgets/controls",
       "_model_module_version": "2.0.0",
       "_model_name": "HBoxModel",
       "_view_count": null,
       "_view_module": "@jupyter-widgets/controls",
       "_view_module_version": "2.0.0",
       "_view_name": "HBoxView",
       "box_style": "",
       "children": [
        "IPY_MODEL_6546850562dd4f6fa5425203245a44d3",
        "IPY_MODEL_5ed71b84cac647b8aff8dc2b78d44b10",
        "IPY_MODEL_43796a5df1334f77994a2b1be1735404"
       ],
       "layout": "IPY_MODEL_067801added44bd19440ffc82895e947",
       "tabbable": null,
       "tooltip": null
      }
     },
     "28cd783fca374387b591a3ed6e437cf1": {
      "model_module": "@jupyter-widgets/base",
      "model_module_version": "2.0.0",
      "model_name": "LayoutModel",
      "state": {
       "_model_module": "@jupyter-widgets/base",
       "_model_module_version": "2.0.0",
       "_model_name": "LayoutModel",
       "_view_count": null,
       "_view_module": "@jupyter-widgets/base",
       "_view_module_version": "2.0.0",
       "_view_name": "LayoutView",
       "align_content": null,
       "align_items": null,
       "align_self": null,
       "border_bottom": null,
       "border_left": null,
       "border_right": null,
       "border_top": null,
       "bottom": null,
       "display": null,
       "flex": null,
       "flex_flow": null,
       "grid_area": null,
       "grid_auto_columns": null,
       "grid_auto_flow": null,
       "grid_auto_rows": null,
       "grid_column": null,
       "grid_gap": null,
       "grid_row": null,
       "grid_template_areas": null,
       "grid_template_columns": null,
       "grid_template_rows": null,
       "height": null,
       "justify_content": null,
       "justify_items": null,
       "left": null,
       "margin": null,
       "max_height": null,
       "max_width": null,
       "min_height": null,
       "min_width": null,
       "object_fit": null,
       "object_position": null,
       "order": null,
       "overflow": null,
       "padding": null,
       "right": null,
       "top": null,
       "visibility": null,
       "width": null
      }
     },
     "43796a5df1334f77994a2b1be1735404": {
      "model_module": "@jupyter-widgets/controls",
      "model_module_version": "2.0.0",
      "model_name": "HTMLModel",
      "state": {
       "_dom_classes": [],
       "_model_module": "@jupyter-widgets/controls",
       "_model_module_version": "2.0.0",
       "_model_name": "HTMLModel",
       "_view_count": null,
       "_view_module": "@jupyter-widgets/controls",
       "_view_module_version": "2.0.0",
       "_view_name": "HTMLView",
       "description": "",
       "description_allow_html": false,
       "layout": "IPY_MODEL_28cd783fca374387b591a3ed6e437cf1",
       "placeholder": "​",
       "style": "IPY_MODEL_d568672beb0c4dd4ba7274e17cbe1e13",
       "tabbable": null,
       "tooltip": null,
       "value": " 25/50000 [5:48:19&lt;31383:54:01, 2260.77s/it, 20899.04/18000 seconds]"
      }
     },
     "5ed71b84cac647b8aff8dc2b78d44b10": {
      "model_module": "@jupyter-widgets/controls",
      "model_module_version": "2.0.0",
      "model_name": "FloatProgressModel",
      "state": {
       "_dom_classes": [],
       "_model_module": "@jupyter-widgets/controls",
       "_model_module_version": "2.0.0",
       "_model_name": "FloatProgressModel",
       "_view_count": null,
       "_view_module": "@jupyter-widgets/controls",
       "_view_module_version": "2.0.0",
       "_view_name": "ProgressView",
       "bar_style": "danger",
       "description": "",
       "description_allow_html": false,
       "layout": "IPY_MODEL_c22c9ac064bf46a6901c86868573212c",
       "max": 50000,
       "min": 0,
       "orientation": "horizontal",
       "style": "IPY_MODEL_9b6342a65e3d4b3c8da6f3ee44b338e2",
       "tabbable": null,
       "tooltip": null,
       "value": 25
      }
     },
     "6546850562dd4f6fa5425203245a44d3": {
      "model_module": "@jupyter-widgets/controls",
      "model_module_version": "2.0.0",
      "model_name": "HTMLModel",
      "state": {
       "_dom_classes": [],
       "_model_module": "@jupyter-widgets/controls",
       "_model_module_version": "2.0.0",
       "_model_name": "HTMLModel",
       "_view_count": null,
       "_view_module": "@jupyter-widgets/controls",
       "_view_module_version": "2.0.0",
       "_view_name": "HTMLView",
       "description": "",
       "description_allow_html": false,
       "layout": "IPY_MODEL_ac5cf2a30233479b9d44887fd2aa4c59",
       "placeholder": "​",
       "style": "IPY_MODEL_d5853f4337ff4666bda42ec8dd4f697f",
       "tabbable": null,
       "tooltip": null,
       "value": "Best trial: 21. Best value: 7.79022:   0%"
      }
     },
     "9b6342a65e3d4b3c8da6f3ee44b338e2": {
      "model_module": "@jupyter-widgets/controls",
      "model_module_version": "2.0.0",
      "model_name": "ProgressStyleModel",
      "state": {
       "_model_module": "@jupyter-widgets/controls",
       "_model_module_version": "2.0.0",
       "_model_name": "ProgressStyleModel",
       "_view_count": null,
       "_view_module": "@jupyter-widgets/base",
       "_view_module_version": "2.0.0",
       "_view_name": "StyleView",
       "bar_color": null,
       "description_width": ""
      }
     },
     "ac5cf2a30233479b9d44887fd2aa4c59": {
      "model_module": "@jupyter-widgets/base",
      "model_module_version": "2.0.0",
      "model_name": "LayoutModel",
      "state": {
       "_model_module": "@jupyter-widgets/base",
       "_model_module_version": "2.0.0",
       "_model_name": "LayoutModel",
       "_view_count": null,
       "_view_module": "@jupyter-widgets/base",
       "_view_module_version": "2.0.0",
       "_view_name": "LayoutView",
       "align_content": null,
       "align_items": null,
       "align_self": null,
       "border_bottom": null,
       "border_left": null,
       "border_right": null,
       "border_top": null,
       "bottom": null,
       "display": null,
       "flex": null,
       "flex_flow": null,
       "grid_area": null,
       "grid_auto_columns": null,
       "grid_auto_flow": null,
       "grid_auto_rows": null,
       "grid_column": null,
       "grid_gap": null,
       "grid_row": null,
       "grid_template_areas": null,
       "grid_template_columns": null,
       "grid_template_rows": null,
       "height": null,
       "justify_content": null,
       "justify_items": null,
       "left": null,
       "margin": null,
       "max_height": null,
       "max_width": null,
       "min_height": null,
       "min_width": null,
       "object_fit": null,
       "object_position": null,
       "order": null,
       "overflow": null,
       "padding": null,
       "right": null,
       "top": null,
       "visibility": null,
       "width": null
      }
     },
     "c22c9ac064bf46a6901c86868573212c": {
      "model_module": "@jupyter-widgets/base",
      "model_module_version": "2.0.0",
      "model_name": "LayoutModel",
      "state": {
       "_model_module": "@jupyter-widgets/base",
       "_model_module_version": "2.0.0",
       "_model_name": "LayoutModel",
       "_view_count": null,
       "_view_module": "@jupyter-widgets/base",
       "_view_module_version": "2.0.0",
       "_view_name": "LayoutView",
       "align_content": null,
       "align_items": null,
       "align_self": null,
       "border_bottom": null,
       "border_left": null,
       "border_right": null,
       "border_top": null,
       "bottom": null,
       "display": null,
       "flex": null,
       "flex_flow": null,
       "grid_area": null,
       "grid_auto_columns": null,
       "grid_auto_flow": null,
       "grid_auto_rows": null,
       "grid_column": null,
       "grid_gap": null,
       "grid_row": null,
       "grid_template_areas": null,
       "grid_template_columns": null,
       "grid_template_rows": null,
       "height": null,
       "justify_content": null,
       "justify_items": null,
       "left": null,
       "margin": null,
       "max_height": null,
       "max_width": null,
       "min_height": null,
       "min_width": null,
       "object_fit": null,
       "object_position": null,
       "order": null,
       "overflow": null,
       "padding": null,
       "right": null,
       "top": null,
       "visibility": null,
       "width": null
      }
     },
     "d568672beb0c4dd4ba7274e17cbe1e13": {
      "model_module": "@jupyter-widgets/controls",
      "model_module_version": "2.0.0",
      "model_name": "HTMLStyleModel",
      "state": {
       "_model_module": "@jupyter-widgets/controls",
       "_model_module_version": "2.0.0",
       "_model_name": "HTMLStyleModel",
       "_view_count": null,
       "_view_module": "@jupyter-widgets/base",
       "_view_module_version": "2.0.0",
       "_view_name": "StyleView",
       "background": null,
       "description_width": "",
       "font_size": null,
       "text_color": null
      }
     },
     "d5853f4337ff4666bda42ec8dd4f697f": {
      "model_module": "@jupyter-widgets/controls",
      "model_module_version": "2.0.0",
      "model_name": "HTMLStyleModel",
      "state": {
       "_model_module": "@jupyter-widgets/controls",
       "_model_module_version": "2.0.0",
       "_model_name": "HTMLStyleModel",
       "_view_count": null,
       "_view_module": "@jupyter-widgets/base",
       "_view_module_version": "2.0.0",
       "_view_name": "StyleView",
       "background": null,
       "description_width": "",
       "font_size": null,
       "text_color": null
      }
     }
    },
    "version_major": 2,
    "version_minor": 0
   }
  }
 },
 "nbformat": 4,
 "nbformat_minor": 5
}
