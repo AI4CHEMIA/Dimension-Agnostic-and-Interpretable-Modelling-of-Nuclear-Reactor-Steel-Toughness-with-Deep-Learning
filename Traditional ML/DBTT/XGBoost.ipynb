{
  "cells": [
    {
      "cell_type": "code",
      "execution_count": null,
      "id": "2143f888",
      "metadata": {},
      "outputs": [],
      "source": [
        "TRAIN_CSV_PATH='../../dataset/train_feat.csv'\n",
        "TEST_CSV_PATH='../../dataset/test_feat.csv'\n",
        "\n"
      ]
    },
    {
      "cell_type": "code",
      "execution_count": 1,
      "id": "d6264ae2",
      "metadata": {
        "execution": {
          "iopub.execute_input": "2025-09-18T18:20:55.708662Z",
          "iopub.status.busy": "2025-09-18T18:20:55.708234Z",
          "iopub.status.idle": "2025-09-18T18:20:55.719720Z",
          "shell.execute_reply": "2025-09-18T18:20:55.718402Z"
        },
        "papermill": {
          "duration": 0.019299,
          "end_time": "2025-09-18T18:20:55.721812",
          "exception": false,
          "start_time": "2025-09-18T18:20:55.702513",
          "status": "completed"
        },
        "tags": []
      },
      "outputs": [],
      "source": [
        "import numpy as np\n",
        "\n",
        "def median_absolute_percentage_error(y_true, y_pred, *, sample_weight=None, multioutput=\"uniform_average\"):\n",
        "    \"\"\"\n",
        "    Median absolute percentage error regression loss.\n",
        "    Compatible with sklearn-style usage.\n",
        "    \"\"\"\n",
        "    y_true = np.array(y_true, dtype=np.float64).ravel()\n",
        "    y_pred = np.array(y_pred, dtype=np.float64).ravel()\n",
        "\n",
        "    # avoid division by zero\n",
        "    nonzero_mask = y_true != 0\n",
        "    if not np.any(nonzero_mask):\n",
        "        raise ValueError(\"All y_true values are zero; MAPE cannot be calculated.\")\n",
        "\n",
        "    errors = np.abs((y_true[nonzero_mask] - y_pred[nonzero_mask]) / y_true[nonzero_mask])\n",
        "\n",
        "    return np.median(errors)\n"
      ]
    },
    {
      "cell_type": "code",
      "execution_count": 2,
      "id": "b8f5db0a",
      "metadata": {
        "_cell_guid": "b1076dfc-b9ad-4769-8c92-a6c4dae69d19",
        "_uuid": "8f2839f25d086af736a60e9eeb907d3b93b6e0e5",
        "execution": {
          "iopub.execute_input": "2025-09-18T18:20:55.730866Z",
          "iopub.status.busy": "2025-09-18T18:20:55.730508Z",
          "iopub.status.idle": "2025-09-18T18:21:11.306832Z",
          "shell.execute_reply": "2025-09-18T18:21:11.305501Z"
        },
        "papermill": {
          "duration": 15.583174,
          "end_time": "2025-09-18T18:21:11.309023",
          "exception": false,
          "start_time": "2025-09-18T18:20:55.725849",
          "status": "completed"
        },
        "tags": []
      },
      "outputs": [],
      "source": [
        "import random\n",
        "import joblib  \n",
        "from itertools import product\n",
        "from pathlib import Path\n",
        "\n",
        "import numpy as np\n",
        "import pandas as pd\n",
        "\n",
        "import shap\n",
        "from sklearn.model_selection import KFold\n",
        "from sklearn.metrics import mean_absolute_error\n",
        "from sklearn.metrics import mean_absolute_error,r2_score,mean_absolute_percentage_error\n",
        "from tqdm import tqdm\n",
        "\n",
        "import optuna\n",
        "import matplotlib.pyplot as plt\n",
        "import pandas as pd\n",
        "import seaborn as sns\n",
        "from sklearn.datasets import load_diabetes\n",
        "from sklearn.ensemble import RandomForestRegressor, ExtraTreesRegressor\n",
        "from sklearn.metrics import mean_absolute_error\n",
        "from sklearn.model_selection import KFold\n",
        "from xgboost import XGBRegressor\n",
        "from sklearn.preprocessing import StandardScaler\n",
        "\n",
        "\n",
        "# ====== Storage for plotting ======\n",
        "history = []\n",
        "\n",
        "# ====== Objective ======\n",
        "\n",
        "\n",
        "def xgb_objective(trial):\n",
        "    # Extensive hyperparameter space\n",
        "    params = {\n",
        "        \"objective\": \"reg:squarederror\",\n",
        "        \"eval_metric\": \"mae\",\n",
        "        \"booster\": trial.suggest_categorical(\"booster\", [\"gbtree\", \"dart\"]),\n",
        "        \n",
        "        # Tree structure parameters\n",
        "        \"max_depth\": trial.suggest_int(\"max_depth\", 3, 15),\n",
        "        \"min_child_weight\": trial.suggest_int(\"min_child_weight\", 1, 15),\n",
        "        \"gamma\": trial.suggest_float(\"gamma\", 0, 10, step=0.5),\n",
        "        \n",
        "        # Learning rate and estimators\n",
        "        \"learning_rate\": trial.suggest_float(\"learning_rate\", 1e-4, 0.3, log=True),\n",
        "        \"n_estimators\": trial.suggest_int(\"n_estimators\", 300, 3000, step=100),\n",
        "        \n",
        "        # Subsampling parameters\n",
        "        \"subsample\": trial.suggest_float(\"subsample\", 0.5, 1.0, step=0.05),\n",
        "        \"colsample_bytree\": trial.suggest_float(\"colsample_bytree\", 0.5, 1.0, step=0.05),\n",
        "        \"colsample_bylevel\": trial.suggest_float(\"colsample_bylevel\", 0.5, 1.0, step=0.05),\n",
        "        \"colsample_bynode\": trial.suggest_float(\"colsample_bynode\", 0.5, 1.0, step=0.05),\n",
        "        \n",
        "        # Regularization parameters\n",
        "        \"reg_alpha\": trial.suggest_float(\"reg_alpha\", 1e-8, 10.0, log=True),\n",
        "        \"reg_lambda\": trial.suggest_float(\"reg_lambda\", 1e-8, 10.0, log=True),\n",
        "        \n",
        "        # DART-specific parameters\n",
        "        \"sample_type\": trial.suggest_categorical(\"sample_type\", [\"uniform\", \"weighted\"]),\n",
        "        \"normalize_type\": trial.suggest_categorical(\"normalize_type\", [\"tree\", \"forest\"]),\n",
        "        \"rate_drop\": trial.suggest_float(\"rate_drop\", 0.0, 0.5, step=0.05),\n",
        "        \"skip_drop\": trial.suggest_float(\"skip_drop\", 0.0, 0.9, step=0.1),\n",
        "    }\n",
        "    \n",
        "    # Data prep\n",
        "    y_train_np = y_train.values\n",
        "    y_val_np = y_val.values\n",
        "    X_train_np = X_train.values\n",
        "    X_val_np = X_val.values\n",
        "\n",
        "    scaler = StandardScaler()\n",
        "    X_train_np = scaler.fit_transform(X_train_np)\n",
        "    X_val_np = scaler.transform(X_val_np)\n",
        "    \n",
        "    # Model training\n",
        "    model = XGBRegressor(**params, random_state=42, n_jobs=-1)\n",
        "    model.fit(\n",
        "        X_train_np, y_train_np,\n",
        "        eval_set=[(X_val_np, y_val_np)],\n",
        "        early_stopping_rounds=100,\n",
        "        verbose=False\n",
        "    )\n",
        "    \n",
        "    # Validation MAE\n",
        "    y_val_pred = model.predict(X_val_np)\n",
        "    val_mae = mean_absolute_error(y_val_np, y_val_pred)\n",
        "    \n",
        "    # Training MAE\n",
        "    y_train_pred = model.predict(X_train_np)\n",
        "    train_mae = mean_absolute_error(y_train_np, y_train_pred)\n",
        "    \n",
        "    # Log results\n",
        "    history.append({\n",
        "        **params,\n",
        "        \"val_mae\": val_mae,\n",
        "        \"train_mae\": train_mae\n",
        "    })\n",
        "    \n",
        "    return val_mae\n",
        "\n",
        "# ====== Objective ======\n",
        "from sklearn.ensemble import RandomForestRegressor\n",
        "from sklearn.preprocessing import StandardScaler\n",
        "from sklearn.metrics import mean_absolute_error\n",
        "\n",
        "def rf_objective(trial):\n",
        "    # Extensive hyperparameter search space\n",
        "    params = {\n",
        "        \"n_estimators\": trial.suggest_int(\"n_estimators\", 50, 1000, step=100),\n",
        "        \"max_depth\": trial.suggest_int(\"max_depth\", 2, 100),  # deeper search\n",
        "        \"min_samples_split\": trial.suggest_int(\"min_samples_split\", 2, 50),\n",
        "        \"min_samples_leaf\": trial.suggest_int(\"min_samples_leaf\", 1, 20),\n",
        "        \"min_weight_fraction_leaf\": trial.suggest_float(\"min_weight_fraction_leaf\", 0.0, 0.5, step=0.05),\n",
        "        \"max_features\": trial.suggest_categorical(\"max_features\", [\"sqrt\", \"log2\", None, 0.2, 0.5, 0.8]),\n",
        "        \"bootstrap\": trial.suggest_categorical(\"bootstrap\", [True]),\n",
        "        \"max_samples\": trial.suggest_float(\"max_samples\", 0.3, 1.0, step=0.05),\n",
        "        \"oob_score\": trial.suggest_categorical(\"oob_score\", [True, False]),\n",
        "        \"min_impurity_decrease\": trial.suggest_float(\"min_impurity_decrease\", 0.0, 1.0, step=0.01),\n",
        "        \"ccp_alpha\": trial.suggest_float(\"ccp_alpha\", 0.0, 0.05, step=0.001)  # complexity pruning\n",
        "    }\n",
        "\n",
        "    # Prepare data\n",
        "    y_train_np = y_train.values\n",
        "    y_val_np = y_val.values\n",
        "    X_train_np = X_train.values\n",
        "    X_val_np = X_val.values\n",
        "\n",
        "    scaler = StandardScaler()\n",
        "    X_train_np = scaler.fit_transform(X_train_np)\n",
        "    X_val_np = scaler.transform(X_val_np)\n",
        "    \n",
        "    # Train model\n",
        "    rf_model = RandomForestRegressor(\n",
        "        **{k: v for k, v in params.items() if v is not None},\n",
        "        random_state=42, n_jobs=-1\n",
        "    )\n",
        "    rf_model.fit(X_train_np, y_train_np)\n",
        "    \n",
        "    # Predictions\n",
        "    y_val_pred = rf_model.predict(X_val_np)\n",
        "    val_mae = mean_absolute_error(y_val_np, y_val_pred)\n",
        "    \n",
        "    y_train_pred = rf_model.predict(X_train_np)\n",
        "    train_mae = mean_absolute_error(y_train_np, y_train_pred)\n",
        "    \n",
        "    # Log results\n",
        "    history.append({\n",
        "        **params,\n",
        "        \"val_mae\": val_mae,\n",
        "        \"train_mae\": train_mae\n",
        "    })\n",
        "    \n",
        "    return val_mae\n",
        "\n",
        "\n",
        "from sklearn.ensemble import ExtraTreesRegressor\n",
        "from sklearn.preprocessing import StandardScaler\n",
        "from sklearn.metrics import mean_absolute_error\n",
        "\n",
        "def etr_objective(trial):\n",
        "    # Extensive hyperparameter search space\n",
        "    params = {\n",
        "        \"n_estimators\": trial.suggest_int(\"n_estimators\", 200, 1000, step=100),\n",
        "        \"max_depth\": trial.suggest_int(\"max_depth\", 2, 100),  # allow shallow to very deep\n",
        "        \"min_samples_split\": trial.suggest_int(\"min_samples_split\", 2, 50),\n",
        "        \"min_samples_leaf\": trial.suggest_int(\"min_samples_leaf\", 1, 20),\n",
        "        \"min_weight_fraction_leaf\": trial.suggest_float(\"min_weight_fraction_leaf\", 0.0, 0.5, step=0.05),\n",
        "        \"max_features\": trial.suggest_categorical(\n",
        "            \"max_features\", [\"sqrt\", \"log2\", None, 0.2, 0.5, 0.8]\n",
        "        ),\n",
        "        \"bootstrap\": trial.suggest_categorical(\"bootstrap\", [True]),\n",
        "        \"max_samples\": trial.suggest_float(\"max_samples\", 0.3, 1.0, step=0.05)\n",
        "                       if trial.suggest_categorical(\"bootstrap_for_max_samples\", [True, False]) else None,\n",
        "        \"min_impurity_decrease\": trial.suggest_float(\"min_impurity_decrease\", 0.0, 1.0, step=0.01),\n",
        "        \"ccp_alpha\": trial.suggest_float(\"ccp_alpha\", 0.0, 0.05, step=0.001)\n",
        "    }\n",
        "    params[\"oob_score\"] = params[\"bootstrap\"]\n",
        "\n",
        "    # Prepare data\n",
        "    y_train_np = y_train.values\n",
        "    y_val_np = y_val.values\n",
        "    X_train_np = X_train.values\n",
        "    X_val_np = X_val.values\n",
        "\n",
        "    scaler = StandardScaler()\n",
        "    X_train_np = scaler.fit_transform(X_train_np)\n",
        "    X_val_np = scaler.transform(X_val_np)\n",
        "    \n",
        "    # Train model\n",
        "    etr_model = ExtraTreesRegressor(\n",
        "        **{k: v for k, v in params.items() if v is not None},\n",
        "        random_state=42, n_jobs=-1\n",
        "    )\n",
        "    etr_model.fit(X_train_np, y_train_np)\n",
        "    \n",
        "    # Predictions\n",
        "    y_val_pred = etr_model.predict(X_val_np)\n",
        "    val_mae = mean_absolute_error(y_val_np, y_val_pred)\n",
        "    \n",
        "    y_train_pred = etr_model.predict(X_train_np)\n",
        "    train_mae = mean_absolute_error(y_train_np, y_train_pred)\n",
        "    \n",
        "    # Log results\n",
        "    history.append({\n",
        "        **params,\n",
        "        \"val_mae\": val_mae,\n",
        "        \"train_mae\": train_mae\n",
        "    })\n",
        "    \n",
        "    return val_mae\n",
        "\n",
        "\n"
      ]
    },
    {
      "cell_type": "code",
      "execution_count": 3,
      "id": "452c1c0b",
      "metadata": {
        "execution": {
          "iopub.execute_input": "2025-09-18T18:21:11.318584Z",
          "iopub.status.busy": "2025-09-18T18:21:11.317968Z",
          "iopub.status.idle": "2025-09-18T18:21:11.325631Z",
          "shell.execute_reply": "2025-09-18T18:21:11.324653Z"
        },
        "papermill": {
          "duration": 0.014113,
          "end_time": "2025-09-18T18:21:11.327255",
          "exception": false,
          "start_time": "2025-09-18T18:21:11.313142",
          "status": "completed"
        },
        "tags": []
      },
      "outputs": [],
      "source": [
        "from sklearn.preprocessing import StandardScaler\n",
        "from sklearn.metrics import mean_absolute_error, mean_absolute_percentage_error, r2_score\n",
        "import torch\n",
        "import numpy as np\n",
        "\n",
        "def score_generator(X, y, model, res_type, device=\"cpu\", is_torch=False):\n",
        "    # Standardize using training set statistics\n",
        "    scaler = StandardScaler()\n",
        "    scaler.fit(X_train)  # Fit only on training data\n",
        "\n",
        "    y_np = y.values.reshape(-1, 1)\n",
        "    X_np = X.values\n",
        "    X_np = scaler.transform(X_np)\n",
        "\n",
        "    y_pred = model.predict(X_np)  # already NumPy\n",
        "\n",
        "    # Metrics\n",
        "    mae = mean_absolute_error(y_np, y_pred)\n",
        "    mape = median_absolute_percentage_error(y_np, y_pred)\n",
        "    r2 = r2_score(y_np, y_pred)\n",
        "\n",
        "    # Print results\n",
        "    print(f\"{res_type}\")\n",
        "    print(f\"Mean Absolute Error (MAE): {mae:.4f}\")\n",
        "    print(f\"Median Absolute Percentage Error (MAPE): {mape:.4f}\")\n",
        "    print(f\"R2 Score: {r2:.4f}\")\n",
        "    print(\"=\" * 25)"
      ]
    },
    {
      "cell_type": "code",
      "execution_count": 4,
      "id": "728c7afc",
      "metadata": {
        "execution": {
          "iopub.execute_input": "2025-09-18T18:21:11.337063Z",
          "iopub.status.busy": "2025-09-18T18:21:11.336652Z",
          "iopub.status.idle": "2025-09-18T18:21:11.366270Z",
          "shell.execute_reply": "2025-09-18T18:21:11.365223Z"
        },
        "papermill": {
          "duration": 0.037037,
          "end_time": "2025-09-18T18:21:11.368059",
          "exception": false,
          "start_time": "2025-09-18T18:21:11.331022",
          "status": "completed"
        },
        "tags": []
      },
      "outputs": [],
      "source": [
        "import numpy as np\n",
        "def featurizer(train_df,test_df):\n",
        "    # Compute derived features for alloy analysis\n",
        "    train_df[\"W/L\"]=train_df[\"Width (mm)\"]/train_df[\"Length (mm)\"]\n",
        "    train_df[\"L/T\"]=train_df[\"Length (mm)\"]/train_df[\"Thickness (mm)\"]\n",
        "    train_df[\"W/T\"]=train_df[\"Thickness (mm)\"]/train_df[\"Width (mm)\"]\n",
        "    train_df[\"Total_Alloy_wt\"] = train_df[[\n",
        "        \"C, wt.%\", \"Si, wt.%\", \"Mn, wt.%\", \"P, wt.%\", \"S, wt.%\",\n",
        "        \"Ni, wt.%\", \"Cr, wt.%\", \"Mo, wt.%\", \"Al, wt.%\", \"N, wt.%\",\n",
        "        \"Ti, wt.%\", \"Nb, wt.%\", \"B, wt.%\", \"Cu, wt.%\", \"V, wt.%\",\n",
        "        \"Zr, wt.%\", \"W, wt.%\", \"Sn, wt.%\", \"Co, wt.%\", \"O, wt,%\",\n",
        "        \"Ta, wt.%\", \"As, wt%\", \"Sb, wt.%\"\n",
        "    ]].sum(axis=1)\n",
        "\n",
        "    train_df[\"Embrittling_Elements\"] = (\n",
        "        train_df[\"P, wt.%\"] +\n",
        "        train_df[\"S, wt.%\"] +\n",
        "        train_df[\"Cu, wt.%\"] +\n",
        "        train_df[\"As, wt%\"] +\n",
        "        train_df[\"Sb, wt.%\"] +\n",
        "        train_df[\"B, wt.%\"]\n",
        "    )\n",
        "\n",
        "    train_df[\"Toughness_Enhancers\"] = (\n",
        "        train_df[\"Ni, wt.%\"] +\n",
        "        train_df[\"Mn, wt.%\"] +\n",
        "        train_df[\"Mo, wt.%\"] +\n",
        "        train_df[\"V, wt.%\"] +\n",
        "        train_df[\"Ti, wt.%\"] +\n",
        "        train_df[\"Nb, wt.%\"]\n",
        "    )\n",
        "\n",
        "    train_df[\"Hardener_Elements\"] = (\n",
        "        train_df[\"C, wt.%\"] +\n",
        "        train_df[\"Cr, wt.%\"] +\n",
        "        train_df[\"Mo, wt.%\"] +\n",
        "        train_df[\"V, wt.%\"] +\n",
        "        train_df[\"W, wt.%\"]\n",
        "    )\n",
        "\n",
        "    train_df[\"Aging_Sensitive\"] = (\n",
        "        train_df[\"Cu, wt.%\"] +\n",
        "        train_df[\"Ni, wt.%\"] +\n",
        "        train_df[\"P, wt.%\"]\n",
        "    )\n",
        "\n",
        "    train_df[\"Carbon_Equivalent\"] = (\n",
        "        train_df[\"C, wt.%\"] +\n",
        "        (train_df[\"Mn, wt.%\"] + train_df[\"Si, wt.%\"]) / 6 +\n",
        "        (train_df[\"Cr, wt.%\"] + train_df[\"Mo, wt.%\"] + train_df[\"V, wt.%\"]) / 5 +\n",
        "        (train_df[\"Ni, wt.%\"] + train_df[\"Cu, wt.%\"]) / 15\n",
        "    )\n",
        "\n",
        "    train_df[\"Fe_Deficit\"] = 100 - train_df[\"Fe, wt.%\"]\n",
        "\n",
        "    # Compute derived features for alloy analysis\n",
        "    test_df[\"W/L\"]=test_df[\"Width (mm)\"]/test_df[\"Length (mm)\"]\n",
        "    test_df[\"L/T\"]=test_df[\"Length (mm)\"]/test_df[\"Thickness (mm)\"]\n",
        "    test_df[\"W/T\"]=test_df[\"Thickness (mm)\"]/test_df[\"Width (mm)\"]\n",
        "    test_df[\"Total_Alloy_wt\"] = test_df[[\n",
        "        \"C, wt.%\", \"Si, wt.%\", \"Mn, wt.%\", \"P, wt.%\", \"S, wt.%\",\n",
        "        \"Ni, wt.%\", \"Cr, wt.%\", \"Mo, wt.%\", \"Al, wt.%\", \"N, wt.%\",\n",
        "        \"Ti, wt.%\", \"Nb, wt.%\", \"B, wt.%\", \"Cu, wt.%\", \"V, wt.%\",\n",
        "        \"Zr, wt.%\", \"W, wt.%\", \"Sn, wt.%\", \"Co, wt.%\", \"O, wt,%\",\n",
        "        \"Ta, wt.%\", \"As, wt%\", \"Sb, wt.%\"\n",
        "    ]].sum(axis=1)\n",
        "    test_df[\"Embrittling_Elements\"] = (\n",
        "        test_df[\"P, wt.%\"] +\n",
        "        test_df[\"S, wt.%\"] +\n",
        "        test_df[\"Cu, wt.%\"] +\n",
        "        test_df[\"As, wt%\"] +\n",
        "        test_df[\"Sb, wt.%\"] +\n",
        "        test_df[\"B, wt.%\"]\n",
        "    )\n",
        "\n",
        "    test_df[\"Toughness_Enhancers\"] = (\n",
        "        test_df[\"Ni, wt.%\"] +\n",
        "        test_df[\"Mn, wt.%\"] +\n",
        "        test_df[\"Mo, wt.%\"] +\n",
        "        test_df[\"V, wt.%\"] +\n",
        "        test_df[\"Ti, wt.%\"] +\n",
        "        test_df[\"Nb, wt.%\"]\n",
        "    )\n",
        "\n",
        "    test_df[\"Hardener_Elements\"] = (\n",
        "        test_df[\"C, wt.%\"] +\n",
        "        test_df[\"Cr, wt.%\"] +\n",
        "        test_df[\"Mo, wt.%\"] +\n",
        "        test_df[\"V, wt.%\"] +\n",
        "        test_df[\"W, wt.%\"]\n",
        "    )\n",
        "\n",
        "    test_df[\"Aging_Sensitive\"] = (\n",
        "        test_df[\"Cu, wt.%\"] +\n",
        "        test_df[\"Ni, wt.%\"] +\n",
        "        test_df[\"P, wt.%\"]\n",
        "    )\n",
        "\n",
        "    test_df[\"Carbon_Equivalent\"] = (\n",
        "        test_df[\"C, wt.%\"] +\n",
        "        (test_df[\"Mn, wt.%\"] + test_df[\"Si, wt.%\"]) / 6 +\n",
        "        (test_df[\"Cr, wt.%\"] + test_df[\"Mo, wt.%\"] + test_df[\"V, wt.%\"]) / 5 +\n",
        "        (test_df[\"Ni, wt.%\"] + test_df[\"Cu, wt.%\"]) / 15\n",
        "    )\n",
        "\n",
        "    test_df[\"Fe_Deficit\"] = 100 - test_df[\"Fe, wt.%\"]\n",
        "\n",
        "    eps = 1e-6  # small value to avoid divide-by-zero\n",
        "\n",
        "\n",
        "    # 1. Composition Ratios\n",
        "    train_df['C_Mn'] = train_df['C, wt.%'] / (train_df['Mn, wt.%'] + eps)\n",
        "    train_df['Cr_Mo_V_Ni'] = train_df[['Cr, wt.%', 'Mo, wt.%', 'V, wt.%', 'Ni, wt.%']].sum(axis=1)\n",
        "    train_df['NiMn_to_CrMoV'] = (train_df['Ni, wt.%'] + train_df['Mn, wt.%']) / (train_df['Cr, wt.%'] + train_df['Mo, wt.%'] + train_df['V, wt.%'] + eps)\n",
        "    train_df['Ni_to_Fe'] = train_df['Ni, wt.%'] / (train_df['Fe, wt.%'] + eps)\n",
        "    train_df['Cr_to_Fe'] = train_df['Cr, wt.%'] / (train_df['Fe, wt.%'] + eps)\n",
        "    train_df['Mo_to_Fe'] = train_df['Mo, wt.%'] / (train_df['Fe, wt.%'] + eps)\n",
        "\n",
        "    # 2. Geometry & Stress Features\n",
        "    train_df['Volume'] = train_df['Length (mm)'] * train_df['Width (mm)'] * train_df['Thickness (mm)']\n",
        "    train_df['Surface_Area'] = 2 * (\n",
        "        train_df['Length (mm)'] * train_df['Width (mm)'] +\n",
        "        train_df['Length (mm)'] * train_df['Thickness (mm)'] +\n",
        "        train_df['Width (mm)'] * train_df['Thickness (mm)']\n",
        "    )\n",
        "    train_df['Compactness'] = train_df['Volume'] / (train_df['Surface_Area'] + eps)\n",
        "\n",
        "    # Compute missing 'Area' as cross-sectional area\n",
        "    train_df['Area'] = train_df['Width (mm)'] * train_df['Thickness (mm)']\n",
        "    train_df['Impact_energy_per_Area'] = train_df['Impact energy (J)'] / (train_df['Area'] + eps)\n",
        "    train_df['Impact_energy_per_Volume'] = train_df['Impact energy (J)'] / (train_df['Volume'] + eps)\n",
        "\n",
        "    # 3. Elemental diversity\n",
        "    element_cols = [col for col in train_df.columns if ', wt.%' in col]\n",
        "    norm_composition = train_df[element_cols].div(train_df[element_cols].sum(axis=1) + eps, axis=0)\n",
        "    train_df['Elemental_count'] = (train_df[element_cols] > 0).sum(axis=1)\n",
        "    train_df['Std_dev_wt'] = train_df[element_cols].std(axis=1)\n",
        "    train_df['Shannon_entropy_composition'] = -(norm_composition * np.log(norm_composition + eps)).sum(axis=1)\n",
        "\n",
        "    # 4. Interaction terms\n",
        "    train_df['C_times_Mn'] = train_df['C, wt.%'] * train_df['Mn, wt.%']\n",
        "    train_df['Mn_times_Cr'] = train_df['Mn, wt.%'] * train_df['Cr, wt.%']\n",
        "    train_df['Ni_times_Mo'] = train_df['Ni, wt.%'] * train_df['Mo, wt.%']\n",
        "\n",
        "    # 5. Physics-inspired placeholders\n",
        "    magpie_cols = train_df.columns[train_df.columns.str.contains('CovalentRadius') & train_df.columns.str.contains('range')]\n",
        "    if len(magpie_cols):\n",
        "        train_df['Solid_solution_strengthening'] = train_df[magpie_cols[0]] * train_df[element_cols].std(axis=1)\n",
        "    else:\n",
        "        train_df['Solid_solution_strengthening'] = np.nan\n",
        "\n",
        "    train_df['Hardness_index'] = (\n",
        "        0.5 * train_df['C, wt.%'] +\n",
        "        0.3 * train_df['Mn, wt.%'] +\n",
        "        0.2 * train_df['Mo, wt.%'] +\n",
        "        0.1 * train_df['Ni, wt.%']\n",
        "    )\n",
        "\n",
        "\n",
        "\n",
        "    # 1. Composition Ratios\n",
        "    test_df['C_Mn'] = test_df['C, wt.%'] / (test_df['Mn, wt.%'] + eps)\n",
        "    test_df['Cr_Mo_V_Ni'] = test_df[['Cr, wt.%', 'Mo, wt.%', 'V, wt.%', 'Ni, wt.%']].sum(axis=1)\n",
        "    test_df['NiMn_to_CrMoV'] = (test_df['Ni, wt.%'] + test_df['Mn, wt.%']) / (test_df['Cr, wt.%'] + test_df['Mo, wt.%'] + test_df['V, wt.%'] + eps)\n",
        "    test_df['Ni_to_Fe'] = test_df['Ni, wt.%'] / (test_df['Fe, wt.%'] + eps)\n",
        "    test_df['Cr_to_Fe'] = test_df['Cr, wt.%'] / (test_df['Fe, wt.%'] + eps)\n",
        "    test_df['Mo_to_Fe'] = test_df['Mo, wt.%'] / (test_df['Fe, wt.%'] + eps)\n",
        "\n",
        "    # 2. Geometry & Stress Features\n",
        "    test_df['Volume'] = test_df['Length (mm)'] * test_df['Width (mm)'] * test_df['Thickness (mm)']\n",
        "    test_df['Surface_Area'] = 2 * (\n",
        "        test_df['Length (mm)'] * test_df['Width (mm)'] +\n",
        "        test_df['Length (mm)'] * test_df['Thickness (mm)'] +\n",
        "        test_df['Width (mm)'] * test_df['Thickness (mm)']\n",
        "    )\n",
        "    test_df['Compactness'] = test_df['Volume'] / (test_df['Surface_Area'] + eps)\n",
        "\n",
        "    # Compute missing 'Area' as cross-sectional area\n",
        "    test_df['Area'] = test_df['Width (mm)'] * test_df['Thickness (mm)']\n",
        "    test_df['Impact_energy_per_Area'] = test_df['Impact energy (J)'] / (test_df['Area'] + eps)\n",
        "    test_df['Impact_energy_per_Volume'] = test_df['Impact energy (J)'] / (test_df['Volume'] + eps)\n",
        "\n",
        "    # 3. Elemental diversity\n",
        "    element_cols = [col for col in test_df.columns if ', wt.%' in col]\n",
        "    norm_composition = test_df[element_cols].div(test_df[element_cols].sum(axis=1) + eps, axis=0)\n",
        "    test_df['Elemental_count'] = (test_df[element_cols] > 0).sum(axis=1)\n",
        "    test_df['Std_dev_wt'] = test_df[element_cols].std(axis=1)\n",
        "    test_df['Shannon_entropy_composition'] = -(norm_composition * np.log(norm_composition + eps)).sum(axis=1)\n",
        "\n",
        "    # 4. Interaction terms\n",
        "    test_df['C_times_Mn'] = test_df['C, wt.%'] * test_df['Mn, wt.%']\n",
        "    test_df['Mn_times_Cr'] = test_df['Mn, wt.%'] * test_df['Cr, wt.%']\n",
        "    test_df['Ni_times_Mo'] = test_df['Ni, wt.%'] * test_df['Mo, wt.%']\n",
        "\n",
        "    # 5. Physics-inspired placeholders\n",
        "    magpie_cols = test_df.columns[test_df.columns.str.contains('CovalentRadius') & test_df.columns.str.contains('range')]\n",
        "    if len(magpie_cols):\n",
        "        test_df['Solid_solution_strengthening'] = test_df[magpie_cols[0]] * test_df[element_cols].std(axis=1)\n",
        "    else:\n",
        "        test_df['Solid_solution_strengthening'] = np.nan\n",
        "\n",
        "    test_df['Hardness_index'] = (\n",
        "        0.5 * test_df['C, wt.%'] +\n",
        "        0.3 * test_df['Mn, wt.%'] +\n",
        "        0.2 * test_df['Mo, wt.%'] +\n",
        "        0.1 * test_df['Ni, wt.%']\n",
        "    )\n",
        "\n",
        "    return train_df, test_df"
      ]
    },
    {
      "cell_type": "code",
      "execution_count": 5,
      "id": "65edc118",
      "metadata": {
        "execution": {
          "iopub.execute_input": "2025-09-18T18:21:11.376911Z",
          "iopub.status.busy": "2025-09-18T18:21:11.376549Z",
          "iopub.status.idle": "2025-09-18T18:21:11.383194Z",
          "shell.execute_reply": "2025-09-18T18:21:11.382250Z"
        },
        "papermill": {
          "duration": 0.012991,
          "end_time": "2025-09-18T18:21:11.385121",
          "exception": false,
          "start_time": "2025-09-18T18:21:11.372130",
          "status": "completed"
        },
        "tags": []
      },
      "outputs": [],
      "source": [
        "feature_to_remove = []\n",
        "feature_to_include = []\n",
        "feature_to_include = [\"C, wt.%\",\t\"Si, wt.%\",\t\"Mn, wt.%\",\t\"P, wt.%\",\t\"S, wt.%\",\t\"Ni, wt.%\",\t\"Cr, wt.%\",\t\"Mo, wt.%\",\t\"Al, wt.%\",\t\"N, wt.%\",\t\"Ti, wt.%\",\t\"Fe, wt.%\",\t\"Nb, wt.%\",\t\"B, wt.%\",\t\"Cu, wt.%\",\t\"V, wt.%\",\t\"Zr, wt.%\",\t\"W, wt.%\",\t\"Sn, wt.%\",\t\"Co, wt.%\",\t\"O, wt,%\", \"Ta, wt.%\",\t\"As, wt%\",\"Sb, wt.%\",'MagpieData mean GSbandgap', 'MagpieData avg_dev GSbandgap', 'Test Temperature (C) ', 'MagpieData mean MeltingT', 'Solid_solution_strengthening', 'C_Mn', 'Embrittling_Elements', 'Impact_energy_per_Volume', 'MagpieData mean NdValence', 'Impact energy (J)', 'Impact_energy_per_Area', 'Compactness', 'MagpieData mean SpaceGroupNumber', 'Cr_to_Fe', 'MagpieData avg_dev NUnfilled', 'Area',  'MagpieData mean NValence', 'Surface_Area', 'Volume', 'MagpieData mean NUnfilled', 'MagpieData avg_dev NpUnfilled', 'MagpieData avg_dev NpValence', 'Aging_Sensitive', 'MagpieData avg_dev NsValence', 'MagpieData mean NpUnfilled', 'MagpieData avg_dev SpaceGroupNumber', 'MagpieData mean NsUnfilled', 'MagpieData mean NsValence', 'MagpieData avg_dev MeltingT', 'Ni_to_Fe', 'MagpieData mean NpValence', 'C_times_Mn', 'Elemental_count', 'NiMn_to_CrMoV', 'MagpieData avg_dev Column', 'MagpieData avg_dev NsUnfilled', 'MagpieData avg_dev NdUnfilled', 'MagpieData mean GSvolume_pa',  'MagpieData avg_dev MendeleevNumber', 'Cr_Mo_V_Ni', 'MagpieData mean Electronegativity', 'Mn_times_Cr', 'W/L', 'MagpieData mean CovalentRadius',  'L/T', 'Carbon_Equivalent', 'MagpieData avg_dev CovalentRadius']\n"
      ]
    },
    {
      "cell_type": "code",
      "execution_count": null,
      "id": "4c20c585",
      "metadata": {
        "execution": {
          "iopub.execute_input": "2025-09-18T18:21:11.393361Z",
          "iopub.status.busy": "2025-09-18T18:21:11.393015Z",
          "iopub.status.idle": "2025-09-18T18:21:11.703361Z",
          "shell.execute_reply": "2025-09-18T18:21:11.701726Z"
        },
        "papermill": {
          "duration": 0.316583,
          "end_time": "2025-09-18T18:21:11.705249",
          "exception": false,
          "start_time": "2025-09-18T18:21:11.388666",
          "status": "completed"
        },
        "tags": []
      },
      "outputs": [
        {
          "name": "stdout",
          "output_type": "stream",
          "text": [
            "Original shape: (3694, 193)\n",
            "Filtered shape: (3451, 72)\n"
          ]
        }
      ],
      "source": [
        "from sklearn.model_selection import train_test_split\n",
        "import numpy as np\n",
        "import pandas as pd\n",
        "\n",
        "train_df=pd.read_csv(TRAIN_CSV_PATH).select_dtypes(include=\"number\")\n",
        "test_df=pd.read_csv(TEST_CSV_PATH).select_dtypes(include=\"number\")\n",
        "train_df,test_df=featurizer(train_df,test_df)\n",
        "\n",
        "target=\"DBTT\"\n",
        "print(f\"Original shape: {train_df.shape}\")\n",
        "\n",
        "\n",
        "\n",
        "mean_val = train_df[target].mean()\n",
        "std_val = train_df[target].std()\n",
        "upper_bound = mean_val + 1.75 * std_val\n",
        "\n",
        "train_df = train_df.dropna(subset=[target])\n",
        "\n",
        "if feature_to_include:\n",
        "    existing_features = [f for f in feature_to_include if f in train_df.columns]\n",
        "    train_df = train_df[existing_features + [target]]\n",
        "\n",
        "train_df = train_df[ (train_df[target] <= upper_bound)]\n",
        "\n",
        "test_df = test_df.dropna(subset=[target])\n",
        "test_df = test_df[list(train_df.columns)]\n",
        "test_df = test_df[ (test_df[target] <= upper_bound)]\n",
        "\n",
        "print(f\"Filtered shape: {train_df.shape}\")\n",
        "\n",
        "\n"
      ]
    },
    {
      "cell_type": "code",
      "execution_count": 7,
      "id": "bd9181b8",
      "metadata": {
        "execution": {
          "iopub.execute_input": "2025-09-18T18:21:11.714224Z",
          "iopub.status.busy": "2025-09-18T18:21:11.713896Z",
          "iopub.status.idle": "2025-09-18T18:21:11.721889Z",
          "shell.execute_reply": "2025-09-18T18:21:11.720562Z"
        },
        "papermill": {
          "duration": 0.014771,
          "end_time": "2025-09-18T18:21:11.723736",
          "exception": false,
          "start_time": "2025-09-18T18:21:11.708965",
          "status": "completed"
        },
        "tags": []
      },
      "outputs": [
        {
          "data": {
            "text/plain": [
              "72"
            ]
          },
          "execution_count": 7,
          "metadata": {},
          "output_type": "execute_result"
        }
      ],
      "source": [
        "len(test_df.columns)"
      ]
    },
    {
      "cell_type": "code",
      "execution_count": 8,
      "id": "d6091028",
      "metadata": {
        "execution": {
          "iopub.execute_input": "2025-09-18T18:21:11.732542Z",
          "iopub.status.busy": "2025-09-18T18:21:11.732210Z",
          "iopub.status.idle": "2025-09-18T18:21:11.756234Z",
          "shell.execute_reply": "2025-09-18T18:21:11.755114Z"
        },
        "papermill": {
          "duration": 0.030641,
          "end_time": "2025-09-18T18:21:11.758186",
          "exception": false,
          "start_time": "2025-09-18T18:21:11.727545",
          "status": "completed"
        },
        "tags": []
      },
      "outputs": [],
      "source": [
        "cols_to_drop = ['DBTT', 'USE', \"Width (mm)\", \"Length (mm)\", \"Thickness (mm)\"] + list(feature_to_remove)\n",
        "X=train_df.drop(columns=cols_to_drop, errors='ignore')\n",
        "y=train_df[target]\n",
        "X_test=test_df.drop(columns=cols_to_drop, errors='ignore')\n",
        "y_test=test_df[[target]]\n",
        "\n",
        "bins = pd.cut(y, bins=10, labels=False)  # 3 intervals, labels = 0,1,2\n",
        "\n",
        "X_train, X_val, y_train, y_val = train_test_split(\n",
        "    X, y,\n",
        "    test_size=0.2,\n",
        "    random_state=42,\n",
        "    stratify=y\n",
        ")\n",
        "\n",
        "\n",
        "\n"
      ]
    },
    {
      "cell_type": "code",
      "execution_count": 9,
      "id": "939638a4",
      "metadata": {
        "execution": {
          "iopub.execute_input": "2025-09-18T18:21:11.767587Z",
          "iopub.status.busy": "2025-09-18T18:21:11.767248Z",
          "iopub.status.idle": "2025-09-18T23:22:52.908477Z",
          "shell.execute_reply": "2025-09-18T23:22:52.907417Z"
        },
        "papermill": {
          "duration": 18101.157255,
          "end_time": "2025-09-18T23:22:52.919303",
          "exception": false,
          "start_time": "2025-09-18T18:21:11.762048",
          "status": "completed"
        },
        "tags": []
      },
      "outputs": [
        {
          "name": "stderr",
          "output_type": "stream",
          "text": [
            "[I 2025-09-18 18:21:11,770] A new study created in memory with name: no-name-d1c8e663-2238-419a-b6ec-e9dfa70a174d\n"
          ]
        },
        {
          "data": {
            "application/vnd.jupyter.widget-view+json": {
              "model_id": "c95e7cafe08442c4ae1cd2fd81fd0df2",
              "version_major": 2,
              "version_minor": 0
            },
            "text/plain": [
              "  0%|          | 0/50000 [00:00<?, ?it/s]"
            ]
          },
          "metadata": {},
          "output_type": "display_data"
        },
        {
          "name": "stderr",
          "output_type": "stream",
          "text": [
            "`early_stopping_rounds` in `fit` method is deprecated for better compatibility with scikit-learn, use `early_stopping_rounds` in constructor or`set_params` instead.\n"
          ]
        },
        {
          "name": "stdout",
          "output_type": "stream",
          "text": [
            "[I 2025-09-18 18:22:49,387] Trial 0 finished with value: 24.23975171338937 and parameters: {'booster': 'dart', 'max_depth': 5, 'min_child_weight': 3, 'gamma': 7.0, 'learning_rate': 0.16837442780004816, 'n_estimators': 2000, 'subsample': 1.0, 'colsample_bytree': 0.9, 'colsample_bylevel': 1.0, 'colsample_bynode': 0.9, 'reg_alpha': 1.6716180256312552, 'reg_lambda': 0.0860013111009458, 'sample_type': 'weighted', 'normalize_type': 'forest', 'rate_drop': 0.1, 'skip_drop': 0.30000000000000004}. Best is trial 0 with value: 24.23975171338937.\n"
          ]
        },
        {
          "name": "stderr",
          "output_type": "stream",
          "text": [
            "`early_stopping_rounds` in `fit` method is deprecated for better compatibility with scikit-learn, use `early_stopping_rounds` in constructor or`set_params` instead.\n",
            "[18:22:49] WARNING: /workspace/src/learner.cc:742: \n",
            "Parameters: { \"normalize_type\", \"rate_drop\", \"sample_type\", \"skip_drop\" } are not used.\n",
            "\n"
          ]
        },
        {
          "name": "stdout",
          "output_type": "stream",
          "text": [
            "[I 2025-09-18 18:22:52,828] Trial 1 finished with value: 8.385911747482456 and parameters: {'booster': 'gbtree', 'max_depth': 14, 'min_child_weight': 13, 'gamma': 9.5, 'learning_rate': 0.04952570331439078, 'n_estimators': 2000, 'subsample': 0.75, 'colsample_bytree': 0.65, 'colsample_bylevel': 0.8500000000000001, 'colsample_bynode': 0.6, 'reg_alpha': 2.2959547155647495e-08, 'reg_lambda': 4.235972510007154e-06, 'sample_type': 'uniform', 'normalize_type': 'tree', 'rate_drop': 0.30000000000000004, 'skip_drop': 0.9}. Best is trial 1 with value: 8.385911747482456.\n"
          ]
        },
        {
          "name": "stderr",
          "output_type": "stream",
          "text": [
            "`early_stopping_rounds` in `fit` method is deprecated for better compatibility with scikit-learn, use `early_stopping_rounds` in constructor or`set_params` instead.\n",
            "[18:22:52] WARNING: /workspace/src/learner.cc:742: \n",
            "Parameters: { \"normalize_type\", \"rate_drop\", \"sample_type\", \"skip_drop\" } are not used.\n",
            "\n"
          ]
        },
        {
          "name": "stdout",
          "output_type": "stream",
          "text": [
            "[I 2025-09-18 18:23:13,196] Trial 2 finished with value: 7.446098059211416 and parameters: {'booster': 'gbtree', 'max_depth': 12, 'min_child_weight': 3, 'gamma': 3.0, 'learning_rate': 0.009133897599195317, 'n_estimators': 1800, 'subsample': 0.65, 'colsample_bytree': 1.0, 'colsample_bylevel': 0.95, 'colsample_bynode': 0.8, 'reg_alpha': 1.395340068656354e-05, 'reg_lambda': 1.0702183473836827e-06, 'sample_type': 'weighted', 'normalize_type': 'forest', 'rate_drop': 0.4, 'skip_drop': 0.8}. Best is trial 2 with value: 7.446098059211416.\n"
          ]
        },
        {
          "name": "stderr",
          "output_type": "stream",
          "text": [
            "`early_stopping_rounds` in `fit` method is deprecated for better compatibility with scikit-learn, use `early_stopping_rounds` in constructor or`set_params` instead.\n",
            "[18:23:13] WARNING: /workspace/src/learner.cc:742: \n",
            "Parameters: { \"normalize_type\", \"rate_drop\", \"sample_type\", \"skip_drop\" } are not used.\n",
            "\n"
          ]
        },
        {
          "name": "stdout",
          "output_type": "stream",
          "text": [
            "[I 2025-09-18 18:23:17,772] Trial 3 finished with value: 10.024079496442614 and parameters: {'booster': 'gbtree', 'max_depth': 13, 'min_child_weight': 6, 'gamma': 3.0, 'learning_rate': 0.004607142958650715, 'n_estimators': 600, 'subsample': 1.0, 'colsample_bytree': 0.5, 'colsample_bylevel': 0.5, 'colsample_bynode': 0.6, 'reg_alpha': 0.07406116148603656, 'reg_lambda': 2.5808199322144003e-05, 'sample_type': 'uniform', 'normalize_type': 'forest', 'rate_drop': 0.5, 'skip_drop': 0.2}. Best is trial 2 with value: 7.446098059211416.\n"
          ]
        },
        {
          "name": "stderr",
          "output_type": "stream",
          "text": [
            "`early_stopping_rounds` in `fit` method is deprecated for better compatibility with scikit-learn, use `early_stopping_rounds` in constructor or`set_params` instead.\n",
            "[18:23:17] WARNING: /workspace/src/learner.cc:742: \n",
            "Parameters: { \"normalize_type\", \"rate_drop\", \"sample_type\", \"skip_drop\" } are not used.\n",
            "\n"
          ]
        },
        {
          "name": "stdout",
          "output_type": "stream",
          "text": [
            "[I 2025-09-18 18:23:20,103] Trial 4 finished with value: 9.959100454596326 and parameters: {'booster': 'gbtree', 'max_depth': 4, 'min_child_weight': 4, 'gamma': 6.0, 'learning_rate': 0.014875483688336728, 'n_estimators': 1400, 'subsample': 0.6, 'colsample_bytree': 0.8, 'colsample_bylevel': 0.65, 'colsample_bynode': 0.8, 'reg_alpha': 1.8219392557944284e-07, 'reg_lambda': 0.0007393266567365086, 'sample_type': 'weighted', 'normalize_type': 'forest', 'rate_drop': 0.45, 'skip_drop': 0.5}. Best is trial 2 with value: 7.446098059211416.\n"
          ]
        },
        {
          "name": "stderr",
          "output_type": "stream",
          "text": [
            "`early_stopping_rounds` in `fit` method is deprecated for better compatibility with scikit-learn, use `early_stopping_rounds` in constructor or`set_params` instead.\n"
          ]
        },
        {
          "name": "stdout",
          "output_type": "stream",
          "text": [
            "[I 2025-09-18 18:50:46,088] Trial 5 finished with value: 19.976993150182757 and parameters: {'booster': 'dart', 'max_depth': 12, 'min_child_weight': 2, 'gamma': 9.0, 'learning_rate': 0.0009893845396544677, 'n_estimators': 1400, 'subsample': 0.55, 'colsample_bytree': 1.0, 'colsample_bylevel': 0.7, 'colsample_bynode': 0.6, 'reg_alpha': 0.0052610754220268514, 'reg_lambda': 1.6244108547386382e-06, 'sample_type': 'weighted', 'normalize_type': 'tree', 'rate_drop': 0.25, 'skip_drop': 0.6000000000000001}. Best is trial 2 with value: 7.446098059211416.\n"
          ]
        },
        {
          "name": "stderr",
          "output_type": "stream",
          "text": [
            "`early_stopping_rounds` in `fit` method is deprecated for better compatibility with scikit-learn, use `early_stopping_rounds` in constructor or`set_params` instead.\n",
            "[18:50:46] WARNING: /workspace/src/learner.cc:742: \n",
            "Parameters: { \"normalize_type\", \"rate_drop\", \"sample_type\", \"skip_drop\" } are not used.\n",
            "\n"
          ]
        },
        {
          "name": "stdout",
          "output_type": "stream",
          "text": [
            "[I 2025-09-18 18:51:07,854] Trial 6 finished with value: 16.45106885932831 and parameters: {'booster': 'gbtree', 'max_depth': 14, 'min_child_weight': 5, 'gamma': 3.5, 'learning_rate': 0.0006886532509934667, 'n_estimators': 1700, 'subsample': 0.9, 'colsample_bytree': 0.55, 'colsample_bylevel': 0.8500000000000001, 'colsample_bynode': 0.75, 'reg_alpha': 2.221118914565695e-06, 'reg_lambda': 0.011290694705593053, 'sample_type': 'uniform', 'normalize_type': 'forest', 'rate_drop': 0.1, 'skip_drop': 0.4}. Best is trial 2 with value: 7.446098059211416.\n"
          ]
        },
        {
          "name": "stderr",
          "output_type": "stream",
          "text": [
            "`early_stopping_rounds` in `fit` method is deprecated for better compatibility with scikit-learn, use `early_stopping_rounds` in constructor or`set_params` instead.\n",
            "[18:51:07] WARNING: /workspace/src/learner.cc:742: \n",
            "Parameters: { \"normalize_type\", \"rate_drop\", \"sample_type\", \"skip_drop\" } are not used.\n",
            "\n"
          ]
        },
        {
          "name": "stdout",
          "output_type": "stream",
          "text": [
            "[I 2025-09-18 18:51:20,643] Trial 7 finished with value: 21.519324225142963 and parameters: {'booster': 'gbtree', 'max_depth': 8, 'min_child_weight': 2, 'gamma': 4.5, 'learning_rate': 0.0003119123141710988, 'n_estimators': 2700, 'subsample': 1.0, 'colsample_bytree': 0.9, 'colsample_bylevel': 0.65, 'colsample_bynode': 0.65, 'reg_alpha': 2.0871575360279518e-07, 'reg_lambda': 2.1841194839825895, 'sample_type': 'uniform', 'normalize_type': 'forest', 'rate_drop': 0.15000000000000002, 'skip_drop': 0.2}. Best is trial 2 with value: 7.446098059211416.\n"
          ]
        },
        {
          "name": "stderr",
          "output_type": "stream",
          "text": [
            "`early_stopping_rounds` in `fit` method is deprecated for better compatibility with scikit-learn, use `early_stopping_rounds` in constructor or`set_params` instead.\n"
          ]
        },
        {
          "name": "stdout",
          "output_type": "stream",
          "text": [
            "[I 2025-09-18 18:55:13,230] Trial 8 finished with value: 8.258599839725075 and parameters: {'booster': 'dart', 'max_depth': 11, 'min_child_weight': 11, 'gamma': 6.0, 'learning_rate': 0.14853373799769712, 'n_estimators': 1100, 'subsample': 0.95, 'colsample_bytree': 0.6, 'colsample_bylevel': 0.75, 'colsample_bynode': 0.65, 'reg_alpha': 0.00029029957445641846, 'reg_lambda': 1.7120109149409533e-08, 'sample_type': 'weighted', 'normalize_type': 'tree', 'rate_drop': 0.05, 'skip_drop': 0.4}. Best is trial 2 with value: 7.446098059211416.\n"
          ]
        },
        {
          "name": "stderr",
          "output_type": "stream",
          "text": [
            "`early_stopping_rounds` in `fit` method is deprecated for better compatibility with scikit-learn, use `early_stopping_rounds` in constructor or`set_params` instead.\n"
          ]
        },
        {
          "name": "stdout",
          "output_type": "stream",
          "text": [
            "[I 2025-09-18 19:19:11,555] Trial 9 finished with value: 30.194238402373834 and parameters: {'booster': 'dart', 'max_depth': 7, 'min_child_weight': 10, 'gamma': 2.0, 'learning_rate': 0.00026575972084126, 'n_estimators': 1300, 'subsample': 0.8, 'colsample_bytree': 0.7, 'colsample_bylevel': 0.9, 'colsample_bynode': 0.6, 'reg_alpha': 0.29013629278794856, 'reg_lambda': 8.778685447629972e-06, 'sample_type': 'weighted', 'normalize_type': 'forest', 'rate_drop': 0.05, 'skip_drop': 0.9}. Best is trial 2 with value: 7.446098059211416.\n"
          ]
        },
        {
          "name": "stderr",
          "output_type": "stream",
          "text": [
            "`early_stopping_rounds` in `fit` method is deprecated for better compatibility with scikit-learn, use `early_stopping_rounds` in constructor or`set_params` instead.\n",
            "[19:19:11] WARNING: /workspace/src/learner.cc:742: \n",
            "Parameters: { \"normalize_type\", \"rate_drop\", \"sample_type\", \"skip_drop\" } are not used.\n",
            "\n"
          ]
        },
        {
          "name": "stdout",
          "output_type": "stream",
          "text": [
            "[I 2025-09-18 19:19:31,334] Trial 10 finished with value: 8.096638153733883 and parameters: {'booster': 'gbtree', 'max_depth': 10, 'min_child_weight': 8, 'gamma': 0.0, 'learning_rate': 0.004291515362163485, 'n_estimators': 2800, 'subsample': 0.65, 'colsample_bytree': 1.0, 'colsample_bylevel': 1.0, 'colsample_bynode': 1.0, 'reg_alpha': 4.442628927080412e-05, 'reg_lambda': 1.6289316833725043e-08, 'sample_type': 'weighted', 'normalize_type': 'tree', 'rate_drop': 0.35000000000000003, 'skip_drop': 0.7000000000000001}. Best is trial 2 with value: 7.446098059211416.\n"
          ]
        },
        {
          "name": "stderr",
          "output_type": "stream",
          "text": [
            "`early_stopping_rounds` in `fit` method is deprecated for better compatibility with scikit-learn, use `early_stopping_rounds` in constructor or`set_params` instead.\n",
            "[19:19:31] WARNING: /workspace/src/learner.cc:742: \n",
            "Parameters: { \"normalize_type\", \"rate_drop\", \"sample_type\", \"skip_drop\" } are not used.\n",
            "\n"
          ]
        },
        {
          "name": "stdout",
          "output_type": "stream",
          "text": [
            "[I 2025-09-18 19:19:51,442] Trial 11 finished with value: 8.037086282507905 and parameters: {'booster': 'gbtree', 'max_depth': 10, 'min_child_weight': 8, 'gamma': 0.0, 'learning_rate': 0.004729289886298483, 'n_estimators': 2900, 'subsample': 0.65, 'colsample_bytree': 1.0, 'colsample_bylevel': 1.0, 'colsample_bynode': 1.0, 'reg_alpha': 5.655794495273971e-05, 'reg_lambda': 1.2372369054739696e-08, 'sample_type': 'weighted', 'normalize_type': 'tree', 'rate_drop': 0.35000000000000003, 'skip_drop': 0.7000000000000001}. Best is trial 2 with value: 7.446098059211416.\n"
          ]
        },
        {
          "name": "stderr",
          "output_type": "stream",
          "text": [
            "`early_stopping_rounds` in `fit` method is deprecated for better compatibility with scikit-learn, use `early_stopping_rounds` in constructor or`set_params` instead.\n",
            "[19:19:51] WARNING: /workspace/src/learner.cc:742: \n",
            "Parameters: { \"normalize_type\", \"rate_drop\", \"sample_type\", \"skip_drop\" } are not used.\n",
            "\n"
          ]
        },
        {
          "name": "stdout",
          "output_type": "stream",
          "text": [
            "[I 2025-09-18 19:19:58,843] Trial 12 finished with value: 7.999197982772894 and parameters: {'booster': 'gbtree', 'max_depth': 9, 'min_child_weight': 7, 'gamma': 0.0, 'learning_rate': 0.017603206321433144, 'n_estimators': 2400, 'subsample': 0.7, 'colsample_bytree': 0.9, 'colsample_bylevel': 0.95, 'colsample_bynode': 1.0, 'reg_alpha': 9.477936666909924e-06, 'reg_lambda': 1.6895615326486762e-07, 'sample_type': 'weighted', 'normalize_type': 'tree', 'rate_drop': 0.4, 'skip_drop': 0.7000000000000001}. Best is trial 2 with value: 7.446098059211416.\n"
          ]
        },
        {
          "name": "stderr",
          "output_type": "stream",
          "text": [
            "`early_stopping_rounds` in `fit` method is deprecated for better compatibility with scikit-learn, use `early_stopping_rounds` in constructor or`set_params` instead.\n",
            "[19:19:58] WARNING: /workspace/src/learner.cc:742: \n",
            "Parameters: { \"normalize_type\", \"rate_drop\", \"sample_type\", \"skip_drop\" } are not used.\n",
            "\n"
          ]
        },
        {
          "name": "stdout",
          "output_type": "stream",
          "text": [
            "[I 2025-09-18 19:20:07,165] Trial 13 finished with value: 8.421490668104576 and parameters: {'booster': 'gbtree', 'max_depth': 7, 'min_child_weight': 15, 'gamma': 1.5, 'learning_rate': 0.022699148160031896, 'n_estimators': 2400, 'subsample': 0.75, 'colsample_bytree': 0.8500000000000001, 'colsample_bylevel': 0.9, 'colsample_bynode': 0.8500000000000001, 'reg_alpha': 8.841913202391053e-06, 'reg_lambda': 5.24677733750141e-07, 'sample_type': 'weighted', 'normalize_type': 'tree', 'rate_drop': 0.4, 'skip_drop': 0.8}. Best is trial 2 with value: 7.446098059211416.\n"
          ]
        },
        {
          "name": "stderr",
          "output_type": "stream",
          "text": [
            "`early_stopping_rounds` in `fit` method is deprecated for better compatibility with scikit-learn, use `early_stopping_rounds` in constructor or`set_params` instead.\n",
            "[19:20:07] WARNING: /workspace/src/learner.cc:742: \n",
            "Parameters: { \"normalize_type\", \"rate_drop\", \"sample_type\", \"skip_drop\" } are not used.\n",
            "\n"
          ]
        },
        {
          "name": "stdout",
          "output_type": "stream",
          "text": [
            "[I 2025-09-18 19:20:14,200] Trial 14 finished with value: 7.656556032669647 and parameters: {'booster': 'gbtree', 'max_depth': 15, 'min_child_weight': 6, 'gamma': 1.5, 'learning_rate': 0.021811023220271782, 'n_estimators': 2300, 'subsample': 0.7, 'colsample_bytree': 0.9, 'colsample_bylevel': 0.9, 'colsample_bynode': 0.9, 'reg_alpha': 0.0006398463134710485, 'reg_lambda': 4.1348107776558714e-07, 'sample_type': 'weighted', 'normalize_type': 'forest', 'rate_drop': 0.5, 'skip_drop': 0.0}. Best is trial 2 with value: 7.446098059211416.\n"
          ]
        },
        {
          "name": "stderr",
          "output_type": "stream",
          "text": [
            "`early_stopping_rounds` in `fit` method is deprecated for better compatibility with scikit-learn, use `early_stopping_rounds` in constructor or`set_params` instead.\n",
            "[19:20:14] WARNING: /workspace/src/learner.cc:742: \n",
            "Parameters: { \"normalize_type\", \"rate_drop\", \"sample_type\", \"skip_drop\" } are not used.\n",
            "\n"
          ]
        },
        {
          "name": "stdout",
          "output_type": "stream",
          "text": [
            "[I 2025-09-18 19:21:22,390] Trial 15 finished with value: 8.220510256103719 and parameters: {'booster': 'gbtree', 'max_depth': 15, 'min_child_weight': 1, 'gamma': 2.0, 'learning_rate': 0.0017836459478061397, 'n_estimators': 2000, 'subsample': 0.5, 'colsample_bytree': 0.75, 'colsample_bylevel': 0.8, 'colsample_bynode': 0.9, 'reg_alpha': 0.002857331377440462, 'reg_lambda': 0.00022818211865253092, 'sample_type': 'weighted', 'normalize_type': 'forest', 'rate_drop': 0.5, 'skip_drop': 0.0}. Best is trial 2 with value: 7.446098059211416.\n"
          ]
        },
        {
          "name": "stderr",
          "output_type": "stream",
          "text": [
            "`early_stopping_rounds` in `fit` method is deprecated for better compatibility with scikit-learn, use `early_stopping_rounds` in constructor or`set_params` instead.\n",
            "[19:21:22] WARNING: /workspace/src/learner.cc:742: \n",
            "Parameters: { \"normalize_type\", \"rate_drop\", \"sample_type\", \"skip_drop\" } are not used.\n",
            "\n"
          ]
        },
        {
          "name": "stdout",
          "output_type": "stream",
          "text": [
            "[I 2025-09-18 19:21:25,769] Trial 16 finished with value: 7.610784416194666 and parameters: {'booster': 'gbtree', 'max_depth': 15, 'min_child_weight': 5, 'gamma': 4.0, 'learning_rate': 0.056629513032198146, 'n_estimators': 500, 'subsample': 0.8500000000000001, 'colsample_bytree': 0.95, 'colsample_bylevel': 0.9, 'colsample_bynode': 0.75, 'reg_alpha': 0.004194252153156365, 'reg_lambda': 0.000101469821880362, 'sample_type': 'weighted', 'normalize_type': 'forest', 'rate_drop': 0.25, 'skip_drop': 0.0}. Best is trial 2 with value: 7.446098059211416.\n"
          ]
        },
        {
          "name": "stderr",
          "output_type": "stream",
          "text": [
            "`early_stopping_rounds` in `fit` method is deprecated for better compatibility with scikit-learn, use `early_stopping_rounds` in constructor or`set_params` instead.\n",
            "[19:21:25] WARNING: /workspace/src/learner.cc:742: \n",
            "Parameters: { \"normalize_type\", \"rate_drop\", \"sample_type\", \"skip_drop\" } are not used.\n",
            "\n"
          ]
        },
        {
          "name": "stdout",
          "output_type": "stream",
          "text": [
            "[I 2025-09-18 19:21:28,317] Trial 17 finished with value: 7.665095635366629 and parameters: {'booster': 'gbtree', 'max_depth': 12, 'min_child_weight': 4, 'gamma': 4.5, 'learning_rate': 0.06660796741014954, 'n_estimators': 400, 'subsample': 0.8500000000000001, 'colsample_bytree': 0.95, 'colsample_bylevel': 0.8, 'colsample_bynode': 0.5, 'reg_alpha': 0.02995849258683288, 'reg_lambda': 0.0003833854721598714, 'sample_type': 'weighted', 'normalize_type': 'forest', 'rate_drop': 0.25, 'skip_drop': 0.1}. Best is trial 2 with value: 7.446098059211416.\n"
          ]
        },
        {
          "name": "stderr",
          "output_type": "stream",
          "text": [
            "`early_stopping_rounds` in `fit` method is deprecated for better compatibility with scikit-learn, use `early_stopping_rounds` in constructor or`set_params` instead.\n"
          ]
        },
        {
          "name": "stdout",
          "output_type": "stream",
          "text": [
            "[I 2025-09-18 19:21:52,094] Trial 18 finished with value: 35.145413170139925 and parameters: {'booster': 'dart', 'max_depth': 13, 'min_child_weight': 1, 'gamma': 8.0, 'learning_rate': 0.26633611000913016, 'n_estimators': 800, 'subsample': 0.8500000000000001, 'colsample_bytree': 0.8, 'colsample_bylevel': 0.5, 'colsample_bynode': 0.75, 'reg_alpha': 7.443054825302472, 'reg_lambda': 5.2449135450876026e-05, 'sample_type': 'uniform', 'normalize_type': 'forest', 'rate_drop': 0.2, 'skip_drop': 0.5}. Best is trial 2 with value: 7.446098059211416.\n"
          ]
        },
        {
          "name": "stderr",
          "output_type": "stream",
          "text": [
            "`early_stopping_rounds` in `fit` method is deprecated for better compatibility with scikit-learn, use `early_stopping_rounds` in constructor or`set_params` instead.\n",
            "[19:21:52] WARNING: /workspace/src/learner.cc:742: \n",
            "Parameters: { \"normalize_type\", \"rate_drop\", \"sample_type\", \"skip_drop\" } are not used.\n",
            "\n"
          ]
        },
        {
          "name": "stdout",
          "output_type": "stream",
          "text": [
            "[I 2025-09-18 19:21:55,680] Trial 19 finished with value: 7.987317133293172 and parameters: {'booster': 'gbtree', 'max_depth': 12, 'min_child_weight': 9, 'gamma': 3.0, 'learning_rate': 0.0624133787653924, 'n_estimators': 900, 'subsample': 0.8, 'colsample_bytree': 0.95, 'colsample_bylevel': 0.95, 'colsample_bynode': 0.75, 'reg_alpha': 0.0038101057273816283, 'reg_lambda': 0.008047967073487816, 'sample_type': 'weighted', 'normalize_type': 'forest', 'rate_drop': 0.30000000000000004, 'skip_drop': 0.30000000000000004}. Best is trial 2 with value: 7.446098059211416.\n"
          ]
        },
        {
          "name": "stderr",
          "output_type": "stream",
          "text": [
            "`early_stopping_rounds` in `fit` method is deprecated for better compatibility with scikit-learn, use `early_stopping_rounds` in constructor or`set_params` instead.\n",
            "[19:21:55] WARNING: /workspace/src/learner.cc:742: \n",
            "Parameters: { \"normalize_type\", \"rate_drop\", \"sample_type\", \"skip_drop\" } are not used.\n",
            "\n"
          ]
        },
        {
          "name": "stdout",
          "output_type": "stream",
          "text": [
            "[I 2025-09-18 19:21:58,717] Trial 20 finished with value: 11.012618098983145 and parameters: {'booster': 'gbtree', 'max_depth': 15, 'min_child_weight': 4, 'gamma': 5.5, 'learning_rate': 0.008440749228007003, 'n_estimators': 300, 'subsample': 0.6, 'colsample_bytree': 0.8, 'colsample_bylevel': 0.95, 'colsample_bynode': 0.7, 'reg_alpha': 1.5950078977456661e-06, 'reg_lambda': 5.034007054118394, 'sample_type': 'weighted', 'normalize_type': 'forest', 'rate_drop': 0.2, 'skip_drop': 0.6000000000000001}. Best is trial 2 with value: 7.446098059211416.\n"
          ]
        },
        {
          "name": "stderr",
          "output_type": "stream",
          "text": [
            "`early_stopping_rounds` in `fit` method is deprecated for better compatibility with scikit-learn, use `early_stopping_rounds` in constructor or`set_params` instead.\n",
            "[19:21:58] WARNING: /workspace/src/learner.cc:742: \n",
            "Parameters: { \"normalize_type\", \"rate_drop\", \"sample_type\", \"skip_drop\" } are not used.\n",
            "\n"
          ]
        },
        {
          "name": "stdout",
          "output_type": "stream",
          "text": [
            "[I 2025-09-18 19:22:02,165] Trial 21 finished with value: 7.85187020695808 and parameters: {'booster': 'gbtree', 'max_depth': 15, 'min_child_weight': 6, 'gamma': 1.5, 'learning_rate': 0.03636385113344136, 'n_estimators': 1700, 'subsample': 0.7, 'colsample_bytree': 0.95, 'colsample_bylevel': 0.9, 'colsample_bynode': 0.8500000000000001, 'reg_alpha': 0.0006402312300660261, 'reg_lambda': 1.6749400973666652e-07, 'sample_type': 'weighted', 'normalize_type': 'forest', 'rate_drop': 0.45, 'skip_drop': 0.0}. Best is trial 2 with value: 7.446098059211416.\n"
          ]
        },
        {
          "name": "stderr",
          "output_type": "stream",
          "text": [
            "`early_stopping_rounds` in `fit` method is deprecated for better compatibility with scikit-learn, use `early_stopping_rounds` in constructor or`set_params` instead.\n",
            "[19:22:02] WARNING: /workspace/src/learner.cc:742: \n",
            "Parameters: { \"normalize_type\", \"rate_drop\", \"sample_type\", \"skip_drop\" } are not used.\n",
            "\n"
          ]
        },
        {
          "name": "stdout",
          "output_type": "stream",
          "text": [
            "[I 2025-09-18 19:22:16,230] Trial 22 finished with value: 7.779620506704405 and parameters: {'booster': 'gbtree', 'max_depth': 14, 'min_child_weight': 6, 'gamma': 3.5, 'learning_rate': 0.00971586779820028, 'n_estimators': 2300, 'subsample': 0.7, 'colsample_bytree': 0.8500000000000001, 'colsample_bylevel': 0.8500000000000001, 'colsample_bynode': 0.9, 'reg_alpha': 0.00023516137523472503, 'reg_lambda': 6.992892923465094e-07, 'sample_type': 'weighted', 'normalize_type': 'forest', 'rate_drop': 0.45, 'skip_drop': 0.1}. Best is trial 2 with value: 7.446098059211416.\n"
          ]
        },
        {
          "name": "stderr",
          "output_type": "stream",
          "text": [
            "`early_stopping_rounds` in `fit` method is deprecated for better compatibility with scikit-learn, use `early_stopping_rounds` in constructor or`set_params` instead.\n",
            "[19:22:16] WARNING: /workspace/src/learner.cc:742: \n",
            "Parameters: { \"normalize_type\", \"rate_drop\", \"sample_type\", \"skip_drop\" } are not used.\n",
            "\n"
          ]
        },
        {
          "name": "stdout",
          "output_type": "stream",
          "text": [
            "[I 2025-09-18 19:22:22,279] Trial 23 finished with value: 7.628001794690454 and parameters: {'booster': 'gbtree', 'max_depth': 13, 'min_child_weight': 5, 'gamma': 1.0, 'learning_rate': 0.03336899006025018, 'n_estimators': 2100, 'subsample': 0.8, 'colsample_bytree': 0.95, 'colsample_bylevel': 0.8, 'colsample_bynode': 0.8, 'reg_alpha': 0.021121933703709697, 'reg_lambda': 4.616342399838398e-05, 'sample_type': 'weighted', 'normalize_type': 'forest', 'rate_drop': 0.5, 'skip_drop': 0.1}. Best is trial 2 with value: 7.446098059211416.\n"
          ]
        },
        {
          "name": "stderr",
          "output_type": "stream",
          "text": [
            "`early_stopping_rounds` in `fit` method is deprecated for better compatibility with scikit-learn, use `early_stopping_rounds` in constructor or`set_params` instead.\n",
            "[19:22:22] WARNING: /workspace/src/learner.cc:742: \n",
            "Parameters: { \"normalize_type\", \"rate_drop\", \"sample_type\", \"skip_drop\" } are not used.\n",
            "\n"
          ]
        },
        {
          "name": "stdout",
          "output_type": "stream",
          "text": [
            "[I 2025-09-18 19:22:58,250] Trial 24 finished with value: 7.517402450164164 and parameters: {'booster': 'gbtree', 'max_depth': 13, 'min_child_weight': 3, 'gamma': 4.0, 'learning_rate': 0.0022934568979167745, 'n_estimators': 1700, 'subsample': 0.9, 'colsample_bytree': 1.0, 'colsample_bylevel': 0.8, 'colsample_bynode': 0.8, 'reg_alpha': 0.03190523694432839, 'reg_lambda': 6.586707778283895e-05, 'sample_type': 'weighted', 'normalize_type': 'forest', 'rate_drop': 0.4, 'skip_drop': 0.1}. Best is trial 2 with value: 7.446098059211416.\n"
          ]
        },
        {
          "name": "stderr",
          "output_type": "stream",
          "text": [
            "`early_stopping_rounds` in `fit` method is deprecated for better compatibility with scikit-learn, use `early_stopping_rounds` in constructor or`set_params` instead.\n",
            "[19:22:58] WARNING: /workspace/src/learner.cc:742: \n",
            "Parameters: { \"normalize_type\", \"rate_drop\", \"sample_type\", \"skip_drop\" } are not used.\n",
            "\n"
          ]
        },
        {
          "name": "stdout",
          "output_type": "stream",
          "text": [
            "[I 2025-09-18 19:23:23,363] Trial 25 finished with value: 7.446094951103063 and parameters: {'booster': 'gbtree', 'max_depth': 11, 'min_child_weight': 3, 'gamma': 4.0, 'learning_rate': 0.0028760402498675484, 'n_estimators': 1700, 'subsample': 0.9, 'colsample_bytree': 1.0, 'colsample_bylevel': 0.75, 'colsample_bynode': 0.8, 'reg_alpha': 0.32358110685288816, 'reg_lambda': 0.0010268801671492454, 'sample_type': 'weighted', 'normalize_type': 'forest', 'rate_drop': 0.35000000000000003, 'skip_drop': 0.2}. Best is trial 25 with value: 7.446094951103063.\n"
          ]
        },
        {
          "name": "stderr",
          "output_type": "stream",
          "text": [
            "`early_stopping_rounds` in `fit` method is deprecated for better compatibility with scikit-learn, use `early_stopping_rounds` in constructor or`set_params` instead.\n"
          ]
        },
        {
          "name": "stdout",
          "output_type": "stream",
          "text": [
            "[I 2025-09-18 19:52:52,088] Trial 26 finished with value: 8.758489960914272 and parameters: {'booster': 'dart', 'max_depth': 11, 'min_child_weight': 3, 'gamma': 5.0, 'learning_rate': 0.0019696485003009943, 'n_estimators': 1600, 'subsample': 0.9, 'colsample_bytree': 1.0, 'colsample_bylevel': 0.6, 'colsample_bynode': 0.8, 'reg_alpha': 0.5578138941878835, 'reg_lambda': 0.0015119928116361428, 'sample_type': 'uniform', 'normalize_type': 'forest', 'rate_drop': 0.35000000000000003, 'skip_drop': 0.2}. Best is trial 25 with value: 7.446094951103063.\n"
          ]
        },
        {
          "name": "stderr",
          "output_type": "stream",
          "text": [
            "`early_stopping_rounds` in `fit` method is deprecated for better compatibility with scikit-learn, use `early_stopping_rounds` in constructor or`set_params` instead.\n",
            "[19:52:52] WARNING: /workspace/src/learner.cc:742: \n",
            "Parameters: { \"normalize_type\", \"rate_drop\", \"sample_type\", \"skip_drop\" } are not used.\n",
            "\n"
          ]
        },
        {
          "name": "stdout",
          "output_type": "stream",
          "text": [
            "[I 2025-09-18 19:53:19,362] Trial 27 finished with value: 7.454153186465429 and parameters: {'booster': 'gbtree', 'max_depth': 10, 'min_child_weight': 2, 'gamma': 2.5, 'learning_rate': 0.0023978216266187075, 'n_estimators': 1800, 'subsample': 0.95, 'colsample_bytree': 1.0, 'colsample_bylevel': 0.75, 'colsample_bynode': 0.8500000000000001, 'reg_alpha': 0.16177929025193757, 'reg_lambda': 0.0035807071416351847, 'sample_type': 'weighted', 'normalize_type': 'forest', 'rate_drop': 0.4, 'skip_drop': 0.30000000000000004}. Best is trial 25 with value: 7.446094951103063.\n"
          ]
        },
        {
          "name": "stderr",
          "output_type": "stream",
          "text": [
            "`early_stopping_rounds` in `fit` method is deprecated for better compatibility with scikit-learn, use `early_stopping_rounds` in constructor or`set_params` instead.\n",
            "[19:53:19] WARNING: /workspace/src/learner.cc:742: \n",
            "Parameters: { \"normalize_type\", \"rate_drop\", \"sample_type\", \"skip_drop\" } are not used.\n",
            "\n"
          ]
        },
        {
          "name": "stdout",
          "output_type": "stream",
          "text": [
            "[I 2025-09-18 19:53:33,419] Trial 28 finished with value: 32.51442506428871 and parameters: {'booster': 'gbtree', 'max_depth': 9, 'min_child_weight': 1, 'gamma': 2.5, 'learning_rate': 0.00012523138882142792, 'n_estimators': 1800, 'subsample': 0.95, 'colsample_bytree': 0.8500000000000001, 'colsample_bylevel': 0.7, 'colsample_bynode': 0.95, 'reg_alpha': 9.348582996985579, 'reg_lambda': 0.17619114574605138, 'sample_type': 'weighted', 'normalize_type': 'forest', 'rate_drop': 0.30000000000000004, 'skip_drop': 0.30000000000000004}. Best is trial 25 with value: 7.446094951103063.\n"
          ]
        },
        {
          "name": "stderr",
          "output_type": "stream",
          "text": [
            "`early_stopping_rounds` in `fit` method is deprecated for better compatibility with scikit-learn, use `early_stopping_rounds` in constructor or`set_params` instead.\n"
          ]
        },
        {
          "name": "stdout",
          "output_type": "stream",
          "text": [
            "[I 2025-09-18 20:10:46,889] Trial 29 finished with value: 20.319442724835284 and parameters: {'booster': 'dart', 'max_depth': 10, 'min_child_weight': 2, 'gamma': 7.5, 'learning_rate': 0.0006880869291953676, 'n_estimators': 1200, 'subsample': 1.0, 'colsample_bytree': 0.9, 'colsample_bylevel': 0.75, 'colsample_bynode': 0.8500000000000001, 'reg_alpha': 1.1761334284953295, 'reg_lambda': 0.0033116933849089963, 'sample_type': 'weighted', 'normalize_type': 'forest', 'rate_drop': 0.4, 'skip_drop': 0.4}. Best is trial 25 with value: 7.446094951103063.\n"
          ]
        },
        {
          "name": "stderr",
          "output_type": "stream",
          "text": [
            "`early_stopping_rounds` in `fit` method is deprecated for better compatibility with scikit-learn, use `early_stopping_rounds` in constructor or`set_params` instead.\n",
            "[20:10:47] WARNING: /workspace/src/learner.cc:742: \n",
            "Parameters: { \"normalize_type\", \"rate_drop\", \"sample_type\", \"skip_drop\" } are not used.\n",
            "\n"
          ]
        },
        {
          "name": "stdout",
          "output_type": "stream",
          "text": [
            "[I 2025-09-18 20:10:56,653] Trial 30 finished with value: 8.104222288049154 and parameters: {'booster': 'gbtree', 'max_depth': 8, 'min_child_weight': 3, 'gamma': 6.5, 'learning_rate': 0.003041649174832714, 'n_estimators': 1500, 'subsample': 0.95, 'colsample_bytree': 1.0, 'colsample_bylevel': 0.7, 'colsample_bynode': 0.7, 'reg_alpha': 0.15286989362172962, 'reg_lambda': 0.1595789889595632, 'sample_type': 'weighted', 'normalize_type': 'forest', 'rate_drop': 0.35000000000000003, 'skip_drop': 0.30000000000000004}. Best is trial 25 with value: 7.446094951103063.\n"
          ]
        },
        {
          "name": "stderr",
          "output_type": "stream",
          "text": [
            "`early_stopping_rounds` in `fit` method is deprecated for better compatibility with scikit-learn, use `early_stopping_rounds` in constructor or`set_params` instead.\n",
            "[20:10:56] WARNING: /workspace/src/learner.cc:742: \n",
            "Parameters: { \"normalize_type\", \"rate_drop\", \"sample_type\", \"skip_drop\" } are not used.\n",
            "\n"
          ]
        },
        {
          "name": "stdout",
          "output_type": "stream",
          "text": [
            "[I 2025-09-18 20:11:23,074] Trial 31 finished with value: 8.24935013438232 and parameters: {'booster': 'gbtree', 'max_depth': 11, 'min_child_weight': 3, 'gamma': 4.0, 'learning_rate': 0.0016223799130144307, 'n_estimators': 1900, 'subsample': 0.9, 'colsample_bytree': 1.0, 'colsample_bylevel': 0.75, 'colsample_bynode': 0.8, 'reg_alpha': 2.3289849504556948, 'reg_lambda': 0.023101895736560206, 'sample_type': 'weighted', 'normalize_type': 'forest', 'rate_drop': 0.4, 'skip_drop': 0.2}. Best is trial 25 with value: 7.446094951103063.\n"
          ]
        },
        {
          "name": "stderr",
          "output_type": "stream",
          "text": [
            "`early_stopping_rounds` in `fit` method is deprecated for better compatibility with scikit-learn, use `early_stopping_rounds` in constructor or`set_params` instead.\n",
            "[20:11:23] WARNING: /workspace/src/learner.cc:742: \n",
            "Parameters: { \"normalize_type\", \"rate_drop\", \"sample_type\", \"skip_drop\" } are not used.\n",
            "\n"
          ]
        },
        {
          "name": "stdout",
          "output_type": "stream",
          "text": [
            "[I 2025-09-18 20:11:40,486] Trial 32 finished with value: 7.300946519570256 and parameters: {'booster': 'gbtree', 'max_depth': 12, 'min_child_weight': 2, 'gamma': 3.0, 'learning_rate': 0.007860825694757927, 'n_estimators': 2100, 'subsample': 0.95, 'colsample_bytree': 0.95, 'colsample_bylevel': 0.8, 'colsample_bynode': 0.8500000000000001, 'reg_alpha': 0.022254559475893165, 'reg_lambda': 4.772984656753985e-06, 'sample_type': 'weighted', 'normalize_type': 'forest', 'rate_drop': 0.45, 'skip_drop': 0.1}. Best is trial 32 with value: 7.300946519570256.\n"
          ]
        },
        {
          "name": "stderr",
          "output_type": "stream",
          "text": [
            "`early_stopping_rounds` in `fit` method is deprecated for better compatibility with scikit-learn, use `early_stopping_rounds` in constructor or`set_params` instead.\n",
            "[20:11:40] WARNING: /workspace/src/learner.cc:742: \n",
            "Parameters: { \"normalize_type\", \"rate_drop\", \"sample_type\", \"skip_drop\" } are not used.\n",
            "\n"
          ]
        },
        {
          "name": "stdout",
          "output_type": "stream",
          "text": [
            "[I 2025-09-18 20:11:56,260] Trial 33 finished with value: 7.193836966198073 and parameters: {'booster': 'gbtree', 'max_depth': 11, 'min_child_weight': 2, 'gamma': 3.0, 'learning_rate': 0.006739112714920427, 'n_estimators': 2100, 'subsample': 0.95, 'colsample_bytree': 0.95, 'colsample_bylevel': 0.6, 'colsample_bynode': 0.8500000000000001, 'reg_alpha': 0.1519537146317171, 'reg_lambda': 1.6980068624096836e-05, 'sample_type': 'weighted', 'normalize_type': 'forest', 'rate_drop': 0.45, 'skip_drop': 0.2}. Best is trial 33 with value: 7.193836966198073.\n"
          ]
        },
        {
          "name": "stderr",
          "output_type": "stream",
          "text": [
            "`early_stopping_rounds` in `fit` method is deprecated for better compatibility with scikit-learn, use `early_stopping_rounds` in constructor or`set_params` instead.\n",
            "[20:11:56] WARNING: /workspace/src/learner.cc:742: \n",
            "Parameters: { \"normalize_type\", \"rate_drop\", \"sample_type\", \"skip_drop\" } are not used.\n",
            "\n"
          ]
        },
        {
          "name": "stdout",
          "output_type": "stream",
          "text": [
            "[I 2025-09-18 20:12:08,175] Trial 34 finished with value: 7.338574303489982 and parameters: {'booster': 'gbtree', 'max_depth': 12, 'min_child_weight': 1, 'gamma': 3.0, 'learning_rate': 0.00882880398061521, 'n_estimators': 2100, 'subsample': 1.0, 'colsample_bytree': 0.95, 'colsample_bylevel': 0.55, 'colsample_bynode': 0.95, 'reg_alpha': 1.9021890176265985, 'reg_lambda': 1.0034604237168125e-05, 'sample_type': 'uniform', 'normalize_type': 'forest', 'rate_drop': 0.45, 'skip_drop': 0.2}. Best is trial 33 with value: 7.193836966198073.\n"
          ]
        },
        {
          "name": "stderr",
          "output_type": "stream",
          "text": [
            "`early_stopping_rounds` in `fit` method is deprecated for better compatibility with scikit-learn, use `early_stopping_rounds` in constructor or`set_params` instead.\n",
            "[20:12:08] WARNING: /workspace/src/learner.cc:742: \n",
            "Parameters: { \"normalize_type\", \"rate_drop\", \"sample_type\", \"skip_drop\" } are not used.\n",
            "\n"
          ]
        },
        {
          "name": "stdout",
          "output_type": "stream",
          "text": [
            "[I 2025-09-18 20:12:21,148] Trial 35 finished with value: 7.261501379117898 and parameters: {'booster': 'gbtree', 'max_depth': 11, 'min_child_weight': 1, 'gamma': 3.0, 'learning_rate': 0.007366910829853056, 'n_estimators': 2600, 'subsample': 1.0, 'colsample_bytree': 0.9, 'colsample_bylevel': 0.55, 'colsample_bynode': 0.95, 'reg_alpha': 2.328272039110466, 'reg_lambda': 9.240836635206133e-06, 'sample_type': 'uniform', 'normalize_type': 'forest', 'rate_drop': 0.45, 'skip_drop': 0.2}. Best is trial 33 with value: 7.193836966198073.\n"
          ]
        },
        {
          "name": "stderr",
          "output_type": "stream",
          "text": [
            "`early_stopping_rounds` in `fit` method is deprecated for better compatibility with scikit-learn, use `early_stopping_rounds` in constructor or`set_params` instead.\n",
            "[20:12:21] WARNING: /workspace/src/learner.cc:742: \n",
            "Parameters: { \"normalize_type\", \"rate_drop\", \"sample_type\", \"skip_drop\" } are not used.\n",
            "\n"
          ]
        },
        {
          "name": "stdout",
          "output_type": "stream",
          "text": [
            "[I 2025-09-18 20:12:33,836] Trial 36 finished with value: 7.320663006813791 and parameters: {'booster': 'gbtree', 'max_depth': 12, 'min_child_weight': 1, 'gamma': 3.0, 'learning_rate': 0.00816316736345648, 'n_estimators': 2500, 'subsample': 1.0, 'colsample_bytree': 0.9, 'colsample_bylevel': 0.55, 'colsample_bynode': 0.95, 'reg_alpha': 1.582465807291308, 'reg_lambda': 8.529916803147679e-06, 'sample_type': 'uniform', 'normalize_type': 'forest', 'rate_drop': 0.45, 'skip_drop': 0.1}. Best is trial 33 with value: 7.193836966198073.\n"
          ]
        },
        {
          "name": "stderr",
          "output_type": "stream",
          "text": [
            "`early_stopping_rounds` in `fit` method is deprecated for better compatibility with scikit-learn, use `early_stopping_rounds` in constructor or`set_params` instead.\n",
            "[20:12:33] WARNING: /workspace/src/learner.cc:742: \n",
            "Parameters: { \"normalize_type\", \"rate_drop\", \"sample_type\", \"skip_drop\" } are not used.\n",
            "\n"
          ]
        },
        {
          "name": "stdout",
          "output_type": "stream",
          "text": [
            "[I 2025-09-18 20:12:51,163] Trial 37 finished with value: 7.23475984441435 and parameters: {'booster': 'gbtree', 'max_depth': 11, 'min_child_weight': 1, 'gamma': 1.0, 'learning_rate': 0.006652504085422228, 'n_estimators': 2700, 'subsample': 1.0, 'colsample_bytree': 0.8500000000000001, 'colsample_bylevel': 0.55, 'colsample_bynode': 0.95, 'reg_alpha': 0.9208853908003022, 'reg_lambda': 2.7488392845484187e-06, 'sample_type': 'uniform', 'normalize_type': 'forest', 'rate_drop': 0.45, 'skip_drop': 0.1}. Best is trial 33 with value: 7.193836966198073.\n"
          ]
        },
        {
          "name": "stderr",
          "output_type": "stream",
          "text": [
            "`early_stopping_rounds` in `fit` method is deprecated for better compatibility with scikit-learn, use `early_stopping_rounds` in constructor or`set_params` instead.\n",
            "[20:12:51] WARNING: /workspace/src/learner.cc:742: \n",
            "Parameters: { \"normalize_type\", \"rate_drop\", \"sample_type\", \"skip_drop\" } are not used.\n",
            "\n"
          ]
        },
        {
          "name": "stdout",
          "output_type": "stream",
          "text": [
            "[I 2025-09-18 20:12:57,386] Trial 38 finished with value: 8.332925328555861 and parameters: {'booster': 'gbtree', 'max_depth': 5, 'min_child_weight': 2, 'gamma': 1.0, 'learning_rate': 0.012175315694067964, 'n_estimators': 2800, 'subsample': 0.95, 'colsample_bytree': 0.8500000000000001, 'colsample_bylevel': 0.55, 'colsample_bynode': 0.95, 'reg_alpha': 0.07414909565001433, 'reg_lambda': 2.7404839312037247e-06, 'sample_type': 'uniform', 'normalize_type': 'forest', 'rate_drop': 0.45, 'skip_drop': 0.1}. Best is trial 33 with value: 7.193836966198073.\n"
          ]
        },
        {
          "name": "stderr",
          "output_type": "stream",
          "text": [
            "`early_stopping_rounds` in `fit` method is deprecated for better compatibility with scikit-learn, use `early_stopping_rounds` in constructor or`set_params` instead.\n"
          ]
        },
        {
          "name": "stdout",
          "output_type": "stream",
          "text": [
            "[I 2025-09-18 21:25:43,195] Trial 39 finished with value: 8.864331090296348 and parameters: {'booster': 'dart', 'max_depth': 11, 'min_child_weight': 12, 'gamma': 10.0, 'learning_rate': 0.0042084814916985, 'n_estimators': 2600, 'subsample': 1.0, 'colsample_bytree': 0.75, 'colsample_bylevel': 0.6, 'colsample_bynode': 0.9, 'reg_alpha': 0.015067511426325753, 'reg_lambda': 3.1839293013928687e-06, 'sample_type': 'uniform', 'normalize_type': 'tree', 'rate_drop': 0.5, 'skip_drop': 0.30000000000000004}. Best is trial 33 with value: 7.193836966198073.\n"
          ]
        },
        {
          "name": "stderr",
          "output_type": "stream",
          "text": [
            "`early_stopping_rounds` in `fit` method is deprecated for better compatibility with scikit-learn, use `early_stopping_rounds` in constructor or`set_params` instead.\n",
            "[21:25:43] WARNING: /workspace/src/learner.cc:742: \n",
            "Parameters: { \"normalize_type\", \"rate_drop\", \"sample_type\", \"skip_drop\" } are not used.\n",
            "\n"
          ]
        },
        {
          "name": "stdout",
          "output_type": "stream",
          "text": [
            "[I 2025-09-18 21:25:58,433] Trial 40 finished with value: 7.685701059386404 and parameters: {'booster': 'gbtree', 'max_depth': 8, 'min_child_weight': 4, 'gamma': 0.5, 'learning_rate': 0.005746273203443343, 'n_estimators': 3000, 'subsample': 0.95, 'colsample_bytree': 0.8500000000000001, 'colsample_bylevel': 0.6, 'colsample_bynode': 0.95, 'reg_alpha': 3.283053600786704, 'reg_lambda': 2.001032411089531e-05, 'sample_type': 'uniform', 'normalize_type': 'forest', 'rate_drop': 0.5, 'skip_drop': 0.2}. Best is trial 33 with value: 7.193836966198073.\n"
          ]
        },
        {
          "name": "stderr",
          "output_type": "stream",
          "text": [
            "`early_stopping_rounds` in `fit` method is deprecated for better compatibility with scikit-learn, use `early_stopping_rounds` in constructor or`set_params` instead.\n",
            "[21:25:58] WARNING: /workspace/src/learner.cc:742: \n",
            "Parameters: { \"normalize_type\", \"rate_drop\", \"sample_type\", \"skip_drop\" } are not used.\n",
            "\n"
          ]
        },
        {
          "name": "stdout",
          "output_type": "stream",
          "text": [
            "[I 2025-09-18 21:26:16,295] Trial 41 finished with value: 7.410917642806216 and parameters: {'booster': 'gbtree', 'max_depth': 14, 'min_child_weight': 1, 'gamma': 2.5, 'learning_rate': 0.006759393500860171, 'n_estimators': 2600, 'subsample': 1.0, 'colsample_bytree': 0.9, 'colsample_bylevel': 0.55, 'colsample_bynode': 0.95, 'reg_alpha': 0.7504346092506725, 'reg_lambda': 8.522230799544243e-06, 'sample_type': 'uniform', 'normalize_type': 'forest', 'rate_drop': 0.45, 'skip_drop': 0.1}. Best is trial 33 with value: 7.193836966198073.\n"
          ]
        },
        {
          "name": "stderr",
          "output_type": "stream",
          "text": [
            "`early_stopping_rounds` in `fit` method is deprecated for better compatibility with scikit-learn, use `early_stopping_rounds` in constructor or`set_params` instead.\n",
            "[21:26:16] WARNING: /workspace/src/learner.cc:742: \n",
            "Parameters: { \"normalize_type\", \"rate_drop\", \"sample_type\", \"skip_drop\" } are not used.\n",
            "\n"
          ]
        },
        {
          "name": "stdout",
          "output_type": "stream",
          "text": [
            "[I 2025-09-18 21:26:48,316] Trial 42 finished with value: 8.389173741433398 and parameters: {'booster': 'gbtree', 'max_depth': 12, 'min_child_weight': 2, 'gamma': 3.0, 'learning_rate': 0.0012314206371706186, 'n_estimators': 2500, 'subsample': 1.0, 'colsample_bytree': 0.8, 'colsample_bylevel': 0.5, 'colsample_bynode': 1.0, 'reg_alpha': 4.334054323068149, 'reg_lambda': 1.5949951205445169e-06, 'sample_type': 'uniform', 'normalize_type': 'forest', 'rate_drop': 0.45, 'skip_drop': 0.0}. Best is trial 33 with value: 7.193836966198073.\n"
          ]
        },
        {
          "name": "stderr",
          "output_type": "stream",
          "text": [
            "`early_stopping_rounds` in `fit` method is deprecated for better compatibility with scikit-learn, use `early_stopping_rounds` in constructor or`set_params` instead.\n",
            "[21:26:48] WARNING: /workspace/src/learner.cc:742: \n",
            "Parameters: { \"normalize_type\", \"rate_drop\", \"sample_type\", \"skip_drop\" } are not used.\n",
            "\n"
          ]
        },
        {
          "name": "stdout",
          "output_type": "stream",
          "text": [
            "[I 2025-09-18 21:26:59,444] Trial 43 finished with value: 7.343770655212058 and parameters: {'booster': 'gbtree', 'max_depth': 13, 'min_child_weight': 1, 'gamma': 2.0, 'learning_rate': 0.012846314125604932, 'n_estimators': 2200, 'subsample': 0.95, 'colsample_bytree': 0.9, 'colsample_bylevel': 0.65, 'colsample_bynode': 0.95, 'reg_alpha': 0.09463058622825118, 'reg_lambda': 6.653660435361417e-08, 'sample_type': 'uniform', 'normalize_type': 'forest', 'rate_drop': 0.45, 'skip_drop': 0.1}. Best is trial 33 with value: 7.193836966198073.\n"
          ]
        },
        {
          "name": "stderr",
          "output_type": "stream",
          "text": [
            "`early_stopping_rounds` in `fit` method is deprecated for better compatibility with scikit-learn, use `early_stopping_rounds` in constructor or`set_params` instead.\n",
            "[21:26:59] WARNING: /workspace/src/learner.cc:742: \n",
            "Parameters: { \"normalize_type\", \"rate_drop\", \"sample_type\", \"skip_drop\" } are not used.\n",
            "\n"
          ]
        },
        {
          "name": "stdout",
          "output_type": "stream",
          "text": [
            "[I 2025-09-18 21:27:11,308] Trial 44 finished with value: 7.24574472345442 and parameters: {'booster': 'gbtree', 'max_depth': 10, 'min_child_weight': 2, 'gamma': 5.0, 'learning_rate': 0.006323524191846894, 'n_estimators': 2700, 'subsample': 1.0, 'colsample_bytree': 0.9, 'colsample_bylevel': 0.55, 'colsample_bynode': 0.9, 'reg_alpha': 0.5325609241963671, 'reg_lambda': 1.5135213625090827e-05, 'sample_type': 'uniform', 'normalize_type': 'forest', 'rate_drop': 0.0, 'skip_drop': 0.2}. Best is trial 33 with value: 7.193836966198073.\n"
          ]
        },
        {
          "name": "stderr",
          "output_type": "stream",
          "text": [
            "`early_stopping_rounds` in `fit` method is deprecated for better compatibility with scikit-learn, use `early_stopping_rounds` in constructor or`set_params` instead.\n",
            "[21:27:11] WARNING: /workspace/src/learner.cc:742: \n",
            "Parameters: { \"normalize_type\", \"rate_drop\", \"sample_type\", \"skip_drop\" } are not used.\n",
            "\n"
          ]
        },
        {
          "name": "stdout",
          "output_type": "stream",
          "text": [
            "[I 2025-09-18 21:27:26,451] Trial 45 finished with value: 7.613138401966397 and parameters: {'booster': 'gbtree', 'max_depth': 9, 'min_child_weight': 2, 'gamma': 5.0, 'learning_rate': 0.0036354764334620643, 'n_estimators': 2700, 'subsample': 1.0, 'colsample_bytree': 0.65, 'colsample_bylevel': 0.5, 'colsample_bynode': 0.8500000000000001, 'reg_alpha': 0.3731944221094041, 'reg_lambda': 0.00016252486903689365, 'sample_type': 'uniform', 'normalize_type': 'forest', 'rate_drop': 0.0, 'skip_drop': 0.4}. Best is trial 33 with value: 7.193836966198073.\n"
          ]
        },
        {
          "name": "stderr",
          "output_type": "stream",
          "text": [
            "`early_stopping_rounds` in `fit` method is deprecated for better compatibility with scikit-learn, use `early_stopping_rounds` in constructor or`set_params` instead.\n",
            "[21:27:26] WARNING: /workspace/src/learner.cc:742: \n",
            "Parameters: { \"normalize_type\", \"rate_drop\", \"sample_type\", \"skip_drop\" } are not used.\n",
            "\n"
          ]
        },
        {
          "name": "stdout",
          "output_type": "stream",
          "text": [
            "[I 2025-09-18 21:27:42,215] Trial 46 finished with value: 7.2807280756490345 and parameters: {'booster': 'gbtree', 'max_depth': 10, 'min_child_weight': 2, 'gamma': 5.5, 'learning_rate': 0.005619432832610201, 'n_estimators': 3000, 'subsample': 0.95, 'colsample_bytree': 0.95, 'colsample_bylevel': 0.6, 'colsample_bynode': 0.9, 'reg_alpha': 0.8666223094034147, 'reg_lambda': 2.9220240556207788e-05, 'sample_type': 'uniform', 'normalize_type': 'tree', 'rate_drop': 0.1, 'skip_drop': 0.2}. Best is trial 33 with value: 7.193836966198073.\n"
          ]
        },
        {
          "name": "stderr",
          "output_type": "stream",
          "text": [
            "`early_stopping_rounds` in `fit` method is deprecated for better compatibility with scikit-learn, use `early_stopping_rounds` in constructor or`set_params` instead.\n"
          ]
        },
        {
          "name": "stdout",
          "output_type": "stream",
          "text": [
            "[I 2025-09-18 23:18:26,247] Trial 47 finished with value: 7.5998553132472075 and parameters: {'booster': 'dart', 'max_depth': 10, 'min_child_weight': 4, 'gamma': 6.0, 'learning_rate': 0.018123077465052373, 'n_estimators': 3000, 'subsample': 0.9, 'colsample_bytree': 0.8500000000000001, 'colsample_bylevel': 0.6, 'colsample_bynode': 0.9, 'reg_alpha': 0.8837715970989171, 'reg_lambda': 1.4639008164702592e-05, 'sample_type': 'uniform', 'normalize_type': 'tree', 'rate_drop': 0.1, 'skip_drop': 0.2}. Best is trial 33 with value: 7.193836966198073.\n"
          ]
        },
        {
          "name": "stderr",
          "output_type": "stream",
          "text": [
            "`early_stopping_rounds` in `fit` method is deprecated for better compatibility with scikit-learn, use `early_stopping_rounds` in constructor or`set_params` instead.\n",
            "[23:18:26] WARNING: /workspace/src/learner.cc:742: \n",
            "Parameters: { \"normalize_type\", \"rate_drop\", \"sample_type\", \"skip_drop\" } are not used.\n",
            "\n"
          ]
        },
        {
          "name": "stdout",
          "output_type": "stream",
          "text": [
            "[I 2025-09-18 23:18:37,826] Trial 48 finished with value: 7.492155269884285 and parameters: {'booster': 'gbtree', 'max_depth': 9, 'min_child_weight': 3, 'gamma': 6.5, 'learning_rate': 0.005346942159729149, 'n_estimators': 2800, 'subsample': 1.0, 'colsample_bytree': 0.9, 'colsample_bylevel': 0.65, 'colsample_bynode': 0.9, 'reg_alpha': 0.225912957498876, 'reg_lambda': 2.8536000615312664e-05, 'sample_type': 'uniform', 'normalize_type': 'tree', 'rate_drop': 0.0, 'skip_drop': 0.30000000000000004}. Best is trial 33 with value: 7.193836966198073.\n"
          ]
        },
        {
          "name": "stderr",
          "output_type": "stream",
          "text": [
            "`early_stopping_rounds` in `fit` method is deprecated for better compatibility with scikit-learn, use `early_stopping_rounds` in constructor or`set_params` instead.\n",
            "[23:18:37] WARNING: /workspace/src/learner.cc:742: \n",
            "Parameters: { \"normalize_type\", \"rate_drop\", \"sample_type\", \"skip_drop\" } are not used.\n",
            "\n"
          ]
        },
        {
          "name": "stdout",
          "output_type": "stream",
          "text": [
            "[I 2025-09-18 23:18:57,454] Trial 49 finished with value: 10.429842855291616 and parameters: {'booster': 'gbtree', 'max_depth': 11, 'min_child_weight': 15, 'gamma': 5.0, 'learning_rate': 0.0008188612048469222, 'n_estimators': 2900, 'subsample': 0.95, 'colsample_bytree': 0.95, 'colsample_bylevel': 0.55, 'colsample_bynode': 1.0, 'reg_alpha': 4.4786848281235105, 'reg_lambda': 1.2888797735521287e-06, 'sample_type': 'uniform', 'normalize_type': 'tree', 'rate_drop': 0.05, 'skip_drop': 0.2}. Best is trial 33 with value: 7.193836966198073.\n"
          ]
        },
        {
          "name": "stderr",
          "output_type": "stream",
          "text": [
            "`early_stopping_rounds` in `fit` method is deprecated for better compatibility with scikit-learn, use `early_stopping_rounds` in constructor or`set_params` instead.\n",
            "[23:18:57] WARNING: /workspace/src/learner.cc:742: \n",
            "Parameters: { \"normalize_type\", \"rate_drop\", \"sample_type\", \"skip_drop\" } are not used.\n",
            "\n"
          ]
        },
        {
          "name": "stdout",
          "output_type": "stream",
          "text": [
            "[I 2025-09-18 23:19:00,749] Trial 50 finished with value: 8.186332004992042 and parameters: {'booster': 'gbtree', 'max_depth': 10, 'min_child_weight': 7, 'gamma': 8.5, 'learning_rate': 0.03154411383227484, 'n_estimators': 2700, 'subsample': 0.8500000000000001, 'colsample_bytree': 0.5, 'colsample_bylevel': 0.65, 'colsample_bynode': 0.9, 'reg_alpha': 2.263537608051963e-08, 'reg_lambda': 0.0003308985047157983, 'sample_type': 'uniform', 'normalize_type': 'tree', 'rate_drop': 0.15000000000000002, 'skip_drop': 0.4}. Best is trial 33 with value: 7.193836966198073.\n"
          ]
        },
        {
          "name": "stderr",
          "output_type": "stream",
          "text": [
            "`early_stopping_rounds` in `fit` method is deprecated for better compatibility with scikit-learn, use `early_stopping_rounds` in constructor or`set_params` instead.\n",
            "[23:19:00] WARNING: /workspace/src/learner.cc:742: \n",
            "Parameters: { \"normalize_type\", \"rate_drop\", \"sample_type\", \"skip_drop\" } are not used.\n",
            "\n"
          ]
        },
        {
          "name": "stdout",
          "output_type": "stream",
          "text": [
            "[I 2025-09-18 23:19:15,177] Trial 51 finished with value: 7.267118502475364 and parameters: {'booster': 'gbtree', 'max_depth': 11, 'min_child_weight': 2, 'gamma': 5.5, 'learning_rate': 0.006589821393136014, 'n_estimators': 2500, 'subsample': 0.95, 'colsample_bytree': 0.95, 'colsample_bylevel': 0.6, 'colsample_bynode': 0.8500000000000001, 'reg_alpha': 0.011244723756832147, 'reg_lambda': 5.5550320045816895e-06, 'sample_type': 'uniform', 'normalize_type': 'tree', 'rate_drop': 0.05, 'skip_drop': 0.2}. Best is trial 33 with value: 7.193836966198073.\n"
          ]
        },
        {
          "name": "stderr",
          "output_type": "stream",
          "text": [
            "`early_stopping_rounds` in `fit` method is deprecated for better compatibility with scikit-learn, use `early_stopping_rounds` in constructor or`set_params` instead.\n",
            "[23:19:15] WARNING: /workspace/src/learner.cc:742: \n",
            "Parameters: { \"normalize_type\", \"rate_drop\", \"sample_type\", \"skip_drop\" } are not used.\n",
            "\n"
          ]
        },
        {
          "name": "stdout",
          "output_type": "stream",
          "text": [
            "[I 2025-09-18 23:19:23,055] Trial 52 finished with value: 7.254671401087815 and parameters: {'booster': 'gbtree', 'max_depth': 11, 'min_child_weight': 2, 'gamma': 5.5, 'learning_rate': 0.011074137678039992, 'n_estimators': 2500, 'subsample': 1.0, 'colsample_bytree': 0.9, 'colsample_bylevel': 0.6, 'colsample_bynode': 0.8500000000000001, 'reg_alpha': 0.059595589212071275, 'reg_lambda': 4.813914389525095e-06, 'sample_type': 'uniform', 'normalize_type': 'tree', 'rate_drop': 0.05, 'skip_drop': 0.2}. Best is trial 33 with value: 7.193836966198073.\n"
          ]
        },
        {
          "name": "stderr",
          "output_type": "stream",
          "text": [
            "`early_stopping_rounds` in `fit` method is deprecated for better compatibility with scikit-learn, use `early_stopping_rounds` in constructor or`set_params` instead.\n",
            "[23:19:23] WARNING: /workspace/src/learner.cc:742: \n",
            "Parameters: { \"normalize_type\", \"rate_drop\", \"sample_type\", \"skip_drop\" } are not used.\n",
            "\n"
          ]
        },
        {
          "name": "stdout",
          "output_type": "stream",
          "text": [
            "[I 2025-09-18 23:19:28,431] Trial 53 finished with value: 7.26863189838776 and parameters: {'booster': 'gbtree', 'max_depth': 11, 'min_child_weight': 1, 'gamma': 7.0, 'learning_rate': 0.015306405069927254, 'n_estimators': 2400, 'subsample': 1.0, 'colsample_bytree': 0.9, 'colsample_bylevel': 0.5, 'colsample_bynode': 0.8500000000000001, 'reg_alpha': 0.010307237008926634, 'reg_lambda': 4.531181250845223e-06, 'sample_type': 'uniform', 'normalize_type': 'tree', 'rate_drop': 0.05, 'skip_drop': 0.30000000000000004}. Best is trial 33 with value: 7.193836966198073.\n"
          ]
        },
        {
          "name": "stderr",
          "output_type": "stream",
          "text": [
            "`early_stopping_rounds` in `fit` method is deprecated for better compatibility with scikit-learn, use `early_stopping_rounds` in constructor or`set_params` instead.\n",
            "[23:19:28] WARNING: /workspace/src/learner.cc:742: \n",
            "Parameters: { \"normalize_type\", \"rate_drop\", \"sample_type\", \"skip_drop\" } are not used.\n",
            "\n"
          ]
        },
        {
          "name": "stdout",
          "output_type": "stream",
          "text": [
            "[I 2025-09-18 23:19:34,987] Trial 54 finished with value: 7.439431431618068 and parameters: {'booster': 'gbtree', 'max_depth': 11, 'min_child_weight': 4, 'gamma': 5.5, 'learning_rate': 0.011259163396619873, 'n_estimators': 2600, 'subsample': 1.0, 'colsample_bytree': 0.8500000000000001, 'colsample_bylevel': 0.55, 'colsample_bynode': 1.0, 'reg_alpha': 0.042953584538390994, 'reg_lambda': 2.933405911545577e-07, 'sample_type': 'uniform', 'normalize_type': 'tree', 'rate_drop': 0.0, 'skip_drop': 0.2}. Best is trial 33 with value: 7.193836966198073.\n"
          ]
        },
        {
          "name": "stderr",
          "output_type": "stream",
          "text": [
            "`early_stopping_rounds` in `fit` method is deprecated for better compatibility with scikit-learn, use `early_stopping_rounds` in constructor or`set_params` instead.\n",
            "[23:19:35] WARNING: /workspace/src/learner.cc:742: \n",
            "Parameters: { \"normalize_type\", \"rate_drop\", \"sample_type\", \"skip_drop\" } are not used.\n",
            "\n"
          ]
        },
        {
          "name": "stdout",
          "output_type": "stream",
          "text": [
            "[I 2025-09-18 23:19:37,887] Trial 55 finished with value: 7.333575560927166 and parameters: {'booster': 'gbtree', 'max_depth': 9, 'min_child_weight': 2, 'gamma': 4.5, 'learning_rate': 0.02354460307413815, 'n_estimators': 2300, 'subsample': 1.0, 'colsample_bytree': 0.75, 'colsample_bylevel': 0.6, 'colsample_bynode': 0.8500000000000001, 'reg_alpha': 0.0015732137977806247, 'reg_lambda': 7.644025748156984e-08, 'sample_type': 'uniform', 'normalize_type': 'tree', 'rate_drop': 0.05, 'skip_drop': 0.0}. Best is trial 33 with value: 7.193836966198073.\n"
          ]
        },
        {
          "name": "stderr",
          "output_type": "stream",
          "text": [
            "`early_stopping_rounds` in `fit` method is deprecated for better compatibility with scikit-learn, use `early_stopping_rounds` in constructor or`set_params` instead.\n",
            "[23:19:38] WARNING: /workspace/src/learner.cc:742: \n",
            "Parameters: { \"normalize_type\", \"rate_drop\", \"sample_type\", \"skip_drop\" } are not used.\n",
            "\n"
          ]
        },
        {
          "name": "stdout",
          "output_type": "stream",
          "text": [
            "[I 2025-09-18 23:20:00,949] Trial 56 finished with value: 7.543611448995057 and parameters: {'booster': 'gbtree', 'max_depth': 11, 'min_child_weight': 5, 'gamma': 6.5, 'learning_rate': 0.0032211761382512794, 'n_estimators': 2500, 'subsample': 0.95, 'colsample_bytree': 0.9, 'colsample_bylevel': 0.65, 'colsample_bynode': 0.9, 'reg_alpha': 0.007913877169882942, 'reg_lambda': 0.00010763790422168689, 'sample_type': 'uniform', 'normalize_type': 'tree', 'rate_drop': 0.0, 'skip_drop': 0.2}. Best is trial 33 with value: 7.193836966198073.\n"
          ]
        },
        {
          "name": "stderr",
          "output_type": "stream",
          "text": [
            "`early_stopping_rounds` in `fit` method is deprecated for better compatibility with scikit-learn, use `early_stopping_rounds` in constructor or`set_params` instead.\n",
            "[23:20:01] WARNING: /workspace/src/learner.cc:742: \n",
            "Parameters: { \"normalize_type\", \"rate_drop\", \"sample_type\", \"skip_drop\" } are not used.\n",
            "\n"
          ]
        },
        {
          "name": "stdout",
          "output_type": "stream",
          "text": [
            "[I 2025-09-18 23:20:11,367] Trial 57 finished with value: 7.647147683003995 and parameters: {'booster': 'gbtree', 'max_depth': 8, 'min_child_weight': 1, 'gamma': 6.0, 'learning_rate': 0.006583322387770582, 'n_estimators': 2700, 'subsample': 0.9, 'colsample_bytree': 0.8, 'colsample_bylevel': 0.55, 'colsample_bynode': 0.5, 'reg_alpha': 0.057771718857186564, 'reg_lambda': 9.895171125950432e-07, 'sample_type': 'uniform', 'normalize_type': 'tree', 'rate_drop': 0.15000000000000002, 'skip_drop': 0.30000000000000004}. Best is trial 33 with value: 7.193836966198073.\n"
          ]
        },
        {
          "name": "stderr",
          "output_type": "stream",
          "text": [
            "`early_stopping_rounds` in `fit` method is deprecated for better compatibility with scikit-learn, use `early_stopping_rounds` in constructor or`set_params` instead.\n"
          ]
        },
        {
          "name": "stdout",
          "output_type": "stream",
          "text": [
            "[I 2025-09-18 23:22:52,900] Trial 58 finished with value: 7.454379675132613 and parameters: {'booster': 'dart', 'max_depth': 13, 'min_child_weight': 2, 'gamma': 4.5, 'learning_rate': 0.11068505769080059, 'n_estimators': 2400, 'subsample': 1.0, 'colsample_bytree': 0.95, 'colsample_bylevel': 0.5, 'colsample_bynode': 0.95, 'reg_alpha': 0.1338384511142414, 'reg_lambda': 2.856826246960855e-06, 'sample_type': 'uniform', 'normalize_type': 'tree', 'rate_drop': 0.1, 'skip_drop': 0.5}. Best is trial 33 with value: 7.193836966198073.\n"
          ]
        }
      ],
      "source": [
        "# ====== Run Optuna ======\n",
        "\n",
        "obj=\"xgb\"\n",
        "import warnings\n",
        "warnings.filterwarnings(\"ignore\", category=UserWarning, module=\"optuna\")\n",
        "\n",
        "if obj==\"xgb\":\n",
        "    study = optuna.create_study(direction=\"minimize\")\n",
        "    study.optimize(xgb_objective, n_trials=50000,timeout=18000, show_progress_bar=True)\n",
        "\n",
        "elif obj==\"rf\":\n",
        "    study = optuna.create_study(direction=\"minimize\")\n",
        "    study.optimize(rf_objective, n_trials=50000,timeout=18000, show_progress_bar=True)\n",
        "elif obj==\"etr\":\n",
        "    study = optuna.create_study(direction=\"minimize\")\n",
        "    study.optimize(rf_objective, n_trials=50000,timeout=18000, show_progress_bar=True)\n",
        "\n"
      ]
    },
    {
      "cell_type": "code",
      "execution_count": 10,
      "id": "76b63891",
      "metadata": {
        "execution": {
          "iopub.execute_input": "2025-09-18T23:22:52.941652Z",
          "iopub.status.busy": "2025-09-18T23:22:52.941352Z",
          "iopub.status.idle": "2025-09-18T23:23:09.437843Z",
          "shell.execute_reply": "2025-09-18T23:23:09.436799Z"
        },
        "papermill": {
          "duration": 16.510071,
          "end_time": "2025-09-18T23:23:09.439802",
          "exception": false,
          "start_time": "2025-09-18T23:22:52.929731",
          "status": "completed"
        },
        "tags": []
      },
      "outputs": [
        {
          "name": "stdout",
          "output_type": "stream",
          "text": [
            "Best parameters: {'booster': 'gbtree', 'max_depth': 11, 'min_child_weight': 2, 'gamma': 3.0, 'learning_rate': 0.006739112714920427, 'n_estimators': 2100, 'subsample': 0.95, 'colsample_bytree': 0.95, 'colsample_bylevel': 0.6, 'colsample_bynode': 0.8500000000000001, 'reg_alpha': 0.1519537146317171, 'reg_lambda': 1.6980068624096836e-05, 'sample_type': 'weighted', 'normalize_type': 'forest', 'rate_drop': 0.45, 'skip_drop': 0.2}\n",
            "Best validation MAE: 7.193836966198073\n"
          ]
        },
        {
          "name": "stderr",
          "output_type": "stream",
          "text": [
            "[23:22:52] WARNING: /workspace/src/learner.cc:742: \n",
            "Parameters: { \"normalize_type\", \"rate_drop\", \"sample_type\", \"skip_drop\" } are not used.\n",
            "\n"
          ]
        }
      ],
      "source": [
        "best_params = study.best_trial.params\n",
        "print(\"Best parameters:\", best_params)\n",
        "print(\"Best validation MAE:\", study.best_value)\n",
        "\n",
        "from sklearn.preprocessing import StandardScaler\n",
        "from xgboost import XGBRegressor\n",
        "\n",
        "# Scale the data first\n",
        "scaler = StandardScaler()\n",
        "X_train_scaled = scaler.fit_transform(X_train)\n",
        "X_val_scaled = scaler.transform(X_val)\n",
        "\n",
        "\n",
        "\n",
        "\n",
        "if obj == \"xgb\":\n",
        "    best_model = XGBRegressor(**best_params)\n",
        "    best_model.fit(\n",
        "        X_train_scaled, y_train,\n",
        "        eval_set=[(X_val_scaled, y_val)],\n",
        "        verbose=False\n",
        "    )\n",
        "    \n",
        "elif obj == \"rf\":\n",
        "    best_model = RandomForestRegressor(\n",
        "        **{k: v for k, v in best_params.items() if v is not None},\n",
        "        random_state=42, n_jobs=-1\n",
        "    )\n",
        "    best_model.fit(X_train_scaled, y_train)\n",
        "    \n",
        "elif obj == \"etr\":\n",
        "    best_model = ExtraTreesRegressor(**best_params)\n",
        "    best_model.fit(X_train_scaled, y_train)\n"
      ]
    },
    {
      "cell_type": "code",
      "execution_count": 11,
      "id": "4c7d2178",
      "metadata": {
        "execution": {
          "iopub.execute_input": "2025-09-18T23:23:09.462675Z",
          "iopub.status.busy": "2025-09-18T23:23:09.462346Z",
          "iopub.status.idle": "2025-09-18T23:23:09.736938Z",
          "shell.execute_reply": "2025-09-18T23:23:09.735897Z"
        },
        "papermill": {
          "duration": 0.288207,
          "end_time": "2025-09-18T23:23:09.738796",
          "exception": false,
          "start_time": "2025-09-18T23:23:09.450589",
          "status": "completed"
        },
        "tags": []
      },
      "outputs": [
        {
          "name": "stderr",
          "output_type": "stream",
          "text": [
            "X does not have valid feature names, but StandardScaler was fitted with feature names\n",
            "X does not have valid feature names, but StandardScaler was fitted with feature names\n"
          ]
        },
        {
          "name": "stdout",
          "output_type": "stream",
          "text": [
            "Training\n",
            "Mean Absolute Error (MAE): 1.2116\n",
            "Median Absolute Percentage Error (MAPE): 0.0191\n",
            "R2 Score: 0.9982\n",
            "=========================\n",
            "Validation\n",
            "Mean Absolute Error (MAE): 7.1973\n",
            "Median Absolute Percentage Error (MAPE): 0.0854\n",
            "R2 Score: 0.9088\n",
            "=========================\n",
            "Test\n",
            "Mean Absolute Error (MAE): 7.7484\n",
            "Median Absolute Percentage Error (MAPE): 0.0867\n",
            "R2 Score: 0.9008\n",
            "=========================\n"
          ]
        },
        {
          "name": "stderr",
          "output_type": "stream",
          "text": [
            "X does not have valid feature names, but StandardScaler was fitted with feature names\n"
          ]
        }
      ],
      "source": [
        "score_generator(X_train,y_train,best_model,\"Training\")\n",
        "score_generator(X_val,y_val,best_model,\"Validation\")\n",
        "score_generator(X_test,y_test,best_model,\"Test\")"
      ]
    }
  ],
  "metadata": {
    "kaggle": {
      "accelerator": "none",
      "dataSources": [
        {
          "datasetId": 7841219,
          "sourceId": 12431061,
          "sourceType": "datasetVersion"
        },
        {
          "sourceId": 251888055,
          "sourceType": "kernelVersion"
        }
      ],
      "dockerImageVersionId": 31089,
      "isGpuEnabled": false,
      "isInternetEnabled": true,
      "language": "python",
      "sourceType": "notebook"
    },
    "kernelspec": {
      "display_name": "Python 3",
      "language": "python",
      "name": "python3"
    },
    "language_info": {
      "codemirror_mode": {
        "name": "ipython",
        "version": 3
      },
      "file_extension": ".py",
      "mimetype": "text/x-python",
      "name": "python",
      "nbconvert_exporter": "python",
      "pygments_lexer": "ipython3",
      "version": "3.11.13"
    },
    "papermill": {
      "default_parameters": {},
      "duration": 18142.74559,
      "end_time": "2025-09-18T23:23:12.194218",
      "environment_variables": {},
      "exception": null,
      "input_path": "__notebook__.ipynb",
      "output_path": "__notebook__.ipynb",
      "parameters": {},
      "start_time": "2025-09-18T18:20:49.448628",
      "version": "2.6.0"
    },
    "widgets": {
      "application/vnd.jupyter.widget-state+json": {
        "state": {
          "1dc38ab1c56f4434bedd3184328be16f": {
            "model_module": "@jupyter-widgets/base",
            "model_module_version": "2.0.0",
            "model_name": "LayoutModel",
            "state": {
              "_model_module": "@jupyter-widgets/base",
              "_model_module_version": "2.0.0",
              "_model_name": "LayoutModel",
              "_view_count": null,
              "_view_module": "@jupyter-widgets/base",
              "_view_module_version": "2.0.0",
              "_view_name": "LayoutView",
              "align_content": null,
              "align_items": null,
              "align_self": null,
              "border_bottom": null,
              "border_left": null,
              "border_right": null,
              "border_top": null,
              "bottom": null,
              "display": null,
              "flex": null,
              "flex_flow": null,
              "grid_area": null,
              "grid_auto_columns": null,
              "grid_auto_flow": null,
              "grid_auto_rows": null,
              "grid_column": null,
              "grid_gap": null,
              "grid_row": null,
              "grid_template_areas": null,
              "grid_template_columns": null,
              "grid_template_rows": null,
              "height": null,
              "justify_content": null,
              "justify_items": null,
              "left": null,
              "margin": null,
              "max_height": null,
              "max_width": null,
              "min_height": null,
              "min_width": null,
              "object_fit": null,
              "object_position": null,
              "order": null,
              "overflow": null,
              "padding": null,
              "right": null,
              "top": null,
              "visibility": null,
              "width": null
            }
          },
          "4c290160a0ab417ea5bad981719fc443": {
            "model_module": "@jupyter-widgets/controls",
            "model_module_version": "2.0.0",
            "model_name": "ProgressStyleModel",
            "state": {
              "_model_module": "@jupyter-widgets/controls",
              "_model_module_version": "2.0.0",
              "_model_name": "ProgressStyleModel",
              "_view_count": null,
              "_view_module": "@jupyter-widgets/base",
              "_view_module_version": "2.0.0",
              "_view_name": "StyleView",
              "bar_color": null,
              "description_width": ""
            }
          },
          "52abe8bc15484345a7656dcba80324ae": {
            "model_module": "@jupyter-widgets/controls",
            "model_module_version": "2.0.0",
            "model_name": "FloatProgressModel",
            "state": {
              "_dom_classes": [],
              "_model_module": "@jupyter-widgets/controls",
              "_model_module_version": "2.0.0",
              "_model_name": "FloatProgressModel",
              "_view_count": null,
              "_view_module": "@jupyter-widgets/controls",
              "_view_module_version": "2.0.0",
              "_view_name": "ProgressView",
              "bar_style": "danger",
              "description": "",
              "description_allow_html": false,
              "layout": "IPY_MODEL_7a4a347fdb83435299055e1f6504b9e7",
              "max": 50000,
              "min": 0,
              "orientation": "horizontal",
              "style": "IPY_MODEL_4c290160a0ab417ea5bad981719fc443",
              "tabbable": null,
              "tooltip": null,
              "value": 59
            }
          },
          "7a4a347fdb83435299055e1f6504b9e7": {
            "model_module": "@jupyter-widgets/base",
            "model_module_version": "2.0.0",
            "model_name": "LayoutModel",
            "state": {
              "_model_module": "@jupyter-widgets/base",
              "_model_module_version": "2.0.0",
              "_model_name": "LayoutModel",
              "_view_count": null,
              "_view_module": "@jupyter-widgets/base",
              "_view_module_version": "2.0.0",
              "_view_name": "LayoutView",
              "align_content": null,
              "align_items": null,
              "align_self": null,
              "border_bottom": null,
              "border_left": null,
              "border_right": null,
              "border_top": null,
              "bottom": null,
              "display": null,
              "flex": null,
              "flex_flow": null,
              "grid_area": null,
              "grid_auto_columns": null,
              "grid_auto_flow": null,
              "grid_auto_rows": null,
              "grid_column": null,
              "grid_gap": null,
              "grid_row": null,
              "grid_template_areas": null,
              "grid_template_columns": null,
              "grid_template_rows": null,
              "height": null,
              "justify_content": null,
              "justify_items": null,
              "left": null,
              "margin": null,
              "max_height": null,
              "max_width": null,
              "min_height": null,
              "min_width": null,
              "object_fit": null,
              "object_position": null,
              "order": null,
              "overflow": null,
              "padding": null,
              "right": null,
              "top": null,
              "visibility": null,
              "width": null
            }
          },
          "851e7926dc104cca9195f4065272be6e": {
            "model_module": "@jupyter-widgets/controls",
            "model_module_version": "2.0.0",
            "model_name": "HTMLModel",
            "state": {
              "_dom_classes": [],
              "_model_module": "@jupyter-widgets/controls",
              "_model_module_version": "2.0.0",
              "_model_name": "HTMLModel",
              "_view_count": null,
              "_view_module": "@jupyter-widgets/controls",
              "_view_module_version": "2.0.0",
              "_view_name": "HTMLView",
              "description": "",
              "description_allow_html": false,
              "layout": "IPY_MODEL_1dc38ab1c56f4434bedd3184328be16f",
              "placeholder": "​",
              "style": "IPY_MODEL_adfeb80713974716863306402332eed0",
              "tabbable": null,
              "tooltip": null,
              "value": " 59/50000 [5:01:41&lt;1348:56:41, 97.24s/it, 18101.12/18000 seconds]"
            }
          },
          "920753df6f10420cb7f523bdcae29ba6": {
            "model_module": "@jupyter-widgets/base",
            "model_module_version": "2.0.0",
            "model_name": "LayoutModel",
            "state": {
              "_model_module": "@jupyter-widgets/base",
              "_model_module_version": "2.0.0",
              "_model_name": "LayoutModel",
              "_view_count": null,
              "_view_module": "@jupyter-widgets/base",
              "_view_module_version": "2.0.0",
              "_view_name": "LayoutView",
              "align_content": null,
              "align_items": null,
              "align_self": null,
              "border_bottom": null,
              "border_left": null,
              "border_right": null,
              "border_top": null,
              "bottom": null,
              "display": null,
              "flex": null,
              "flex_flow": null,
              "grid_area": null,
              "grid_auto_columns": null,
              "grid_auto_flow": null,
              "grid_auto_rows": null,
              "grid_column": null,
              "grid_gap": null,
              "grid_row": null,
              "grid_template_areas": null,
              "grid_template_columns": null,
              "grid_template_rows": null,
              "height": null,
              "justify_content": null,
              "justify_items": null,
              "left": null,
              "margin": null,
              "max_height": null,
              "max_width": null,
              "min_height": null,
              "min_width": null,
              "object_fit": null,
              "object_position": null,
              "order": null,
              "overflow": null,
              "padding": null,
              "right": null,
              "top": null,
              "visibility": null,
              "width": null
            }
          },
          "adfeb80713974716863306402332eed0": {
            "model_module": "@jupyter-widgets/controls",
            "model_module_version": "2.0.0",
            "model_name": "HTMLStyleModel",
            "state": {
              "_model_module": "@jupyter-widgets/controls",
              "_model_module_version": "2.0.0",
              "_model_name": "HTMLStyleModel",
              "_view_count": null,
              "_view_module": "@jupyter-widgets/base",
              "_view_module_version": "2.0.0",
              "_view_name": "StyleView",
              "background": null,
              "description_width": "",
              "font_size": null,
              "text_color": null
            }
          },
          "c95e7cafe08442c4ae1cd2fd81fd0df2": {
            "model_module": "@jupyter-widgets/controls",
            "model_module_version": "2.0.0",
            "model_name": "HBoxModel",
            "state": {
              "_dom_classes": [],
              "_model_module": "@jupyter-widgets/controls",
              "_model_module_version": "2.0.0",
              "_model_name": "HBoxModel",
              "_view_count": null,
              "_view_module": "@jupyter-widgets/controls",
              "_view_module_version": "2.0.0",
              "_view_name": "HBoxView",
              "box_style": "",
              "children": [
                "IPY_MODEL_f6aa7acfe6ae4dc7b4136f7e910b7873",
                "IPY_MODEL_52abe8bc15484345a7656dcba80324ae",
                "IPY_MODEL_851e7926dc104cca9195f4065272be6e"
              ],
              "layout": "IPY_MODEL_920753df6f10420cb7f523bdcae29ba6",
              "tabbable": null,
              "tooltip": null
            }
          },
          "dc4ef5ada12e4750b72b507fa7ade06d": {
            "model_module": "@jupyter-widgets/base",
            "model_module_version": "2.0.0",
            "model_name": "LayoutModel",
            "state": {
              "_model_module": "@jupyter-widgets/base",
              "_model_module_version": "2.0.0",
              "_model_name": "LayoutModel",
              "_view_count": null,
              "_view_module": "@jupyter-widgets/base",
              "_view_module_version": "2.0.0",
              "_view_name": "LayoutView",
              "align_content": null,
              "align_items": null,
              "align_self": null,
              "border_bottom": null,
              "border_left": null,
              "border_right": null,
              "border_top": null,
              "bottom": null,
              "display": null,
              "flex": null,
              "flex_flow": null,
              "grid_area": null,
              "grid_auto_columns": null,
              "grid_auto_flow": null,
              "grid_auto_rows": null,
              "grid_column": null,
              "grid_gap": null,
              "grid_row": null,
              "grid_template_areas": null,
              "grid_template_columns": null,
              "grid_template_rows": null,
              "height": null,
              "justify_content": null,
              "justify_items": null,
              "left": null,
              "margin": null,
              "max_height": null,
              "max_width": null,
              "min_height": null,
              "min_width": null,
              "object_fit": null,
              "object_position": null,
              "order": null,
              "overflow": null,
              "padding": null,
              "right": null,
              "top": null,
              "visibility": null,
              "width": null
            }
          },
          "deeabe5f00274ecaa526d1f0df7ad76a": {
            "model_module": "@jupyter-widgets/controls",
            "model_module_version": "2.0.0",
            "model_name": "HTMLStyleModel",
            "state": {
              "_model_module": "@jupyter-widgets/controls",
              "_model_module_version": "2.0.0",
              "_model_name": "HTMLStyleModel",
              "_view_count": null,
              "_view_module": "@jupyter-widgets/base",
              "_view_module_version": "2.0.0",
              "_view_name": "StyleView",
              "background": null,
              "description_width": "",
              "font_size": null,
              "text_color": null
            }
          },
          "f6aa7acfe6ae4dc7b4136f7e910b7873": {
            "model_module": "@jupyter-widgets/controls",
            "model_module_version": "2.0.0",
            "model_name": "HTMLModel",
            "state": {
              "_dom_classes": [],
              "_model_module": "@jupyter-widgets/controls",
              "_model_module_version": "2.0.0",
              "_model_name": "HTMLModel",
              "_view_count": null,
              "_view_module": "@jupyter-widgets/controls",
              "_view_module_version": "2.0.0",
              "_view_name": "HTMLView",
              "description": "",
              "description_allow_html": false,
              "layout": "IPY_MODEL_dc4ef5ada12e4750b72b507fa7ade06d",
              "placeholder": "​",
              "style": "IPY_MODEL_deeabe5f00274ecaa526d1f0df7ad76a",
              "tabbable": null,
              "tooltip": null,
              "value": "Best trial: 33. Best value: 7.19384:   0%"
            }
          }
        },
        "version_major": 2,
        "version_minor": 0
      }
    }
  },
  "nbformat": 4,
  "nbformat_minor": 5
}
